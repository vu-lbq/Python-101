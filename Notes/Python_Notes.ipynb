{
 "cells": [
  {
   "cell_type": "markdown",
   "metadata": {
    "toc": true
   },
   "source": [
    "<h1>Table of Contents<span class=\"tocSkip\"></span></h1>\n",
    "<div class=\"toc\"><ul class=\"toc-item\"><li><span><a href=\"#DISCLAIMER\" data-toc-modified-id=\"DISCLAIMER-1\"><span class=\"toc-item-num\">1&nbsp;&nbsp;</span>DISCLAIMER</a></span></li><li><span><a href=\"#General-Python-Concepts\" data-toc-modified-id=\"General-Python-Concepts-2\"><span class=\"toc-item-num\">2&nbsp;&nbsp;</span>General Python Concepts</a></span><ul class=\"toc-item\"><li><span><a href=\"#Indentation\" data-toc-modified-id=\"Indentation-2.1\"><span class=\"toc-item-num\">2.1&nbsp;&nbsp;</span>Indentation</a></span></li><li><span><a href=\"#Common-Nomenclature\" data-toc-modified-id=\"Common-Nomenclature-2.2\"><span class=\"toc-item-num\">2.2&nbsp;&nbsp;</span>Common Nomenclature</a></span><ul class=\"toc-item\"><li><span><a href=\"#Iterable\" data-toc-modified-id=\"Iterable-2.2.1\"><span class=\"toc-item-num\">2.2.1&nbsp;&nbsp;</span>Iterable</a></span><ul class=\"toc-item\"><li><span><a href=\"#In-more-detail\" data-toc-modified-id=\"In-more-detail-2.2.1.1\"><span class=\"toc-item-num\">2.2.1.1&nbsp;&nbsp;</span>In more detail</a></span></li></ul></li><li><span><a href=\"#Sequence\" data-toc-modified-id=\"Sequence-2.2.2\"><span class=\"toc-item-num\">2.2.2&nbsp;&nbsp;</span>Sequence</a></span></li><li><span><a href=\"#Function\" data-toc-modified-id=\"Function-2.2.3\"><span class=\"toc-item-num\">2.2.3&nbsp;&nbsp;</span>Function</a></span></li><li><span><a href=\"#Class\" data-toc-modified-id=\"Class-2.2.4\"><span class=\"toc-item-num\">2.2.4&nbsp;&nbsp;</span>Class</a></span></li><li><span><a href=\"#Class-instance\" data-toc-modified-id=\"Class-instance-2.2.5\"><span class=\"toc-item-num\">2.2.5&nbsp;&nbsp;</span>Class instance</a></span></li><li><span><a href=\"#Method\" data-toc-modified-id=\"Method-2.2.6\"><span class=\"toc-item-num\">2.2.6&nbsp;&nbsp;</span>Method</a></span><ul class=\"toc-item\"><li><span><a href=\"#Use-of-self\" data-toc-modified-id=\"Use-of-self-2.2.6.1\"><span class=\"toc-item-num\">2.2.6.1&nbsp;&nbsp;</span>Use of <code>self</code></a></span></li><li><span><a href=\"#A-more-advanced-scenario\" data-toc-modified-id=\"A-more-advanced-scenario-2.2.6.2\"><span class=\"toc-item-num\">2.2.6.2&nbsp;&nbsp;</span>A more advanced scenario</a></span></li></ul></li><li><span><a href=\"#Special-method\" data-toc-modified-id=\"Special-method-2.2.7\"><span class=\"toc-item-num\">2.2.7&nbsp;&nbsp;</span>Special method</a></span></li><li><span><a href=\"#Generator\" data-toc-modified-id=\"Generator-2.2.8\"><span class=\"toc-item-num\">2.2.8&nbsp;&nbsp;</span>Generator</a></span></li><li><span><a href=\"#Iterator\" data-toc-modified-id=\"Iterator-2.2.9\"><span class=\"toc-item-num\">2.2.9&nbsp;&nbsp;</span>Iterator</a></span></li></ul></li><li><span><a href=\"#Common-error-messages\" data-toc-modified-id=\"Common-error-messages-2.3\"><span class=\"toc-item-num\">2.3&nbsp;&nbsp;</span>Common error messages</a></span><ul class=\"toc-item\"><li><span><a href=\"#IndentationError\" data-toc-modified-id=\"IndentationError-2.3.1\"><span class=\"toc-item-num\">2.3.1&nbsp;&nbsp;</span><code>IndentationError</code></a></span></li><li><span><a href=\"#SyntaxError\" data-toc-modified-id=\"SyntaxError-2.3.2\"><span class=\"toc-item-num\">2.3.2&nbsp;&nbsp;</span><code>SyntaxError</code></a></span></li><li><span><a href=\"#IndexError\" data-toc-modified-id=\"IndexError-2.3.3\"><span class=\"toc-item-num\">2.3.3&nbsp;&nbsp;</span><code>IndexError</code></a></span></li><li><span><a href=\"#ValueError\" data-toc-modified-id=\"ValueError-2.3.4\"><span class=\"toc-item-num\">2.3.4&nbsp;&nbsp;</span><code>ValueError</code></a></span></li><li><span><a href=\"#TypeError\" data-toc-modified-id=\"TypeError-2.3.5\"><span class=\"toc-item-num\">2.3.5&nbsp;&nbsp;</span><code>TypeError</code></a></span></li></ul></li></ul></li><li><span><a href=\"#Collection-of-Python-Code-Snippets\" data-toc-modified-id=\"Collection-of-Python-Code-Snippets-3\"><span class=\"toc-item-num\">3&nbsp;&nbsp;</span>Collection of Python Code Snippets</a></span><ul class=\"toc-item\"><li><span><a href=\"#Iteration\" data-toc-modified-id=\"Iteration-3.1\"><span class=\"toc-item-num\">3.1&nbsp;&nbsp;</span>Iteration</a></span><ul class=\"toc-item\"><li><span><a href=\"#Simplest-forms-of-iteration\" data-toc-modified-id=\"Simplest-forms-of-iteration-3.1.1\"><span class=\"toc-item-num\">3.1.1&nbsp;&nbsp;</span>Simplest forms of iteration</a></span></li><li><span><a href=\"#Iteration-while-keeping-track-of-index\" data-toc-modified-id=\"Iteration-while-keeping-track-of-index-3.1.2\"><span class=\"toc-item-num\">3.1.2&nbsp;&nbsp;</span>Iteration while keeping track of index</a></span></li><li><span><a href=\"#Iterating-over-multiple-iterables-at-once\" data-toc-modified-id=\"Iterating-over-multiple-iterables-at-once-3.1.3\"><span class=\"toc-item-num\">3.1.3&nbsp;&nbsp;</span>Iterating over multiple iterables at once</a></span></li><li><span><a href=\"#Iterating-over-multiple-iterables-while-keeping-track-of-index\" data-toc-modified-id=\"Iterating-over-multiple-iterables-while-keeping-track-of-index-3.1.4\"><span class=\"toc-item-num\">3.1.4&nbsp;&nbsp;</span>Iterating over multiple iterables while keeping track of index</a></span></li></ul></li><li><span><a href=\"#Printing-and-formatting\" data-toc-modified-id=\"Printing-and-formatting-3.2\"><span class=\"toc-item-num\">3.2&nbsp;&nbsp;</span>Printing and formatting</a></span><ul class=\"toc-item\"><li><span><a href=\"#Printing-strings-containing-variables\" data-toc-modified-id=\"Printing-strings-containing-variables-3.2.1\"><span class=\"toc-item-num\">3.2.1&nbsp;&nbsp;</span>Printing strings containing variables</a></span></li><li><span><a href=\"#Rounding-anf-formating-numeric-string-values\" data-toc-modified-id=\"Rounding-anf-formating-numeric-string-values-3.2.2\"><span class=\"toc-item-num\">3.2.2&nbsp;&nbsp;</span>Rounding anf formating numeric string values</a></span></li></ul></li><li><span><a href=\"#List-comprehensions\" data-toc-modified-id=\"List-comprehensions-3.3\"><span class=\"toc-item-num\">3.3&nbsp;&nbsp;</span>List comprehensions</a></span><ul class=\"toc-item\"><li><span><a href=\"#Simple-form\" data-toc-modified-id=\"Simple-form-3.3.1\"><span class=\"toc-item-num\">3.3.1&nbsp;&nbsp;</span>Simple form</a></span></li><li><span><a href=\"#Form-with-conditional-if-statement\" data-toc-modified-id=\"Form-with-conditional-if-statement-3.3.2\"><span class=\"toc-item-num\">3.3.2&nbsp;&nbsp;</span>Form with conditional <code>if</code> statement</a></span></li><li><span><a href=\"#Form-with-conditional-if-/-else-statement\" data-toc-modified-id=\"Form-with-conditional-if-/-else-statement-3.3.3\"><span class=\"toc-item-num\">3.3.3&nbsp;&nbsp;</span>Form with conditional <code>if</code> / <code>else</code> statement</a></span></li><li><span><a href=\"#List-comprehensions-with-multiple-if-/-else-statements\" data-toc-modified-id=\"List-comprehensions-with-multiple-if-/-else-statements-3.3.4\"><span class=\"toc-item-num\">3.3.4&nbsp;&nbsp;</span>List comprehensions with multiple <code>if</code> / <code>else</code> statements</a></span></li><li><span><a href=\"#Nested-list-comprehensions\" data-toc-modified-id=\"Nested-list-comprehensions-3.3.5\"><span class=\"toc-item-num\">3.3.5&nbsp;&nbsp;</span>Nested list comprehensions</a></span></li></ul></li><li><span><a href=\"#Dictionaries\" data-toc-modified-id=\"Dictionaries-3.4\"><span class=\"toc-item-num\">3.4&nbsp;&nbsp;</span>Dictionaries</a></span><ul class=\"toc-item\"><li><span><a href=\"#Create-a-dictionary-from-two-lists\" data-toc-modified-id=\"Create-a-dictionary-from-two-lists-3.4.1\"><span class=\"toc-item-num\">3.4.1&nbsp;&nbsp;</span>Create a dictionary from two lists</a></span></li></ul></li><li><span><a href=\"#Functions\" data-toc-modified-id=\"Functions-3.5\"><span class=\"toc-item-num\">3.5&nbsp;&nbsp;</span>Functions</a></span><ul class=\"toc-item\"><li><span><a href=\"#Default-arguments\" data-toc-modified-id=\"Default-arguments-3.5.1\"><span class=\"toc-item-num\">3.5.1&nbsp;&nbsp;</span>Default arguments</a></span><ul class=\"toc-item\"><li><span><a href=\"#A-little-side-note\" data-toc-modified-id=\"A-little-side-note-3.5.1.1\"><span class=\"toc-item-num\">3.5.1.1&nbsp;&nbsp;</span>A little side note</a></span></li></ul></li><li><span><a href=\"#Examples\" data-toc-modified-id=\"Examples-3.5.2\"><span class=\"toc-item-num\">3.5.2&nbsp;&nbsp;</span>Examples</a></span></li></ul></li><li><span><a href=\"#Tables-as-Pandas-dataframes\" data-toc-modified-id=\"Tables-as-Pandas-dataframes-3.6\"><span class=\"toc-item-num\">3.6&nbsp;&nbsp;</span>Tables as <code>Pandas</code> dataframes</a></span><ul class=\"toc-item\"><li><span><a href=\"#merge,-join-and-concat\" data-toc-modified-id=\"merge,-join-and-concat-3.6.1\"><span class=\"toc-item-num\">3.6.1&nbsp;&nbsp;</span><code>merge</code>, <code>join</code> and <code>concat</code></a></span><ul class=\"toc-item\"><li><span><a href=\"#Functionality-similar-to-VLOOKUP-in-Excel\" data-toc-modified-id=\"Functionality-similar-to-VLOOKUP-in-Excel-3.6.1.1\"><span class=\"toc-item-num\">3.6.1.1&nbsp;&nbsp;</span>Functionality similar to VLOOKUP in Excel</a></span></li></ul></li></ul></li><li><span><a href=\"#Plotting-with-Matplotlib\" data-toc-modified-id=\"Plotting-with-Matplotlib-3.7\"><span class=\"toc-item-num\">3.7&nbsp;&nbsp;</span>Plotting with <code>Matplotlib</code></a></span><ul class=\"toc-item\"><li><span><a href=\"#Simplest-forms-of-graphs\" data-toc-modified-id=\"Simplest-forms-of-graphs-3.7.1\"><span class=\"toc-item-num\">3.7.1&nbsp;&nbsp;</span>Simplest forms of graphs</a></span></li><li><span><a href=\"#Multiple-plots-in-same-figure\" data-toc-modified-id=\"Multiple-plots-in-same-figure-3.7.2\"><span class=\"toc-item-num\">3.7.2&nbsp;&nbsp;</span>Multiple plots in same figure</a></span></li><li><span><a href=\"#Subplots\" data-toc-modified-id=\"Subplots-3.7.3\"><span class=\"toc-item-num\">3.7.3&nbsp;&nbsp;</span>Subplots</a></span></li><li><span><a href=\"#Heatmaps/colormaps\" data-toc-modified-id=\"Heatmaps/colormaps-3.7.4\"><span class=\"toc-item-num\">3.7.4&nbsp;&nbsp;</span>Heatmaps/colormaps</a></span></li><li><span><a href=\"#Integration-with-Pandas\" data-toc-modified-id=\"Integration-with-Pandas-3.7.5\"><span class=\"toc-item-num\">3.7.5&nbsp;&nbsp;</span>Integration with <code>Pandas</code></a></span></li></ul></li><li><span><a href=\"#Numerical-computations\" data-toc-modified-id=\"Numerical-computations-3.8\"><span class=\"toc-item-num\">3.8&nbsp;&nbsp;</span>Numerical computations</a></span><ul class=\"toc-item\"><li><span><a href=\"#Numpy\" data-toc-modified-id=\"Numpy-3.8.1\"><span class=\"toc-item-num\">3.8.1&nbsp;&nbsp;</span>Numpy</a></span></li><li><span><a href=\"#Scipy\" data-toc-modified-id=\"Scipy-3.8.2\"><span class=\"toc-item-num\">3.8.2&nbsp;&nbsp;</span>Scipy</a></span></li></ul></li></ul></li></ul></div>"
   ]
  },
  {
   "cell_type": "markdown",
   "metadata": {},
   "source": [
    "# DISCLAIMER\n",
    "\n",
    "***THIS DOCUMENT IS WORK-IN-PROGRESS***\n",
    "\n",
    "# General Python Concepts\n",
    "\n",
    "## Indentation\n",
    "The syntax used in Python relies heavily on indentation. If the code is not indented 100% correctly, running it will result in an error.\n",
    "\n",
    "Every block of code that follows a `:` needs to be indented. The standard indent is equal four spaces, which is default in most editors.\n",
    "A code block can be e.g. a conditional statement:\n",
    "\n",
    "~~~python\n",
    "if a > 0:       # <- Remember colon after the condition\n",
    "    print(a)    # <- Indent by four spaces inside if-block\n",
    "    print(2*a)  # <- All code in the block must be indented\n",
    "    \n",
    "b = 2           # <- This code is outside the if-block\n",
    "~~~\n",
    "\n",
    "If this indentation is not followed, an error will be thrown. IF for instance the variable `b` outside the `if` statement was indented only a single space, running the code would result in an `IndentationError`. \n",
    "\n",
    "After having typed the colon, hitting enter in the editor should automatically indent the code correctly. \n",
    "\n",
    "Getting used to this indentation can be a little hard at first, but quickly becomes second nature. Such kind of strictness in the syntax is common for all programming languages. Many other languages use parantheses or brackets of some kind or `begin`/`end` statements to keep blocks of code separated, which can become a little messier to look at. Some might argue that Python keeps the strictness to a minimum and that following the forced indentation scheme only helps keeping the code neat and tidy. Something that one should also strive to do in other languages. \n",
    "\n",
    "The same concept of `:` followed by indentation goes for `for` and `while` loops, functions, classes etc.\n",
    "\n",
    "## Common Nomenclature\n",
    "\n",
    "### Iterable\n",
    "\n",
    "An ***iterable*** is an object that can be iterated/looped over. This could be strings, lists, tuples, keys of a dictionary etc. It can occur in a for loop like this:\n",
    "\n",
    "~~~python\n",
    "for item in iterable:\n",
    "    # Some code\n",
    "~~~\n",
    "\n",
    "#### In more detail     \n",
    "An ***iterable*** is an object that has an `__iter__()` method attached to it. Understanding the constuct of Python `classes` is paramount to fully understand iterables.  \n",
    "\n",
    "\n",
    "### Sequence\n",
    "A construct that supports indexing and slicing. Most important ones are strings, lists, tuples. \n",
    "\n",
    "\n",
    "### Function \n",
    "A ***function*** is a block of code that is first defined, and thereafter can be called to run as many times as needed. A function might have arguments, some of which can be optional if a default value is specified.\n",
    "A function is called by parantheses: `function_name()`. Arguments are placed inside the paranthes and comma separated if there are more than one.\n",
    "Similar to `f(x, y)` from mathematics.\n",
    "\n",
    "A function can return one or more values to the caller. The values to return are put in the `return` statement, which ends the function. If no `return` statement is given, the function will return `None`.\n",
    "\n",
    "The general syntax of a function is:\n",
    "\n",
    "~~~python\n",
    "def function_name(arg1, arg2, optional_arg1=0, optional_arg2=None):\n",
    "    '''\n",
    "    This is the so-called 'docstring', which documents concisely what the function does.\n",
    "    It is basically a multiline comment.\n",
    "    '''\n",
    "    \n",
    "    # Function code goes here\n",
    "    \n",
    "    # Possible 'return' statement which terminates the function. \n",
    "    # If 'return' is not specified, function returns None.\n",
    "    return value_to_return\n",
    "~~~\n",
    "\n",
    "If multiple values are to be returned, they can be separeted by commas. The returned entity will by default be a tuple.\n",
    "\n",
    "**Note:** When using default arguments, it is good practice to only use immutable types as defaults. Using mutable types can have unexpected and hard-to-detect side effects.\n"
   ]
  },
  {
   "cell_type": "markdown",
   "metadata": {},
   "source": [
    "### Class\n",
    "A `class` is a convenient way to create customized objects in Python. When classes are being used in code the programming style is referred to as ***Object Oriented Programming (OOP)***.\n",
    "\n",
    "Some **benenits** of OOP:\n",
    "\n",
    "* Code that is naturally tied can bunched together. If one has multiple functions that can perform related but still different opertions, they can be grouped inside a class and turned to methods. It makes the code more modular.\n",
    "\n",
    "* It avoids a lot of code repetition. \n",
    "\n",
    "* It can make it easier for users of the code to directly create objects and work with them. \n",
    "\n",
    "Some **drawbacks** of OOP:\n",
    "\n",
    "* The concept is harder to grasp compared to working with standard functions.\n",
    "\n",
    "* Will often create many lines of code\n",
    "\n",
    "OOP is mostly used for actual software programs and perhaps less so for standard single-file scripting. \n",
    "\n",
    "Regardless whether ones has to use it directly or not, knowing the concept of OOP is still very integral to understanding how Python works. Many built-in features and third party libraries use this concept.\n",
    "\n",
    "Consider the example below where a class for concrete sections is created:"
   ]
  },
  {
   "cell_type": "code",
   "execution_count": 1,
   "metadata": {},
   "outputs": [
    {
     "name": "stdout",
     "output_type": "stream",
     "text": [
      "<class '__main__.ConcreteSection'>\n"
     ]
    }
   ],
   "source": [
    "class ConcreteSection():\n",
    "    \n",
    "    def __init__(self, b, h):\n",
    "        self.b = b\n",
    "        self.h = h\n",
    "       \n",
    "    \n",
    "# Print to see what it is\n",
    "print(ConcreteSection)"
   ]
  },
  {
   "cell_type": "markdown",
   "metadata": {},
   "source": [
    "`__init__()` is a special method that _initiates_ the the class instance. See explanations below for these concepts."
   ]
  },
  {
   "cell_type": "markdown",
   "metadata": {},
   "source": [
    "### Class instance"
   ]
  },
  {
   "cell_type": "markdown",
   "metadata": {},
   "source": [
    "Defining a class like `ConcreteSection` above allows for creating many different concrete sections and storing them in variables:"
   ]
  },
  {
   "cell_type": "code",
   "execution_count": 2,
   "metadata": {},
   "outputs": [
    {
     "name": "stdout",
     "output_type": "stream",
     "text": [
      "<__main__.ConcreteSection object at 0x0000021B3FE197B8>\n"
     ]
    }
   ],
   "source": [
    "# Create a concrete section with width 100 and height 200\n",
    "section1 = ConcreteSection(100, 200)\n",
    "\n",
    "print(section1)"
   ]
  },
  {
   "cell_type": "markdown",
   "metadata": {},
   "source": [
    "The variable `section1` is called an ***instance*** of the `ConcreteSection` class. \n",
    "\n",
    "The height of the cross section stored in `section1` can be accesssed as"
   ]
  },
  {
   "cell_type": "code",
   "execution_count": 3,
   "metadata": {},
   "outputs": [
    {
     "name": "stdout",
     "output_type": "stream",
     "text": [
      "200\n"
     ]
    }
   ],
   "source": [
    "print(section1.h)"
   ]
  },
  {
   "cell_type": "markdown",
   "metadata": {},
   "source": [
    "### Method  \n",
    "A ***method*** is similar to a _function_, except it resides inside a _class_.\n",
    "\n",
    "A _method_ is called by 'dot'-notation: `class_instance.method_name()`\n",
    "\n",
    "An example of a _class_ is the predefined `list` in Python.\n",
    "The _list_ class has many methods, for example `list.append()` where `append()` is a 'function' written and contained inside the `list`_-class_, therefore called a _method_ instead of a _function_.\n",
    "The fact that a list is a _class_ can be seen by"
   ]
  },
  {
   "cell_type": "code",
   "execution_count": 4,
   "metadata": {},
   "outputs": [
    {
     "name": "stdout",
     "output_type": "stream",
     "text": [
      "<class 'list'>\n"
     ]
    }
   ],
   "source": [
    "# Define a list\n",
    "w = [1, 2, 3]\n",
    "\n",
    "# Print the type of the variable 'w' \n",
    "print(type(w))"
   ]
  },
  {
   "cell_type": "code",
   "execution_count": 5,
   "metadata": {},
   "outputs": [
    {
     "name": "stdout",
     "output_type": "stream",
     "text": [
      "[1, 2, 3, 4]\n"
     ]
    }
   ],
   "source": [
    "# Use the 'append' method\n",
    "w.append(4)\n",
    "print(w)"
   ]
  },
  {
   "cell_type": "markdown",
   "metadata": {},
   "source": [
    "Continuing from the `ConcreteSection` class above, we could write a method that calculates and returns the area of the section:"
   ]
  },
  {
   "cell_type": "code",
   "execution_count": 6,
   "metadata": {},
   "outputs": [],
   "source": [
    "class ConcreteSection():\n",
    "    \n",
    "    def __init__(self, b, h):\n",
    "        self.b = b\n",
    "        self.h = h\n",
    "    \n",
    "    def area(self):\n",
    "        '''\n",
    "        This method returns the area of the concrete section.\n",
    "        '''\n",
    "        return self.b * self.h"
   ]
  },
  {
   "cell_type": "markdown",
   "metadata": {},
   "source": [
    "#### Use of `self`\n",
    "\n",
    "Notice the use of `self` as the first argument to both the special `__init__` method and the standard `area` method. Think of `self` is the instance _itself_. \n",
    "\n",
    "So after an instance (section) is created, computation of the area for that section does not need to have the width and the height as input. These values are already stored inside the instance, i.e. inside `self`. They can then be referred to as `self.b` and `self.h`. \n",
    "\n",
    "This is a showcase of one of the advantages of OOP. It does require writing a lot of boiler-plate code to set it up, but afterwards it is easier to use since one can work directly with objects.\n",
    "\n",
    "The 'ease' of use is demonstrated below: "
   ]
  },
  {
   "cell_type": "code",
   "execution_count": 7,
   "metadata": {},
   "outputs": [
    {
     "name": "stdout",
     "output_type": "stream",
     "text": [
      "500000\n"
     ]
    }
   ],
   "source": [
    "# Define an instance of the ConcreteSection class \n",
    "sect = ConcreteSection(b=500, h=1000)\n",
    "\n",
    "# Use the 'area' method to calculate the area of the instance\n",
    "print(sect.area())"
   ]
  },
  {
   "cell_type": "markdown",
   "metadata": {},
   "source": [
    "Print some info for the section:"
   ]
  },
  {
   "cell_type": "code",
   "execution_count": 8,
   "metadata": {},
   "outputs": [
    {
     "name": "stdout",
     "output_type": "stream",
     "text": [
      "The section has dimensions (b, h)=(500, 1000) and an area of 500000\n"
     ]
    }
   ],
   "source": [
    "print(f'The section has dimensions (b, h)=({sect.b}, {sect.h}) and an area of {sect.area()}')"
   ]
  },
  {
   "cell_type": "markdown",
   "metadata": {},
   "source": [
    "#### A more advanced scenario\n",
    "In the same manner, many addtional methods could be created and tied to the instance `sect`. Ones all desired methods are written it is easy to calculate everything by simply typing `sect.method_name(...)`. \n",
    "\n",
    "Consider a more advanced scenario of the `ConcreteSection` class like:\n",
    "\n",
    "```python\n",
    "# Create section as an instance of class ConcreteSection\n",
    "sect = ConcreteSection(b, h, some_other_needed_parameters)\n",
    "\n",
    "# Perform some desired operations by calling appropriate methods of the instance (section)\n",
    "sect.plot_section()\n",
    "sect.area()\n",
    "sect.reinforcement_area()\n",
    "sect.reinforcement_ratio()\n",
    "sect.plot_mn_diagram()\n",
    "sect.plot_capacity_surface()\n",
    "sect.perform_sls_analysis(...)\n",
    "sect.largest_crack_width(...)\n",
    "sect.load_combination_with_largest_utilisation_ratio(...)\n",
    "sect.spit_out_the_entire_damn_documentation_report(...)\n",
    "```\n",
    "\n"
   ]
  },
  {
   "cell_type": "markdown",
   "metadata": {},
   "source": [
    "### Special method\n",
    "`__init__()`"
   ]
  },
  {
   "cell_type": "code",
   "execution_count": null,
   "metadata": {},
   "outputs": [],
   "source": []
  },
  {
   "cell_type": "markdown",
   "metadata": {},
   "source": [
    "### Generator\n",
    "..."
   ]
  },
  {
   "cell_type": "code",
   "execution_count": null,
   "metadata": {},
   "outputs": [],
   "source": []
  },
  {
   "cell_type": "markdown",
   "metadata": {},
   "source": [
    "### Iterator\n",
    "... `__next__()` method."
   ]
  },
  {
   "cell_type": "code",
   "execution_count": null,
   "metadata": {},
   "outputs": [],
   "source": []
  },
  {
   "cell_type": "markdown",
   "metadata": {},
   "source": [
    "## Common error messages\n",
    "Some common error messages and their meaning:\n",
    "\n",
    "### `IndentationError`    \n",
    "Occurs when atempting to run code that is uncorrectly indented. Python uses indentation to structure blocks of code instead of parantheses, brackets and end statements. Therefore, it is very strict about correct indentation. A code editor will assist so maintaining correct indentation becomes very easy.\n",
    "Make sure the editor will treat a tab as four spaces, otherwise indentation errors can be hard to spot. This configuration should be default in many editors though.  \n",
    "\n",
    "\n",
    "### `SyntaxError`       \n",
    "Occurs when syntax is incorrect. The following example will throw a `SyntaxError` since the parathesis in function call to `len()` is not closed: \n",
    "\n",
    "~~~python\n",
    "len([1, 2, 3]   # <--- Will throw SyntaxError\n",
    "~~~\n",
    "\n",
    "\n",
    "### `IndexError`\n",
    "Occurs when atempting to access an index that is not present in the sequence."
   ]
  },
  {
   "cell_type": "code",
   "execution_count": 9,
   "metadata": {},
   "outputs": [
    {
     "ename": "IndexError",
     "evalue": "list index out of range",
     "output_type": "error",
     "traceback": [
      "\u001b[1;31m---------------------------------------------------------------------------\u001b[0m",
      "\u001b[1;31mIndexError\u001b[0m                                Traceback (most recent call last)",
      "\u001b[1;32m<ipython-input-9-0328e124d272>\u001b[0m in \u001b[0;36m<module>\u001b[1;34m()\u001b[0m\n\u001b[0;32m      1\u001b[0m \u001b[0mL\u001b[0m \u001b[1;33m=\u001b[0m \u001b[1;33m[\u001b[0m\u001b[1;36m1\u001b[0m\u001b[1;33m,\u001b[0m \u001b[1;36m2\u001b[0m\u001b[1;33m,\u001b[0m \u001b[1;36m3\u001b[0m\u001b[1;33m]\u001b[0m\u001b[1;33m\u001b[0m\u001b[0m\n\u001b[1;32m----> 2\u001b[1;33m \u001b[0mL\u001b[0m\u001b[1;33m[\u001b[0m\u001b[1;36m10\u001b[0m\u001b[1;33m]\u001b[0m           \u001b[1;31m# <--- IndexError, since index 10 is not present in L\u001b[0m\u001b[1;33m\u001b[0m\u001b[0m\n\u001b[0m",
      "\u001b[1;31mIndexError\u001b[0m: list index out of range"
     ]
    }
   ],
   "source": [
    "L = [1, 2, 3]\n",
    "L[10]           # <--- IndexError, since index 10 is not present in L"
   ]
  },
  {
   "cell_type": "markdown",
   "metadata": {},
   "source": [
    "### `ValueError`   \n",
    "Occurs when .. "
   ]
  },
  {
   "cell_type": "markdown",
   "metadata": {},
   "source": [
    "### `TypeError`          \n",
    "Occurs when atempting to do an operation that is not supported by the given type. For example a function call of an integer:"
   ]
  },
  {
   "cell_type": "code",
   "execution_count": 10,
   "metadata": {},
   "outputs": [
    {
     "ename": "TypeError",
     "evalue": "'int' object is not callable",
     "output_type": "error",
     "traceback": [
      "\u001b[1;31m---------------------------------------------------------------------------\u001b[0m",
      "\u001b[1;31mTypeError\u001b[0m                                 Traceback (most recent call last)",
      "\u001b[1;32m<ipython-input-10-2388798513fb>\u001b[0m in \u001b[0;36m<module>\u001b[1;34m()\u001b[0m\n\u001b[1;32m----> 1\u001b[1;33m \u001b[1;36m4\u001b[0m\u001b[1;33m(\u001b[0m\u001b[1;33m)\u001b[0m\u001b[1;33m\u001b[0m\u001b[0m\n\u001b[0m",
      "\u001b[1;31mTypeError\u001b[0m: 'int' object is not callable"
     ]
    }
   ],
   "source": [
    "4()"
   ]
  },
  {
   "cell_type": "markdown",
   "metadata": {},
   "source": [
    "# Collection of Python Code Snippets\n",
    "Th chapters belwo contains small chunks of code that can serve as parts of bigger scripts and programs."
   ]
  },
  {
   "cell_type": "markdown",
   "metadata": {},
   "source": [
    "## Iteration"
   ]
  },
  {
   "cell_type": "markdown",
   "metadata": {},
   "source": [
    "### Simplest forms of iteration"
   ]
  },
  {
   "cell_type": "code",
   "execution_count": 11,
   "metadata": {
    "scrolled": true
   },
   "outputs": [
    {
     "name": "stdout",
     "output_type": "stream",
     "text": [
      "1\n",
      "2\n",
      "3\n"
     ]
    }
   ],
   "source": [
    "# Iterate over lists\n",
    "for i in [1, 2, 3]:\n",
    "    print(i)"
   ]
  },
  {
   "cell_type": "code",
   "execution_count": 12,
   "metadata": {},
   "outputs": [
    {
     "name": "stdout",
     "output_type": "stream",
     "text": [
      "a\n",
      "b\n",
      "c\n"
     ]
    }
   ],
   "source": [
    "# Iterate over strings\n",
    "for letter in 'abc':\n",
    "    print(letter)"
   ]
  },
  {
   "cell_type": "markdown",
   "metadata": {},
   "source": [
    "### Iteration while keeping track of index"
   ]
  },
  {
   "cell_type": "code",
   "execution_count": 13,
   "metadata": {},
   "outputs": [
    {
     "name": "stdout",
     "output_type": "stream",
     "text": [
      "0 Alpha\n",
      "1 Bravo\n",
      "2 Charlie\n"
     ]
    }
   ],
   "source": [
    "names = ['Alpha', 'Bravo', 'Charlie']\n",
    "\n",
    "idx = 0\n",
    "for name in names:\n",
    "    print(idx, name)\n",
    "    idx += 1"
   ]
  },
  {
   "cell_type": "markdown",
   "metadata": {},
   "source": [
    "A **better** way using the `enumerate` function "
   ]
  },
  {
   "cell_type": "code",
   "execution_count": 14,
   "metadata": {},
   "outputs": [
    {
     "name": "stdout",
     "output_type": "stream",
     "text": [
      "0 Alpha\n",
      "1 Bravo\n",
      "2 Charlie\n"
     ]
    }
   ],
   "source": [
    "# Use enumerate to access both index and value during iteration\n",
    "for idx, name in enumerate(names):  \n",
    "    print(idx, name)"
   ]
  },
  {
   "cell_type": "code",
   "execution_count": 15,
   "metadata": {},
   "outputs": [
    {
     "name": "stdout",
     "output_type": "stream",
     "text": [
      "1 Alpha\n",
      "2 Bravo\n",
      "3 Charlie\n"
     ]
    }
   ],
   "source": [
    "# Index starting from 1 instead of default 0\n",
    "for index, name in enumerate(names, start=1):  \n",
    "    print(index, name)"
   ]
  },
  {
   "cell_type": "markdown",
   "metadata": {},
   "source": [
    "Thus, `enumerate` keeps track of both the value and the index that is being iterated over."
   ]
  },
  {
   "cell_type": "markdown",
   "metadata": {},
   "source": [
    "### Iterating over multiple iterables at once\n",
    "Iterating over multiple iterables at once accessing the first element of all, then the second element of all etc. can be done in multiple ways. The cleanest way is using the `zip` function.\n",
    "\n",
    "An *iterable* is something that can be iterated over, e.g. lists, stings, tuples, sets etc.\n",
    "\n",
    "An example with two lists:"
   ]
  },
  {
   "cell_type": "code",
   "execution_count": 16,
   "metadata": {},
   "outputs": [
    {
     "name": "stdout",
     "output_type": "stream",
     "text": [
      "x = 1 and y = 3\n",
      "x = 2 and y = 6\n",
      "x = 3 and y = 4\n"
     ]
    }
   ],
   "source": [
    "x_values = [1, 2, 3]\n",
    "y_values = [3, 6, 4]\n",
    "\n",
    "for x, y in zip(x_values, y_values):\n",
    "    print(f'x = {x} and y = {y}')"
   ]
  },
  {
   "cell_type": "markdown",
   "metadata": {},
   "source": [
    "An example with three lists:"
   ]
  },
  {
   "cell_type": "code",
   "execution_count": 17,
   "metadata": {},
   "outputs": [
    {
     "name": "stdout",
     "output_type": "stream",
     "text": [
      "x = 1 and y = 3 and z = 10\n",
      "x = 2 and y = 6 and z = 23\n",
      "x = 3 and y = 4 and z = 26\n"
     ]
    }
   ],
   "source": [
    "x_values = [1, 2, 3]\n",
    "y_values = [3, 6, 4]\n",
    "z_values = [10, 23, 26]\n",
    "\n",
    "for x, y, z in zip(x_values, y_values, z_values):\n",
    "    print(f'x = {x} and y = {y} and z = {z}')"
   ]
  },
  {
   "cell_type": "code",
   "execution_count": 18,
   "metadata": {},
   "outputs": [
    {
     "name": "stdout",
     "output_type": "stream",
     "text": [
      "eins means one in german\n",
      "zwei means two in german\n",
      "drei means three in german\n"
     ]
    }
   ],
   "source": [
    "english = ['one', 'two', 'three']\n",
    "german = ['eins', 'zwei', 'drei']\n",
    "\n",
    "for e, g in zip(english, german):\n",
    "    print(f'{g} means {e} in german')"
   ]
  },
  {
   "cell_type": "markdown",
   "metadata": {},
   "source": [
    "### Iterating over multiple iterables while keeping track of index\n",
    "By using `enumerate` and `zip` together, multiple iteratbles can be iterated over while keeping track of the index (loop counter).\n",
    "\n",
    "In case of multiple iteratbles, `enumerate` returns the index and all values in a tuple, which then need to be unpacked. See below:"
   ]
  },
  {
   "cell_type": "code",
   "execution_count": 19,
   "metadata": {},
   "outputs": [
    {
     "name": "stdout",
     "output_type": "stream",
     "text": [
      "idx = 0   ,   val = (12, 5, 52)\n",
      "idx = 1   ,   val = (3, 3, 53)\n",
      "idx = 2   ,   val = (4, 46, 2)\n"
     ]
    }
   ],
   "source": [
    "for idx, val in enumerate(zip([12,3,4], [5, 3, 46], [52, 53, 2])):\n",
    "    print(f'idx = {idx}   ,   val = {val}')"
   ]
  },
  {
   "cell_type": "markdown",
   "metadata": {},
   "source": [
    "Another example:"
   ]
  },
  {
   "cell_type": "code",
   "execution_count": 20,
   "metadata": {},
   "outputs": [
    {
     "name": "stdout",
     "output_type": "stream",
     "text": [
      "Index 0: eins means one in german\n",
      "Index 1: zwei means two in german\n",
      "Index 2: drei means three in german\n"
     ]
    }
   ],
   "source": [
    "english = ['one', 'two', 'three']\n",
    "german = ['eins', 'zwei', 'drei']\n",
    "\n",
    "for idx, val in enumerate( zip(english, german) ):\n",
    "    print(f'Index {idx}: {val[1]} means {val[0]} in german')"
   ]
  },
  {
   "cell_type": "markdown",
   "metadata": {},
   "source": [
    "## Printing and formatting\n",
    "\n",
    "\n",
    "### Printing strings containing variables  \n",
    "There is quite often a need for printing a combination of static text and variables. This could e.g. be to output the result of a computation. Often the best way is to use the so-called `f-strings`. See examples below."
   ]
  },
  {
   "cell_type": "code",
   "execution_count": 21,
   "metadata": {},
   "outputs": [
    {
     "name": "stdout",
     "output_type": "stream",
     "text": [
      "Multiplication: a * b = 2 * 27 = 54\n",
      "Division: a / b = 2 / 27 = 0.07407407407407407\n"
     ]
    }
   ],
   "source": [
    "# Basic usage of f-strings\n",
    "a = 2\n",
    "b = 27\n",
    "print(f'Multiplication: a * b = {a} * {b} = {a*b}')\n",
    "print(f'Division: a / b = {a} / {b} = {a/b}')"
   ]
  },
  {
   "cell_type": "code",
   "execution_count": null,
   "metadata": {},
   "outputs": [],
   "source": []
  },
  {
   "cell_type": "markdown",
   "metadata": {},
   "source": [
    "### Rounding anf formating numeric string values\n",
    "When printing variables it can be useful to format them. Some common ways of formatting are shown below:\n",
    "\n",
    "|Number   \t| Syntax    | Output   | \tDescription      |\n",
    "|-----------:|----------:|---------:|:---------------------|\n",
    "|3.1415926\t|{3.1415926**:.2f**}\t    | 3.14\t   | 2 decimal places  |\n",
    "|3.1415926\t|{3.1415926**:+.2f**}\t|+3.14\t   |2 decimal places with sign |\n",
    "|-1      \t|{-1**:+.2f**}\t|-1.00\t   |2 decimal places with sign |\n",
    "|2.71828\t    |{2.71828**:.0f**}  \t|3         |No decimal places     |\n",
    "|5\t        |{5**:0>2d**}\t|05\t       |Pad number with zeros (left padding, width 2) |\n",
    "|5\t        |{5**:x<4d**}\t|5xxx\t   |Pad number with x’s (right padding, width 4) |\n",
    "|10\t        |{10**:x<4d**}\t|10xx\t   |Pad number with x’s (right padding, width 4) |\n",
    "|1000000\t    |{1000000**:,**}\t    |1,000,000 |Number format with comma separator |\n",
    "|0.25\t    |{0.25**:.2%**}\t    |25.00%\t   |Format percentage |\n",
    "|1000000000\t|{1000000000**:.2e**}\t    |1.00e+09  |Exponent notation |\n",
    "\n",
    "The part of the syntax that actually formats the value is shown in bold.\n",
    "\n",
    "Source: https://mkaz.blog/code/python-string-format-cookbook/\n",
    "\n",
    "Some examples are shown below. Note the location where the formatting must be specified, i.e. directly after the variable to be formatted. "
   ]
  },
  {
   "cell_type": "code",
   "execution_count": 22,
   "metadata": {},
   "outputs": [
    {
     "name": "stdout",
     "output_type": "stream",
     "text": [
      "Division: c / d = 50 / 200 = 0.250\n"
     ]
    }
   ],
   "source": [
    "c = 50\n",
    "d = 200\n",
    "# f-string with formatting for number of decimal places\n",
    "print(f'Division: c / d = {c} / {d} = {c/d:.3f}')"
   ]
  },
  {
   "cell_type": "code",
   "execution_count": 23,
   "metadata": {},
   "outputs": [
    {
     "name": "stdout",
     "output_type": "stream",
     "text": [
      "50 is 25.0% of 200\n"
     ]
    }
   ],
   "source": [
    "# f-string with formatting as percent\n",
    "print(f'{c} is {c/d:.1%} of {d}')"
   ]
  },
  {
   "cell_type": "markdown",
   "metadata": {},
   "source": [
    "## List comprehensions\n",
    "List comprehensions are often shorter and easier to read than their traditional `for` loop counterparts. They are also faster since the entire list is built in one go instead of by appending element by element.\n",
    "\n",
    "Consider the following to equivalent loops:\n",
    "**TODO** INPUT\n",
    "\n",
    "\n",
    "### Simple form\n",
    "The general form of the simplest list comprehension is\n",
    "\n",
    "~~~~python\n",
    "result_list = [expression for item in iterable]\n",
    "~~~~\n",
    "\n",
    "> * `iterable` is a sequence that can be iterated over, this could be a list, a string, a tuple etc. \n",
    "> * `item` is the counter for the iterable, think of this as the i'th element \n",
    "> * `expression` can be anything, but will often include the `item`\n",
    "\n",
    "\n",
    "~~~python\n",
    "# This list comprehension\n",
    "x = [r**2 for r in [5, 6, 8, 10]]\n",
    "\n",
    "# Will be computed at this list\n",
    "x = [5**2, 6**2, 8**2, 10**2]\n",
    "\n",
    "# To be equal to\n",
    "x = [25, 36, 64, 100]\n",
    "~~~\n"
   ]
  },
  {
   "cell_type": "code",
   "execution_count": 24,
   "metadata": {},
   "outputs": [
    {
     "data": {
      "text/plain": [
       "[2, 4, 6, 8, 10]"
      ]
     },
     "execution_count": 24,
     "metadata": {},
     "output_type": "execute_result"
    }
   ],
   "source": [
    "x = [1, 2, 3, 4, 5]             # Define a list (iterable)\n",
    "\n",
    "# Double numbers from old list and put in new list\n",
    "result_list = [2*i for i in x]  \n",
    "result_list                 "
   ]
  },
  {
   "cell_type": "code",
   "execution_count": 25,
   "metadata": {},
   "outputs": [
    {
     "data": {
      "text/plain": [
       "[78.5, 113.04, 200.96, 314.0]"
      ]
     },
     "execution_count": 25,
     "metadata": {},
     "output_type": "execute_result"
    }
   ],
   "source": [
    "diameters = [10, 12, 16, 20]  # Define list of rebar diameters (iterable)\n",
    "\n",
    "# Compute rebar areas for each diameter\n",
    "rebar_areas = [3.14 * dia**2 / 4 for dia in diameters]  \n",
    "rebar_areas"
   ]
  },
  {
   "cell_type": "markdown",
   "metadata": {},
   "source": [
    "### Form with conditional `if` statement\n",
    "The general form of a list comprehension with a conditional is\n",
    "\n",
    "~~~~python\n",
    "result_list = [expression for item in iterable if condition]\n",
    "~~~~\n",
    "\n",
    "> * `iterable` is a sequence that can be iterated over, this could be a list, a string, a tuple etc. \n",
    "> * `condition` is a logical condition, e.g. \"*item > 3*\", which returns a boolean (`True`/`False`). This can act as as filter.\n",
    "> * `result_list` is a new list containing `expression` for each `item` that fulfilled the `condition`  "
   ]
  },
  {
   "cell_type": "code",
   "execution_count": 26,
   "metadata": {},
   "outputs": [
    {
     "data": {
      "text/plain": [
       "[4, 5]"
      ]
     },
     "execution_count": 26,
     "metadata": {},
     "output_type": "execute_result"
    }
   ],
   "source": [
    "x = [1, 2, 3, 4, 5]   # Define a list (iterable)\n",
    "\n",
    "# Filter list with list comprehension by a condition\n",
    "result_list = [i for i in x if i > 3]   \n",
    "result_list"
   ]
  },
  {
   "cell_type": "markdown",
   "metadata": {},
   "source": [
    "A litlle more complex example that includes slicing of strings and type conversion from strings to integers within the conditional statement:"
   ]
  },
  {
   "cell_type": "code",
   "execution_count": 27,
   "metadata": {},
   "outputs": [
    {
     "data": {
      "text/plain": [
       "['HE170A', 'HE180A', 'HE190A', 'HE200A']"
      ]
     },
     "execution_count": 27,
     "metadata": {},
     "output_type": "execute_result"
    }
   ],
   "source": [
    "# Define list of steel profiles as a list of strings\n",
    "profiles = ['HE170A', 'HE180A', 'HE190A', 'HE200A', 'HE210A', 'HE210A']\n",
    "\n",
    "# Filter all profiles that are HE200A or smaller\n",
    "filtered_profiles = [p for p in profiles if int(p[2:5]) <= 200 ]\n",
    "filtered_profiles"
   ]
  },
  {
   "cell_type": "markdown",
   "metadata": {},
   "source": [
    "Here `int(p[2:5])` extracts the number part of the steel profile (e.g. '190' from 'HE190A') and converts it from a string to an integer. This is necessary because it is to be compared with an integer afterwards. \n",
    "\n",
    "A statement like `'190' <= 200` would throw a `TypeError: '<=' not supported between instances of 'int' and 'str'`"
   ]
  },
  {
   "cell_type": "markdown",
   "metadata": {},
   "source": [
    "### Form with conditional `if` / `else` statement\n",
    "The general form of a list comprehension with a conditional `if` and `else` is:\n",
    "\n",
    "~~~~python\n",
    "result_list = [expression1 if condition else expression2 for item in iterable]\n",
    "~~~~\n",
    "\n",
    "> * `iterable` is a sequence that can be iterated over, this could be a list, a string, a tuple etc. \n",
    "> * `condition` is a logical condition, e.g. \"*item > 3*\", which returns a boolean (`True`/`False`). This can act as as filter.\n",
    "> * `result_list` is a new list containing elements where each `item` depends on `condition`. If it is `True`, `expression1` is put in. Else `expression2` is put in.  "
   ]
  },
  {
   "cell_type": "code",
   "execution_count": 28,
   "metadata": {},
   "outputs": [
    {
     "data": {
      "text/plain": [
       "[0, 0, 182, 0, 151, 174]"
      ]
     },
     "execution_count": 28,
     "metadata": {},
     "output_type": "execute_result"
    }
   ],
   "source": [
    "V = [3, 62, 182, 26, 151, 174]\n",
    "\n",
    "# Set all elements of V that are less than 100 equal to 0\n",
    "W = [0 if i < 100 else i for i in V]\n",
    "W"
   ]
  },
  {
   "cell_type": "markdown",
   "metadata": {},
   "source": [
    "### List comprehensions with multiple `if` / `else` statements"
   ]
  },
  {
   "cell_type": "code",
   "execution_count": 29,
   "metadata": {},
   "outputs": [
    {
     "data": {
      "text/plain": [
       "[-18, -25, 0, -21, -15, 0]"
      ]
     },
     "execution_count": 29,
     "metadata": {},
     "output_type": "execute_result"
    }
   ],
   "source": [
    "Q1 = (-18, -27, 2, -21, -15, 5)\n",
    "[0 if val > 0 else val if 0 > val > -25 else -25 for val in Q1]"
   ]
  },
  {
   "cell_type": "markdown",
   "metadata": {},
   "source": [
    "### Nested list comprehensions\n",
    "It is possible to make nested list comprehensions, i.e. with for loops inside eachother."
   ]
  },
  {
   "cell_type": "code",
   "execution_count": 30,
   "metadata": {},
   "outputs": [
    {
     "data": {
      "text/plain": [
       "[[25, 26, 27, 28, 29],\n",
       " [25, 26, 27, 28, 29],\n",
       " [25, 26, 27, 28, 29],\n",
       " [25, 26, 27, 28, 29],\n",
       " [25, 26, 27, 28, 29]]"
      ]
     },
     "execution_count": 30,
     "metadata": {},
     "output_type": "execute_result"
    }
   ],
   "source": [
    "[[j for j in range(25, 30)] for i in range(5)]"
   ]
  },
  {
   "cell_type": "markdown",
   "metadata": {},
   "source": [
    "Complex one-liners can be quite hard to read, so for nested `if` statements or loops it is sometimes better to create a traditional multi line `for` loop. "
   ]
  },
  {
   "cell_type": "markdown",
   "metadata": {},
   "source": [
    "## Dictionaries"
   ]
  },
  {
   "cell_type": "markdown",
   "metadata": {},
   "source": [
    "### Create a dictionary from two lists\n",
    "Making first list the keys and second the values"
   ]
  },
  {
   "cell_type": "code",
   "execution_count": 31,
   "metadata": {},
   "outputs": [
    {
     "data": {
      "text/plain": [
       "{'Maradona': 'Argentina', 'Pelé': 'Brazil', 'Zidane': 'France'}"
      ]
     },
     "execution_count": 31,
     "metadata": {},
     "output_type": "execute_result"
    }
   ],
   "source": [
    "names = ['Pelé', 'Maradona', 'Zidane']\n",
    "countries = ['Brazil', 'Argentina', 'France']\n",
    "\n",
    "d = dict(zip(names, countries))\n",
    "d"
   ]
  },
  {
   "cell_type": "markdown",
   "metadata": {},
   "source": [
    "## Functions\n",
    "### Default arguments\n",
    "\n",
    "#### A little side note \n",
    "A good practice is to use only immutable types as default arguments. Python *will* allow mutable arguments to be given as defaults, but the behavior can be confusing if the default argument is mutated within the function. \n",
    "\n",
    "Consider this example:\n",
    "\n",
    "**TODO**\n",
    "\n",
    "A list (which is mutable) is given as default value and the list is mutated within the function.\n",
    "This is because it will mutate the deafult argument so the next function call has the mutated value as the default."
   ]
  },
  {
   "cell_type": "markdown",
   "metadata": {},
   "source": [
    "### Examples"
   ]
  },
  {
   "cell_type": "code",
   "execution_count": 32,
   "metadata": {},
   "outputs": [
    {
     "name": "stdout",
     "output_type": "stream",
     "text": [
      "Mon\n"
     ]
    }
   ],
   "source": [
    "def abbreviate_day(day):    \n",
    "    '''Return the specified day in abrreviated three character form'''\n",
    "    \n",
    "    # Define dictionary for mapping days to their abbreviations\n",
    "    day_to_abbreviation = {'monday': 'Mon', 'tuesday': 'Tue', \n",
    "                           'wednesday': 'Wed', 'thursday': \n",
    "                           'Thu', 'friday': 'Fri', \n",
    "                           'saturday': 'Sat', 'sunsay': 'Sun'}\n",
    "\n",
    "    # Convert input string to all lowercase\n",
    "    day = day.lower()    \n",
    "    \n",
    "    # Return abbreviation if day is a valid day, raise error otherwise\n",
    "    try:\n",
    "        return day_to_abbreviation[day]\n",
    "    except KeyError:\n",
    "        raise ValueError(f\"Expected input 'day' to be a day name, but received '{day}'\")\n",
    "        \n",
    "        \n",
    "# Test function\n",
    "d = 'Monday'\n",
    "print(abbreviate_day(d))"
   ]
  },
  {
   "cell_type": "markdown",
   "metadata": {},
   "source": [
    "* **Note:** The input parameter when the function was *defined* was a string called `day`, but the when the function was *called*, the input string was called `d`. Thus, the input parameters passed into a function do not need to have the same name as when the function is defined."
   ]
  },
  {
   "cell_type": "code",
   "execution_count": null,
   "metadata": {},
   "outputs": [],
   "source": []
  },
  {
   "cell_type": "markdown",
   "metadata": {},
   "source": [
    "## Tables as `Pandas` dataframes"
   ]
  },
  {
   "cell_type": "code",
   "execution_count": 33,
   "metadata": {},
   "outputs": [],
   "source": [
    "import pandas as pd\n",
    "\n",
    "# Allow for dataframes to be displayed as HTML-tables\n",
    "from IPython.display import display, HTML   "
   ]
  },
  {
   "cell_type": "markdown",
   "metadata": {},
   "source": [
    "### `merge`, `join` and `concat`\n",
    "The best explanation is arguably from the documentation itself: https://pandas.pydata.org/pandas-docs/stable/user_guide/merging.html\n",
    "\n",
    "Roughly speaking, `merge` is used to combine two or more dataframes, while `concat` is used to 'glue' dataframes together, i.e. append them to eachother or put them side by side. `concat` is not content aware in that it will might include duplicate columns, whereas `merge` will remove/merge duplicates. `concat` requires the dataframe dimensions to be equal along the axis of concatenation, where `merge` can treat any size.\n",
    "\n",
    "All `join` operations could also be achieved by using `merge`, but `join` commands have easier/shorter code for some common use cases.  "
   ]
  },
  {
   "cell_type": "markdown",
   "metadata": {},
   "source": [
    "#### Functionality similar to VLOOKUP in Excel"
   ]
  },
  {
   "cell_type": "code",
   "execution_count": 34,
   "metadata": {},
   "outputs": [
    {
     "data": {
      "text/html": [
       "<div>\n",
       "<style scoped>\n",
       "    .dataframe tbody tr th:only-of-type {\n",
       "        vertical-align: middle;\n",
       "    }\n",
       "\n",
       "    .dataframe tbody tr th {\n",
       "        vertical-align: top;\n",
       "    }\n",
       "\n",
       "    .dataframe thead th {\n",
       "        text-align: right;\n",
       "    }\n",
       "</style>\n",
       "<table border=\"1\" class=\"dataframe\">\n",
       "  <thead>\n",
       "    <tr style=\"text-align: right;\">\n",
       "      <th></th>\n",
       "      <th>Pile_type</th>\n",
       "      <th>Profile</th>\n",
       "    </tr>\n",
       "  </thead>\n",
       "  <tbody>\n",
       "    <tr>\n",
       "      <th>0</th>\n",
       "      <td>P01</td>\n",
       "      <td>HE200A</td>\n",
       "    </tr>\n",
       "    <tr>\n",
       "      <th>1</th>\n",
       "      <td>P20</td>\n",
       "      <td>HE220A</td>\n",
       "    </tr>\n",
       "    <tr>\n",
       "      <th>2</th>\n",
       "      <td>P05</td>\n",
       "      <td>HE240B</td>\n",
       "    </tr>\n",
       "    <tr>\n",
       "      <th>3</th>\n",
       "      <td>P23</td>\n",
       "      <td>NaN</td>\n",
       "    </tr>\n",
       "    <tr>\n",
       "      <th>4</th>\n",
       "      <td>P04</td>\n",
       "      <td>HE200A</td>\n",
       "    </tr>\n",
       "    <tr>\n",
       "      <th>5</th>\n",
       "      <td>P01</td>\n",
       "      <td>HE300B</td>\n",
       "    </tr>\n",
       "  </tbody>\n",
       "</table>\n",
       "</div>"
      ],
      "text/plain": [
       "  Pile_type Profile\n",
       "0       P01  HE200A\n",
       "1       P20  HE220A\n",
       "2       P05  HE240B\n",
       "3       P23     NaN\n",
       "4       P04  HE200A\n",
       "5       P01  HE300B"
      ]
     },
     "metadata": {},
     "output_type": "display_data"
    },
    {
     "data": {
      "text/html": [
       "<div>\n",
       "<style scoped>\n",
       "    .dataframe tbody tr th:only-of-type {\n",
       "        vertical-align: middle;\n",
       "    }\n",
       "\n",
       "    .dataframe tbody tr th {\n",
       "        vertical-align: top;\n",
       "    }\n",
       "\n",
       "    .dataframe thead th {\n",
       "        text-align: right;\n",
       "    }\n",
       "</style>\n",
       "<table border=\"1\" class=\"dataframe\">\n",
       "  <thead>\n",
       "    <tr style=\"text-align: right;\">\n",
       "      <th></th>\n",
       "      <th>Profile</th>\n",
       "      <th>h[mm]</th>\n",
       "      <th>b[mm]</th>\n",
       "      <th>Iy[mm4]</th>\n",
       "      <th>Wel_y[mm3]</th>\n",
       "      <th>g[kg/m]</th>\n",
       "    </tr>\n",
       "  </thead>\n",
       "  <tbody>\n",
       "    <tr>\n",
       "      <th>0</th>\n",
       "      <td>HE100A</td>\n",
       "      <td>96</td>\n",
       "      <td>100</td>\n",
       "      <td>3490000</td>\n",
       "      <td>72.8</td>\n",
       "      <td>16.7</td>\n",
       "    </tr>\n",
       "    <tr>\n",
       "      <th>1</th>\n",
       "      <td>HE120A</td>\n",
       "      <td>114</td>\n",
       "      <td>120</td>\n",
       "      <td>6060000</td>\n",
       "      <td>106.0</td>\n",
       "      <td>19.9</td>\n",
       "    </tr>\n",
       "    <tr>\n",
       "      <th>2</th>\n",
       "      <td>HE140A</td>\n",
       "      <td>133</td>\n",
       "      <td>140</td>\n",
       "      <td>10300000</td>\n",
       "      <td>155.0</td>\n",
       "      <td>24.7</td>\n",
       "    </tr>\n",
       "    <tr>\n",
       "      <th>3</th>\n",
       "      <td>HE160A</td>\n",
       "      <td>152</td>\n",
       "      <td>160</td>\n",
       "      <td>16700000</td>\n",
       "      <td>220.0</td>\n",
       "      <td>30.4</td>\n",
       "    </tr>\n",
       "    <tr>\n",
       "      <th>4</th>\n",
       "      <td>HE180A</td>\n",
       "      <td>171</td>\n",
       "      <td>180</td>\n",
       "      <td>25100000</td>\n",
       "      <td>294.0</td>\n",
       "      <td>35.5</td>\n",
       "    </tr>\n",
       "    <tr>\n",
       "      <th>5</th>\n",
       "      <td>HE200A</td>\n",
       "      <td>190</td>\n",
       "      <td>200</td>\n",
       "      <td>36900000</td>\n",
       "      <td>389.0</td>\n",
       "      <td>42.3</td>\n",
       "    </tr>\n",
       "    <tr>\n",
       "      <th>6</th>\n",
       "      <td>HE220A</td>\n",
       "      <td>210</td>\n",
       "      <td>220</td>\n",
       "      <td>54100000</td>\n",
       "      <td>515.0</td>\n",
       "      <td>50.5</td>\n",
       "    </tr>\n",
       "    <tr>\n",
       "      <th>7</th>\n",
       "      <td>HE240A</td>\n",
       "      <td>230</td>\n",
       "      <td>240</td>\n",
       "      <td>77600000</td>\n",
       "      <td>675.0</td>\n",
       "      <td>60.3</td>\n",
       "    </tr>\n",
       "    <tr>\n",
       "      <th>8</th>\n",
       "      <td>HE260A</td>\n",
       "      <td>250</td>\n",
       "      <td>260</td>\n",
       "      <td>104500000</td>\n",
       "      <td>836.0</td>\n",
       "      <td>68.2</td>\n",
       "    </tr>\n",
       "    <tr>\n",
       "      <th>9</th>\n",
       "      <td>HE280A</td>\n",
       "      <td>270</td>\n",
       "      <td>280</td>\n",
       "      <td>136700000</td>\n",
       "      <td>1010.0</td>\n",
       "      <td>76.4</td>\n",
       "    </tr>\n",
       "    <tr>\n",
       "      <th>10</th>\n",
       "      <td>HE300A</td>\n",
       "      <td>290</td>\n",
       "      <td>300</td>\n",
       "      <td>182600000</td>\n",
       "      <td>1260.0</td>\n",
       "      <td>88.3</td>\n",
       "    </tr>\n",
       "    <tr>\n",
       "      <th>11</th>\n",
       "      <td>HE100B</td>\n",
       "      <td>100</td>\n",
       "      <td>100</td>\n",
       "      <td>4500000</td>\n",
       "      <td>89.9</td>\n",
       "      <td>20.4</td>\n",
       "    </tr>\n",
       "    <tr>\n",
       "      <th>12</th>\n",
       "      <td>HE120B</td>\n",
       "      <td>120</td>\n",
       "      <td>120</td>\n",
       "      <td>8640000</td>\n",
       "      <td>144.0</td>\n",
       "      <td>26.7</td>\n",
       "    </tr>\n",
       "    <tr>\n",
       "      <th>13</th>\n",
       "      <td>HE140B</td>\n",
       "      <td>140</td>\n",
       "      <td>140</td>\n",
       "      <td>15100000</td>\n",
       "      <td>216.0</td>\n",
       "      <td>33.7</td>\n",
       "    </tr>\n",
       "    <tr>\n",
       "      <th>14</th>\n",
       "      <td>HE160B</td>\n",
       "      <td>160</td>\n",
       "      <td>160</td>\n",
       "      <td>24900000</td>\n",
       "      <td>311.0</td>\n",
       "      <td>42.6</td>\n",
       "    </tr>\n",
       "    <tr>\n",
       "      <th>15</th>\n",
       "      <td>HE180B</td>\n",
       "      <td>180</td>\n",
       "      <td>180</td>\n",
       "      <td>38300000</td>\n",
       "      <td>426.0</td>\n",
       "      <td>51.2</td>\n",
       "    </tr>\n",
       "    <tr>\n",
       "      <th>16</th>\n",
       "      <td>HE200B</td>\n",
       "      <td>200</td>\n",
       "      <td>200</td>\n",
       "      <td>57000000</td>\n",
       "      <td>570.0</td>\n",
       "      <td>61.3</td>\n",
       "    </tr>\n",
       "    <tr>\n",
       "      <th>17</th>\n",
       "      <td>HE220B</td>\n",
       "      <td>220</td>\n",
       "      <td>220</td>\n",
       "      <td>80900000</td>\n",
       "      <td>736.0</td>\n",
       "      <td>71.5</td>\n",
       "    </tr>\n",
       "    <tr>\n",
       "      <th>18</th>\n",
       "      <td>HE240B</td>\n",
       "      <td>240</td>\n",
       "      <td>240</td>\n",
       "      <td>112600000</td>\n",
       "      <td>938.0</td>\n",
       "      <td>83.2</td>\n",
       "    </tr>\n",
       "    <tr>\n",
       "      <th>19</th>\n",
       "      <td>HE260B</td>\n",
       "      <td>260</td>\n",
       "      <td>260</td>\n",
       "      <td>149200000</td>\n",
       "      <td>1150.0</td>\n",
       "      <td>93.0</td>\n",
       "    </tr>\n",
       "    <tr>\n",
       "      <th>20</th>\n",
       "      <td>HE280B</td>\n",
       "      <td>280</td>\n",
       "      <td>280</td>\n",
       "      <td>192700000</td>\n",
       "      <td>1380.0</td>\n",
       "      <td>103.0</td>\n",
       "    </tr>\n",
       "    <tr>\n",
       "      <th>21</th>\n",
       "      <td>HE300B</td>\n",
       "      <td>300</td>\n",
       "      <td>300</td>\n",
       "      <td>251700000</td>\n",
       "      <td>1680.0</td>\n",
       "      <td>117.0</td>\n",
       "    </tr>\n",
       "  </tbody>\n",
       "</table>\n",
       "</div>"
      ],
      "text/plain": [
       "   Profile  h[mm]  b[mm]    Iy[mm4]  Wel_y[mm3]  g[kg/m]\n",
       "0   HE100A     96    100    3490000        72.8     16.7\n",
       "1   HE120A    114    120    6060000       106.0     19.9\n",
       "2   HE140A    133    140   10300000       155.0     24.7\n",
       "3   HE160A    152    160   16700000       220.0     30.4\n",
       "4   HE180A    171    180   25100000       294.0     35.5\n",
       "5   HE200A    190    200   36900000       389.0     42.3\n",
       "6   HE220A    210    220   54100000       515.0     50.5\n",
       "7   HE240A    230    240   77600000       675.0     60.3\n",
       "8   HE260A    250    260  104500000       836.0     68.2\n",
       "9   HE280A    270    280  136700000      1010.0     76.4\n",
       "10  HE300A    290    300  182600000      1260.0     88.3\n",
       "11  HE100B    100    100    4500000        89.9     20.4\n",
       "12  HE120B    120    120    8640000       144.0     26.7\n",
       "13  HE140B    140    140   15100000       216.0     33.7\n",
       "14  HE160B    160    160   24900000       311.0     42.6\n",
       "15  HE180B    180    180   38300000       426.0     51.2\n",
       "16  HE200B    200    200   57000000       570.0     61.3\n",
       "17  HE220B    220    220   80900000       736.0     71.5\n",
       "18  HE240B    240    240  112600000       938.0     83.2\n",
       "19  HE260B    260    260  149200000      1150.0     93.0\n",
       "20  HE280B    280    280  192700000      1380.0    103.0\n",
       "21  HE300B    300    300  251700000      1680.0    117.0"
      ]
     },
     "metadata": {},
     "output_type": "display_data"
    },
    {
     "data": {
      "text/html": [
       "<div>\n",
       "<style scoped>\n",
       "    .dataframe tbody tr th:only-of-type {\n",
       "        vertical-align: middle;\n",
       "    }\n",
       "\n",
       "    .dataframe tbody tr th {\n",
       "        vertical-align: top;\n",
       "    }\n",
       "\n",
       "    .dataframe thead th {\n",
       "        text-align: right;\n",
       "    }\n",
       "</style>\n",
       "<table border=\"1\" class=\"dataframe\">\n",
       "  <thead>\n",
       "    <tr style=\"text-align: right;\">\n",
       "      <th></th>\n",
       "      <th>Pile_type</th>\n",
       "      <th>Profile</th>\n",
       "      <th>h[mm]</th>\n",
       "      <th>b[mm]</th>\n",
       "      <th>Iy[mm4]</th>\n",
       "      <th>Wel_y[mm3]</th>\n",
       "      <th>g[kg/m]</th>\n",
       "    </tr>\n",
       "  </thead>\n",
       "  <tbody>\n",
       "    <tr>\n",
       "      <th>0</th>\n",
       "      <td>P01</td>\n",
       "      <td>HE200A</td>\n",
       "      <td>190.0</td>\n",
       "      <td>200.0</td>\n",
       "      <td>36900000.0</td>\n",
       "      <td>389.0</td>\n",
       "      <td>42.3</td>\n",
       "    </tr>\n",
       "    <tr>\n",
       "      <th>1</th>\n",
       "      <td>P20</td>\n",
       "      <td>HE220A</td>\n",
       "      <td>210.0</td>\n",
       "      <td>220.0</td>\n",
       "      <td>54100000.0</td>\n",
       "      <td>515.0</td>\n",
       "      <td>50.5</td>\n",
       "    </tr>\n",
       "    <tr>\n",
       "      <th>2</th>\n",
       "      <td>P05</td>\n",
       "      <td>HE240B</td>\n",
       "      <td>240.0</td>\n",
       "      <td>240.0</td>\n",
       "      <td>112600000.0</td>\n",
       "      <td>938.0</td>\n",
       "      <td>83.2</td>\n",
       "    </tr>\n",
       "    <tr>\n",
       "      <th>3</th>\n",
       "      <td>P23</td>\n",
       "      <td>NaN</td>\n",
       "      <td>NaN</td>\n",
       "      <td>NaN</td>\n",
       "      <td>NaN</td>\n",
       "      <td>NaN</td>\n",
       "      <td>NaN</td>\n",
       "    </tr>\n",
       "    <tr>\n",
       "      <th>4</th>\n",
       "      <td>P04</td>\n",
       "      <td>HE200A</td>\n",
       "      <td>190.0</td>\n",
       "      <td>200.0</td>\n",
       "      <td>36900000.0</td>\n",
       "      <td>389.0</td>\n",
       "      <td>42.3</td>\n",
       "    </tr>\n",
       "    <tr>\n",
       "      <th>5</th>\n",
       "      <td>P01</td>\n",
       "      <td>HE300B</td>\n",
       "      <td>300.0</td>\n",
       "      <td>300.0</td>\n",
       "      <td>251700000.0</td>\n",
       "      <td>1680.0</td>\n",
       "      <td>117.0</td>\n",
       "    </tr>\n",
       "  </tbody>\n",
       "</table>\n",
       "</div>"
      ],
      "text/plain": [
       "  Pile_type Profile  h[mm]  b[mm]      Iy[mm4]  Wel_y[mm3]  g[kg/m]\n",
       "0       P01  HE200A  190.0  200.0   36900000.0       389.0     42.3\n",
       "1       P20  HE220A  210.0  220.0   54100000.0       515.0     50.5\n",
       "2       P05  HE240B  240.0  240.0  112600000.0       938.0     83.2\n",
       "3       P23     NaN    NaN    NaN          NaN         NaN      NaN\n",
       "4       P04  HE200A  190.0  200.0   36900000.0       389.0     42.3\n",
       "5       P01  HE300B  300.0  300.0  251700000.0      1680.0    117.0"
      ]
     },
     "metadata": {},
     "output_type": "display_data"
    }
   ],
   "source": [
    "# Read pile data from csv-file\n",
    "df_piles = pd.read_csv('piles.csv')\n",
    "\n",
    "# Read steel profile data from csv-file\n",
    "df_profiles = pd.read_csv('steel_profiles.csv')\n",
    "\n",
    "# Merge dataframes on the \"Profile\" column (similar to Excel VLOOKUP)\n",
    "df_merged = df_piles.merge(df_profiles, on='Profile', how='left')\n",
    "\n",
    "display(df_piles, df_profiles, df_merged)"
   ]
  },
  {
   "cell_type": "markdown",
   "metadata": {},
   "source": [
    "The first dataframe containing pile types and profile has been populated by the data of the steel profiles. The resulting dataframe has all profile data, but it could have been specified to include only certain columns of the profile properties.\n",
    "\n",
    "Compared to e.g. Excel, this has the advantage of being scalable in each table direction. Meaning that if more rows or columns were to be added to either dataframe, the code need no change at al, it just adapts. No manual adjustment of ranges/cells."
   ]
  },
  {
   "cell_type": "markdown",
   "metadata": {},
   "source": [
    "## Plotting with `Matplotlib`"
   ]
  },
  {
   "cell_type": "code",
   "execution_count": 35,
   "metadata": {},
   "outputs": [],
   "source": [
    "import matplotlib.pyplot as plt\n",
    "\n",
    "# Enable for plots to be shown inside notebook cells\n",
    "%matplotlib inline      "
   ]
  },
  {
   "cell_type": "markdown",
   "metadata": {},
   "source": [
    "### Simplest forms of graphs"
   ]
  },
  {
   "cell_type": "code",
   "execution_count": 36,
   "metadata": {},
   "outputs": [
    {
     "data": {
      "image/png": "[encoded data removed]",
      "text/plain": [
       "<Figure size 432x288 with 1 Axes>"
      ]
     },
     "metadata": {
      "needs_background": "light"
     },
     "output_type": "display_data"
    }
   ],
   "source": [
    "# Create x- and y-coordinates for f(x) = x^2 \n",
    "x = [i for i in range(-100, 105, 5)]\n",
    "y = [i**2 for i in x]\n",
    "\n",
    "# Create basic plot\n",
    "plt.plot(x, y)\n",
    "\n",
    "# Show plot\n",
    "plt.show()"
   ]
  },
  {
   "cell_type": "markdown",
   "metadata": {},
   "source": [
    "**Note:** When using an editor, one has to call `plt.show()` to show the figure, which then opens a separate window."
   ]
  },
  {
   "cell_type": "markdown",
   "metadata": {},
   "source": [
    "Including title, labels and marker styling: "
   ]
  },
  {
   "cell_type": "code",
   "execution_count": 37,
   "metadata": {},
   "outputs": [
    {
     "data": {
      "image/png": "[encoded data removed]",
      "text/plain": [
       "<Figure size 432x288 with 1 Axes>"
      ]
     },
     "metadata": {
      "needs_background": "light"
     },
     "output_type": "display_data"
    }
   ],
   "source": [
    "plt.title('Graph for $f(x) = x^2$')\n",
    "plt.xlabel('x')\n",
    "plt.ylabel('f(x)')\n",
    "plt.plot(x, y, 'x', color='limegreen', markersize=8)\n",
    "plt.show()"
   ]
  },
  {
   "cell_type": "markdown",
   "metadata": {},
   "source": [
    "### Multiple plots in same figure"
   ]
  },
  {
   "cell_type": "code",
   "execution_count": 38,
   "metadata": {},
   "outputs": [
    {
     "data": {
      "image/png": "[encoded data removed]",
      "text/plain": [
       "<Figure size 432x288 with 1 Axes>"
      ]
     },
     "metadata": {
      "needs_background": "light"
     },
     "output_type": "display_data"
    }
   ],
   "source": [
    "plt.plot(x, y, label='$f(x)=x^2$')                   # x and y defined above\n",
    "plt.plot(x, [2*i for i in y], label='$f(x)=2x^2$')\n",
    "plt.legend()\n",
    "plt.show()"
   ]
  },
  {
   "cell_type": "markdown",
   "metadata": {},
   "source": [
    "### Subplots\n"
   ]
  },
  {
   "cell_type": "code",
   "execution_count": null,
   "metadata": {},
   "outputs": [],
   "source": []
  },
  {
   "cell_type": "markdown",
   "metadata": {},
   "source": [
    "### Heatmaps/colormaps"
   ]
  },
  {
   "cell_type": "code",
   "execution_count": null,
   "metadata": {},
   "outputs": [],
   "source": []
  },
  {
   "cell_type": "markdown",
   "metadata": {},
   "source": [
    "### Integration with `Pandas`"
   ]
  },
  {
   "cell_type": "code",
   "execution_count": null,
   "metadata": {},
   "outputs": [],
   "source": []
  },
  {
   "cell_type": "markdown",
   "metadata": {},
   "source": [
    "## Numerical computations\n",
    "\n",
    "A large portion of the computations are carried out as optimized C-code under the hood, which is pretty much as fast as it gets. "
   ]
  },
  {
   "cell_type": "markdown",
   "metadata": {},
   "source": [
    "### Numpy\n",
    "\n",
    "**TODO:** `np.linspace()`\n",
    "\n",
    "**TODO:** `np.append()`\n",
    "\n",
    "**TODO:** `np.where()`\n",
    "\n",
    "**TODO:** Fancy indexing"
   ]
  },
  {
   "cell_type": "markdown",
   "metadata": {},
   "source": [
    "### Scipy\n",
    "\n",
    "**TODO:** `from scipy.signal import find_peaks` "
   ]
  }
 ],
 "metadata": {
  "hide_input": false,
  "kernelspec": {
   "display_name": "Python 3",
   "language": "python",
   "name": "python3"
  },
  "language_info": {
   "codemirror_mode": {
    "name": "ipython",
    "version": 3
   },
   "file_extension": ".py",
   "mimetype": "text/x-python",
   "name": "python",
   "nbconvert_exporter": "python",
   "pygments_lexer": "ipython3",
   "version": "3.7.1"
  },
  "latex_envs": {
   "LaTeX_envs_menu_present": true,
   "autoclose": false,
   "autocomplete": true,
   "bibliofile": "biblio.bib",
   "cite_by": "apalike",
   "current_citInitial": 1,
   "eqLabelWithNumbers": true,
   "eqNumInitial": 1,
   "hotkeys": {
    "equation": "Ctrl-E",
    "itemize": "Ctrl-I"
   },
   "labels_anchors": false,
   "latex_user_defs": false,
   "report_style_numbering": false,
   "user_envs_cfg": false
  },
  "toc": {
   "base_numbering": "1",
   "nav_menu": {},
   "number_sections": true,
   "sideBar": true,
   "skip_h1_title": false,
   "title_cell": "Table of Contents",
   "title_sidebar": "Table of Contents",
   "toc_cell": true,
   "toc_position": {
    "height": "calc(100% - 180px)",
    "left": "10px",
    "top": "150px",
    "width": "312.795px"
   },
   "toc_section_display": true,
   "toc_window_display": false
  }
 },
 "nbformat": 4,
 "nbformat_minor": 2
}
