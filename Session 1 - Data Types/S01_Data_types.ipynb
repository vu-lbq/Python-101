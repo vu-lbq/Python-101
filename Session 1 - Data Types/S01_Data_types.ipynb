{
 "cells": [
  {
   "attachments": {},
   "cell_type": "markdown",
   "metadata": {},
   "source": [
    "## 1. Data Types\n",
    "\n",
    "Use a locally installed editor like Pycharm or Visual Studio Code. \n",
    "If you want to try out coding without installing anything, <br> try this online editor: https://www.pythonanywhere.com/try-ipython/ <br>\n",
    "or you can use Google Colab: https://colab.research.google.com/\n",
    "\n",
    "### Code comments\n",
    "In order to explain the code, comments in Python can be made by preceding a line with a hashtag `#`. Everything on that particular line will then not be interpreted as part of the code:\n",
    "\n",
    "```python\n",
    "# This is a comment and will not be interpreted as code\n",
    "```\n",
    "\n",
    "The first section is about data types that are illustrated below.\n",
    "### Data Types\n",
    "The basic data types in Python "
   ]
  },
  {
   "cell_type": "code",
   "execution_count": 28,
   "metadata": {},
   "outputs": [],
   "source": [
    "# Integers (int)\n",
    "a = 23\n",
    "b = 4"
   ]
  },
  {
   "cell_type": "code",
   "execution_count": 29,
   "metadata": {},
   "outputs": [],
   "source": [
    "# Floats\n",
    "f = 27.8\n",
    "l = 1990.0"
   ]
  },
  {
   "cell_type": "code",
   "execution_count": 30,
   "metadata": {},
   "outputs": [],
   "source": [
    "#Strings\n",
    "text = 'Hello world!'\n",
    "my_text = \"This is my text\""
   ]
  },
  {
   "attachments": {},
   "cell_type": "markdown",
   "metadata": {},
   "source": [
    "Both `\"` and `'` can be used to denote strings. If the apostrophe character should be part of the string, use `\"` as outer boundaries:\n",
    "~~~~python\n",
    "\"An's computer Revit version is 2024\"\n",
    "~~~~\n",
    "Alternatively, `\\` can be used as an *escape* character:"
   ]
  },
  {
   "cell_type": "code",
   "execution_count": 31,
   "metadata": {},
   "outputs": [
    {
     "data": {
      "text/plain": [
       "\"An's computer Revit version is 2024\""
      ]
     },
     "execution_count": 31,
     "metadata": {},
     "output_type": "execute_result"
    }
   ],
   "source": [
    "'An\\'s computer Revit version is 2024'"
   ]
  },
  {
   "cell_type": "code",
   "execution_count": 32,
   "metadata": {},
   "outputs": [],
   "source": [
    "#Boolean\n",
    "x = True\n",
    "y = False"
   ]
  },
  {
   "attachments": {},
   "cell_type": "markdown",
   "metadata": {},
   "source": [
    "## Calculations with data types\n",
    "Basic operations on integers and floats: addition, subtraction, multiplication:"
   ]
  },
  {
   "cell_type": "code",
   "execution_count": 33,
   "metadata": {},
   "outputs": [
    {
     "data": {
      "text/plain": [
       "10.5"
      ]
     },
     "execution_count": 33,
     "metadata": {},
     "output_type": "execute_result"
    }
   ],
   "source": [
    "2 * 4\n",
    "2 / 5\n",
    "3.1 + 7.4"
   ]
  },
  {
   "attachments": {},
   "cell_type": "markdown",
   "metadata": {},
   "source": [
    "#### Exponents \n",
    "Exponents are denoted by `**`:"
   ]
  },
  {
   "cell_type": "code",
   "execution_count": 34,
   "metadata": {},
   "outputs": [
    {
     "data": {
      "text/plain": [
       "8"
      ]
     },
     "execution_count": 34,
     "metadata": {},
     "output_type": "execute_result"
    }
   ],
   "source": [
    "2**3"
   ]
  },
  {
   "attachments": {},
   "cell_type": "markdown",
   "metadata": {},
   "source": [
    "#### Floor division\n",
    "returns the integer part of a division result (removes decimals after division)"
   ]
  },
  {
   "cell_type": "code",
   "execution_count": 35,
   "metadata": {},
   "outputs": [
    {
     "data": {
      "text/plain": [
       "3"
      ]
     },
     "execution_count": 35,
     "metadata": {},
     "output_type": "execute_result"
    }
   ],
   "source": [
    "10 // 3"
   ]
  },
  {
   "attachments": {},
   "cell_type": "markdown",
   "metadata": {},
   "source": [
    "#### Modulo\n",
    "returns the remainder after a division"
   ]
  },
  {
   "cell_type": "code",
   "execution_count": 36,
   "metadata": {},
   "outputs": [
    {
     "data": {
      "text/plain": [
       "1"
      ]
     },
     "execution_count": 36,
     "metadata": {},
     "output_type": "execute_result"
    }
   ],
   "source": [
    "10 % 3"
   ]
  },
  {
   "attachments": {},
   "cell_type": "markdown",
   "metadata": {},
   "source": [
    "#### Operations on strings\n",
    "Strings can be **added** (concatenated) by use of the addition operator `+`:"
   ]
  },
  {
   "cell_type": "code",
   "execution_count": 37,
   "metadata": {},
   "outputs": [
    {
     "data": {
      "text/plain": [
       "'Thank you'"
      ]
     },
     "execution_count": 37,
     "metadata": {},
     "output_type": "execute_result"
    }
   ],
   "source": [
    "'Thank' + ' ' + 'you'"
   ]
  },
  {
   "attachments": {},
   "cell_type": "markdown",
   "metadata": {},
   "source": [
    "**Multiplication** is also allowed:"
   ]
  },
  {
   "cell_type": "code",
   "execution_count": 38,
   "metadata": {},
   "outputs": [
    {
     "data": {
      "text/plain": [
       "'Thank you Thank you Thank you '"
      ]
     },
     "execution_count": 38,
     "metadata": {},
     "output_type": "execute_result"
    }
   ],
   "source": [
    "'Thank you ' * 3"
   ]
  },
  {
   "attachments": {},
   "cell_type": "markdown",
   "metadata": {},
   "source": [
    "**Subtraction** and **division** are not allowed: "
   ]
  },
  {
   "cell_type": "code",
   "execution_count": null,
   "metadata": {},
   "outputs": [],
   "source": [
    "'a' / 3    # Division results in error\n",
    "'a' - 'b'    # Subtraction results in error"
   ]
  },
  {
   "attachments": {},
   "cell_type": "markdown",
   "metadata": {},
   "source": [
    "## Function - Strings"
   ]
  },
  {
   "attachments": {},
   "cell_type": "markdown",
   "metadata": {},
   "source": [
    "### Printing strings with variables - fstring"
   ]
  },
  {
   "attachments": {},
   "cell_type": "markdown",
   "metadata": {},
   "source": [
    "There is quite often a need for printing a combination of static text and variables. \n",
    "<br>This could e.g. be to output the result of a computation. \n",
    "<br>There are 3 ways to format string: ***s%***, ***.format*** and ***f-strings***\n",
    "<br>Often the best way is to use the so-called **f-strings**. See examples below."
   ]
  },
  {
   "cell_type": "code",
   "execution_count": null,
   "metadata": {},
   "outputs": [],
   "source": [
    "# Basic usage of f-strings\n",
    "a = 27\n",
    "b = 8 \n",
    "print(f'Multiplication: a * b = {a} * {b} = {a*b}')\n",
    "print(f'Division: a / b = {a} / {b} = {a/b}')\n",
    "\n",
    "# f-strings with formatting for number of decimal places\n",
    "print(f'Division: a / b = {a} / {b} = {a/b:.5f}')   # The part ':.xf' specfifies 'x' decimals to be printed \n",
    "\n",
    "# Both variables and complex computations can be inserted inside the curly brackets to be printed.\n",
    "print(f'Computation insde curly bracket: {4**5 / 5}')"
   ]
  },
  {
   "attachments": {},
   "cell_type": "markdown",
   "metadata": {},
   "source": [
    "## Dir(\" \") to show all string methods"
   ]
  },
  {
   "cell_type": "code",
   "execution_count": null,
   "metadata": {},
   "outputs": [],
   "source": [
    "dir(\" \")"
   ]
  },
  {
   "attachments": {},
   "cell_type": "markdown",
   "metadata": {},
   "source": [
    "#### len() function"
   ]
  },
  {
   "cell_type": "code",
   "execution_count": null,
   "metadata": {},
   "outputs": [],
   "source": [
    "len('aaaa')"
   ]
  },
  {
   "cell_type": "code",
   "execution_count": null,
   "metadata": {},
   "outputs": [],
   "source": [
    "text = 'aaaaa'\n",
    "len(text)"
   ]
  },
  {
   "cell_type": "code",
   "execution_count": null,
   "metadata": {},
   "outputs": [],
   "source": [
    "len('a and b')   # Spaces are also counted"
   ]
  },
  {
   "attachments": {},
   "cell_type": "markdown",
   "metadata": {},
   "source": [
    "#### `string.replace()`\n",
    "Replaces characters inside a string:\n",
    "~~~python\n",
    "string.replace('old_substring', 'new_substring')\n",
    "~~~"
   ]
  },
  {
   "cell_type": "code",
   "execution_count": 47,
   "metadata": {},
   "outputs": [
    {
     "data": {
      "text/plain": [
       "'Johanssen Einstein'"
      ]
     },
     "execution_count": 47,
     "metadata": {},
     "output_type": "execute_result"
    }
   ],
   "source": [
    "name = 'Albert Einstein'\n",
    "name.replace('Albert', 'Johanssen')"
   ]
  },
  {
   "attachments": {},
   "cell_type": "markdown",
   "metadata": {},
   "source": [
    "In order to save the replacement and retain the name of the variable, we could just reassign it to the same name:"
   ]
  },
  {
   "cell_type": "code",
   "execution_count": 48,
   "metadata": {},
   "outputs": [
    {
     "data": {
      "text/plain": [
       "'Albert Einstein'"
      ]
     },
     "execution_count": 48,
     "metadata": {},
     "output_type": "execute_result"
    }
   ],
   "source": [
    "name"
   ]
  },
  {
   "attachments": {},
   "cell_type": "markdown",
   "metadata": {},
   "source": [
    "#### `string.endswith()`\n",
    "This method might be self explanatory, but returns a ***boolean*** (`True` of `False`) depending on whether or not the strings ends with the specified substring.\n",
    "\n",
    "~~~python\n",
    "string.endswith('substring_to_test_for')\n",
    "~~~"
   ]
  },
  {
   "cell_type": "code",
   "execution_count": 51,
   "metadata": {},
   "outputs": [
    {
     "data": {
      "text/plain": [
       "False"
      ]
     },
     "execution_count": 51,
     "metadata": {},
     "output_type": "execute_result"
    }
   ],
   "source": [
    "name.endswith('g')"
   ]
  },
  {
   "cell_type": "code",
   "execution_count": 52,
   "metadata": {},
   "outputs": [
    {
     "data": {
      "text/plain": [
       "True"
      ]
     },
     "execution_count": 52,
     "metadata": {},
     "output_type": "execute_result"
    }
   ],
   "source": [
    "name.endswith('in')"
   ]
  },
  {
   "attachments": {},
   "cell_type": "markdown",
   "metadata": {},
   "source": [
    "#### `string.count()`\n",
    "Counts the number of occurences of a substring inside a string:\n",
    "~~~python\n",
    "string.count('substring_to_count')\n",
    "~~~\n"
   ]
  },
  {
   "cell_type": "code",
   "execution_count": 58,
   "metadata": {},
   "outputs": [
    {
     "data": {
      "text/plain": [
       "4"
      ]
     },
     "execution_count": 58,
     "metadata": {},
     "output_type": "execute_result"
    }
   ],
   "source": [
    "text = 'This is how it is done'\n",
    "text.count('i')"
   ]
  },
  {
   "cell_type": "code",
   "execution_count": 59,
   "metadata": {},
   "outputs": [
    {
     "data": {
      "text/plain": [
       "3"
      ]
     },
     "execution_count": 59,
     "metadata": {},
     "output_type": "execute_result"
    }
   ],
   "source": [
    "text.count('is')"
   ]
  },
  {
   "cell_type": "code",
   "execution_count": 56,
   "metadata": {},
   "outputs": [
    {
     "data": {
      "text/plain": [
       "1"
      ]
     },
     "execution_count": 56,
     "metadata": {},
     "output_type": "execute_result"
    }
   ],
   "source": [
    "#Match is case sensitive\n",
    "text.count('t')"
   ]
  },
  {
   "attachments": {},
   "cell_type": "markdown",
   "metadata": {},
   "source": [
    "### Conditionals and code indendation\n",
    "In Python, code blocks are separated by use of indentation. See the defintion of an `if`-statement below:\n",
    "\n",
    "#### Syntax of conditional blocks\n",
    "    \n",
    "```python\n",
    "if condition:\n",
    "    # Code goes here (must be indented!)\n",
    "    # Otherwise, IndentationError will be thrown\n",
    "\n",
    "# Code placed here is outside of the if-statement    \n",
    "```\n",
    "\n",
    "Where evaluation of `condition` must return a boolean (`True` or `False`).\n",
    "\n",
    "\n",
    "> **Remember:**\n",
    "> 1. The `:` ***must*** be present after `condition`.\n",
    "> 2. The line immediately after `:` ***must*** be indented. \n",
    "> 3. The `if`-statement is ***exited by reverting the indentation*** as shown above.\n",
    "\n",
    "This is how Python interprets the code as a block.    \n",
    "\n",
    "The same indentation rules are required for all types of code blocks, the `if`-block above is just an example. Examples of other types of code blocks are `for` and `while` loops, functions etc.\n",
    "\n",
    "All editors will automatically make the indentation upon hitting enter after the `:`, so it doesn't take long to get used to this. \n",
    "\n",
    "#### Comparison to other languages\n",
    "In many other programming languages indentation is not required. It is however still used as good practice to increase code readability. Instead of indentation, code blocks are denoted by encapsulating code in characters like `()`, `{}` etc.\n"
   ]
  },
  {
   "attachments": {},
   "cell_type": "markdown",
   "metadata": {},
   "source": [
    "### Conditional statements - examples\n",
    "\n",
    "#### `if`-statements\n",
    "An `if`-statement has the following syntax:"
   ]
  },
  {
   "cell_type": "code",
   "execution_count": 1,
   "metadata": {},
   "outputs": [
    {
     "name": "stdout",
     "output_type": "stream",
     "text": [
      "x is larger than 0\n"
     ]
    }
   ],
   "source": [
    "x = 5\n",
    "if x > 0:\n",
    "    print('x is larger than 0')"
   ]
  },
  {
   "cell_type": "markdown",
   "metadata": {},
   "source": [
    "#### `if` / `else`-statements"
   ]
  },
  {
   "cell_type": "code",
   "execution_count": 2,
   "metadata": {},
   "outputs": [
    {
     "name": "stdout",
     "output_type": "stream",
     "text": [
      "y is larger than 0\n"
     ]
    }
   ],
   "source": [
    "y = 5\n",
    "if y > 0:\n",
    "    print('y is larger than 0')\n",
    "else:\n",
    "    print('y is less than or equal to 0')"
   ]
  },
  {
   "cell_type": "markdown",
   "metadata": {},
   "source": [
    "#### `if` / `elif` / `else`"
   ]
  },
  {
   "cell_type": "code",
   "execution_count": 3,
   "metadata": {},
   "outputs": [
    {
     "name": "stdout",
     "output_type": "stream",
     "text": [
      "z is equal to 5\n"
     ]
    }
   ],
   "source": [
    "z = 5\n",
    "if z > 5:\n",
    "    print('z is larger than 5')\n",
    "elif z < 5:\n",
    "    print('z is less than 5')\n",
    "else:\n",
    "    print('z is equal to 5')"
   ]
  },
  {
   "cell_type": "markdown",
   "metadata": {},
   "source": [
    "An unlimited number of `elif` blocks can be used in between `if` and `else`."
   ]
  },
  {
   "cell_type": "markdown",
   "metadata": {},
   "source": [
    "## Exercises"
   ]
  },
  {
   "cell_type": "markdown",
   "metadata": {},
   "source": [
    "### Exercise 1\n",
    "Find the length of the following string:\n",
    "> ~~~~python\n",
    "> s = \"Building Information Modeling (BIM) is the foundation of digital transformation in the architecture, engineering, and construction (AEC) industry\"\n",
    "> ~~~~"
   ]
  },
  {
   "cell_type": "markdown",
   "metadata": {},
   "source": [
    "### Exercise 2\n",
    "Test if `s` from above has *\"construction\"* as last characters (should return `True` of course)"
   ]
  },
  {
   "cell_type": "markdown",
   "metadata": {},
   "source": [
    "### Exercise 3\n",
    "Print the following sentence using an `f-string`:\n",
    "\n",
    "```python\n",
    "'The string s has a length of {insert_length_of_s} items.'\n",
    "```\n",
    "\n",
    "Use `s` from above."
   ]
  },
  {
   "cell_type": "markdown",
   "metadata": {},
   "source": [
    "### Exercise 4\n",
    "Use the `count()` method to print the number of ***e***'s in the string `s` form above."
   ]
  },
  {
   "cell_type": "markdown",
   "metadata": {},
   "source": [
    "### Exercise 5\n",
    "Use the `replace()` method to replace `x` with `Y` in the following string:\n",
    "\n",
    ">~~~python\n",
    "string1 = 'asxfg'\n",
    ">~~~\n",
    "\n",
    "Save the new string in a variable `string2` and print the following sentence:\n",
    "```python\n",
    "'The string {insert_string1} was replaced by {insert_string2}'\n",
    "```"
   ]
  },
  {
   "cell_type": "markdown",
   "metadata": {},
   "source": [
    "### Exercise 6\n",
    "If the string below has more than 50 characters, print *\"String has more than 50 characters\"*, otherwise print *\"String has less than or exactly 50 characters\"*.\n",
    "~~~python\n",
    "dummy_string = 'Lorem ipsum is placeholder text commonly used in the graphic, print, and publishing industries for previewing layouts and visual mockups.'\n",
    "~~~"
   ]
  },
  {
   "cell_type": "markdown",
   "metadata": {},
   "source": [
    "### Exercise 7\n",
    "Print the number of space characters in `dummy_string` from above. "
   ]
  },
  {
   "cell_type": "markdown",
   "metadata": {},
   "source": [
    "### Exercise 8\n",
    "Create the variables\n",
    "\n",
    "```python\n",
    "letter1 = 'e'\n",
    "letter2 = 'm'\n",
    "```\n",
    "\n",
    "Convert this pseudo code to a Python program:\n",
    "\n",
    "```python\n",
    "if there are more occurrences of letter1 than letter2 in dummy_string:\n",
    "    print(\"There are more {insert_letter1}'s than {insert_letter2}'s\")\n",
    "    \n",
    "elif there are more occurrences of letter2 than letter1 in dummy_string:\n",
    "    print(\"There are more {insert_letter2}'s than {insert_letter1}'s\")\n",
    "\n",
    "else:\n",
    "    print(\"There are exactly the same number {insert_letter1}'s and {insert_letter2}'s\")\n",
    "```"
   ]
  },
  {
   "cell_type": "markdown",
   "metadata": {},
   "source": [
    "### Exercise 9\n",
    "Test the program you wrote above with different combinations of letters for the variables `letter1` and `letter2`. \n",
    "\n",
    "If you are still with us at this point you can try to implement a print message of the actual number of occurrences."
   ]
  }
 ],
 "metadata": {
  "kernelspec": {
   "display_name": "Python 3",
   "language": "python",
   "name": "python3"
  },
  "language_info": {
   "codemirror_mode": {
    "name": "ipython",
    "version": 3
   },
   "file_extension": ".py",
   "mimetype": "text/x-python",
   "name": "python",
   "nbconvert_exporter": "python",
   "pygments_lexer": "ipython3",
   "version": "3.11.4"
  },
  "orig_nbformat": 4
 },
 "nbformat": 4,
 "nbformat_minor": 2
}
