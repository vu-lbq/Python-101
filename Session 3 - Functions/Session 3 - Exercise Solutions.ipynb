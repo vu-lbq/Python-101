{
 "cells": [
  {
   "cell_type": "markdown",
   "metadata": {},
   "source": [
    "# 3. Exercise solutions"
   ]
  },
  {
   "cell_type": "markdown",
   "metadata": {},
   "source": [
    "# Exercise 1"
   ]
  },
  {
   "cell_type": "code",
   "execution_count": 1,
   "metadata": {},
   "outputs": [
    {
     "name": "stdout",
     "output_type": "stream",
     "text": [
      "314.1592653589793\n"
     ]
    }
   ],
   "source": [
    "def circle_area(r):\n",
    "    '''Return circle area'''\n",
    "    return pi * r**2 / 4 \n",
    "\n",
    "\n",
    "# Import pi from the math library\n",
    "from math import pi\n",
    "\n",
    "# Test function with input with r=20, save returned value\n",
    "A20 = circle_area(r=20)\n",
    "\n",
    "# Print the result\n",
    "print(A20)"
   ]
  },
  {
   "cell_type": "markdown",
   "metadata": {},
   "source": [
    "* **Note**: Calling the funtion as `circle_area(20)` and `circle_area(r=20)` is the same."
   ]
  },
  {
   "cell_type": "markdown",
   "metadata": {},
   "source": [
    "# Exercise 2"
   ]
  },
  {
   "cell_type": "code",
   "execution_count": 2,
   "metadata": {},
   "outputs": [
    {
     "name": "stdout",
     "output_type": "stream",
     "text": [
      "[78.53981633974483, 113.09733552923255, 201.06192982974676, 314.1592653589793, 490.8738521234052, 804.247719318987]\n"
     ]
    }
   ],
   "source": [
    "def circle_areas(radii):\n",
    "    # Use list comprehension to return a list of radii\n",
    "    return [circle_area(r) for r in radii]\n",
    "\n",
    "\n",
    "# Define list of radii\n",
    "list_of_radii = [10, 12, 16, 20, 25, 32]\n",
    "\n",
    "# Call function with input list\n",
    "print(circle_areas(list_of_radii))"
   ]
  },
  {
   "cell_type": "markdown",
   "metadata": {},
   "source": [
    "* **Note 1:** Call to function `circle_area` defined in Exercise instead of defining the expression `pi * r**2 / 4` again. The concept of functions calling other functions can be used to make modular programs that are easy to follow and maintain. Each function only needs to do a small thing in itself.\n",
    "\n",
    "* **Note 2:** The input parameter when the function was *defined* was a list called `radii`, but when the function was *called*, the input list was called `list_of_radii`. Thus, the input parameters passed into a function do not need to have the same name as when the function is defined."
   ]
  },
  {
   "cell_type": "markdown",
   "metadata": {},
   "source": [
    "# Exercise 3"
   ]
  },
  {
   "cell_type": "code",
   "execution_count": 3,
   "metadata": {},
   "outputs": [
    {
     "name": "stdout",
     "output_type": "stream",
     "text": [
      "[False, True, False, True, True, False, True]\n"
     ]
    }
   ],
   "source": [
    "def is_pile_long(pile_lengths):\n",
    "    \n",
    "    # Create True or False value by list comprehension with if/else\n",
    "    return [True if length >= 5 else False for length in pile_lengths]\n",
    "\n",
    "\n",
    "# Define a list of some pile lengths to test\n",
    "piles = [4.51, 6.12, 4.15, 7.31, 5.01, 4.99, 5.00]\n",
    "\n",
    "# Call function \n",
    "print(is_pile_long(piles))"
   ]
  },
  {
   "cell_type": "markdown",
   "metadata": {},
   "source": [
    "* **Note:** The built-in boolean values `True` and `False` *must* be capitalized to be recognized by Python. If for example `true` is used, Python will assume that it is a variable that you have named `true` and give an error if it is not defined. All editors will highlight the special words recognized by Python, so if the editor does not highlight, it's a sign that something is wrong."
   ]
  },
  {
   "cell_type": "markdown",
   "metadata": {},
   "source": [
    "# Exercise 4"
   ]
  },
  {
   "cell_type": "code",
   "execution_count": 4,
   "metadata": {},
   "outputs": [
    {
     "name": "stdout",
     "output_type": "stream",
     "text": [
      "4.608176875690327\n",
      "6.3728037317960675\n"
     ]
    }
   ],
   "source": [
    "# Import sqrt from the math library\n",
    "from math import sqrt\n",
    "\n",
    "\n",
    "def dist_point_to_line(x, y, x1, y1, x2, y2):\n",
    "    '''Return distance between a point and a line defined by two points.\n",
    "\n",
    "    Args:\n",
    "        x  : x-coordinate of point \n",
    "        y  : y-coordinate of point\n",
    "        x1 : x-coordinate of point 1 defining the line\n",
    "        y1 : y-coordinate of point 1 defining the line\n",
    "        x2 : x-coordinate of point 2 defining the line\n",
    "        y2 : y-coordinate of point 2 defining the line\n",
    "\n",
    "    Returns:\n",
    "           The distance between the point and the line        \n",
    "    '''\n",
    "    return abs( (y2 - y1) * x - (x2 - x1) * y + x2 * y1 - x1 * y2) / sqrt((x2 - x1)**2 + (y2 - y1)**2)\n",
    "\n",
    "\n",
    "# Call the function with the two test cases\n",
    "print(dist_point_to_line(2, 1, 5, 5, 1, 6))\n",
    "print(dist_point_to_line(1.4, 5.2, 10.1, 2.24, 34.142, 13.51))"
   ]
  },
  {
   "cell_type": "markdown",
   "metadata": {},
   "source": [
    "* **Note:** `abs()` used to get the numerical value."
   ]
  },
  {
   "cell_type": "markdown",
   "metadata": {},
   "source": [
    "# Exercise 5\n"
   ]
  },
  {
   "cell_type": "code",
   "execution_count": 5,
   "metadata": {},
   "outputs": [
    {
     "name": "stdout",
     "output_type": "stream",
     "text": [
      "[3.4114062067851583, 28.899880223334442, 2.745765971314884, 25.405268987115498, 3.466876226407682, 6.157172178100044]\n"
     ]
    }
   ],
   "source": [
    "# Two points defining the line\n",
    "x1, y1, x2, y2 = 2, 3, 8, 7\n",
    "\n",
    "# Define points for distance to line calculation\n",
    "x_coords = [4.1, 22.2, 7.7, 62.2, 7.8, 1.1]\n",
    "y_coords = [0.3, 51.2, 3.5, 12.6, 2.7, 9.8]\n",
    "\n",
    "# Call function dist_point_to_line for all (x, y) points\n",
    "distances = [dist_point_to_line(x_coords[i], y_coords[i], x1, y1, x2, y2) for i in range(len(x_coords))]\n",
    "\n",
    "# Print new list\n",
    "print(distances)"
   ]
  },
  {
   "cell_type": "markdown",
   "metadata": {},
   "source": [
    "A way that is more Pythonic than the above is using `zip`, which takes the two coordinate lists and puts \n",
    "them side by side, almost like a zipper. It is often more clean and expressive than using a loop counter `i` over the length of one of the lists."
   ]
  },
  {
   "cell_type": "code",
   "execution_count": 6,
   "metadata": {},
   "outputs": [
    {
     "name": "stdout",
     "output_type": "stream",
     "text": [
      "[3.4114062067851583, 28.899880223334442, 2.745765971314884, 25.405268987115498, 3.466876226407682, 6.157172178100044]\n"
     ]
    }
   ],
   "source": [
    "# Solution using zip\n",
    "distances_zip = [dist_point_to_line(x, y, x1, y1, x2, y2) for x, y in zip(x_coords, y_coords)]\n",
    "print(distances_zip)"
   ]
  },
  {
   "cell_type": "code",
   "execution_count": 7,
   "metadata": {},
   "outputs": [
    {
     "name": "stdout",
     "output_type": "stream",
     "text": [
      "[3.41, 28.9, 2.75, 25.41, 3.47, 6.16]\n"
     ]
    }
   ],
   "source": [
    "# Results rounded to two decimals using the round() function\n",
    "print([round(dist, 2) for dist in distances])"
   ]
  },
  {
   "cell_type": "markdown",
   "metadata": {},
   "source": [
    "# Exercise 6"
   ]
  },
  {
   "cell_type": "code",
   "execution_count": 8,
   "metadata": {},
   "outputs": [
    {
     "name": "stdout",
     "output_type": "stream",
     "text": [
      "12.0\n"
     ]
    }
   ],
   "source": [
    "def polygon_area(xv, yv, signed=False):\n",
    "    ''' Return the area of a non-self-intersecting polygon given the coordinates of its vertices'''\n",
    "\n",
    "    # Perform shoelace multiplication\n",
    "    a1 = [xv[i] * yv[i+1] for i in range(len(xv)-1)]\n",
    "    a2 = [yv[i] * xv[i+1] for i in range(len(yv)-1)]\n",
    "\n",
    "    # Check if area should be signed and return area\n",
    "    if signed:          # <--- Same as \"if signed == True:\"\n",
    "        return 1/2 * ( sum(a1) - sum(a2) )\n",
    "    else:\n",
    "        return 1/2 * abs( sum(a1) - sum(a2) )\n",
    "\n",
    "\n",
    "# Define the polygon vertices to test\n",
    "x = [3, 4, 7, 8, 8.5, 3]\n",
    "y = [5, 3, 0, 1, 3, 5]\n",
    "\n",
    "# Calculate area by calling the function\n",
    "A = polygon_area(x, y)\n",
    "\n",
    "# Print the area\n",
    "print(A)"
   ]
  },
  {
   "cell_type": "markdown",
   "metadata": {},
   "source": [
    "# Exercise 7"
   ]
  },
  {
   "cell_type": "code",
   "execution_count": 9,
   "metadata": {},
   "outputs": [
    {
     "name": "stdout",
     "output_type": "stream",
     "text": [
      "6.083333333333333 2.5833333333333335\n"
     ]
    }
   ],
   "source": [
    "def polygon_centroid(x, y):\n",
    "\n",
    "    # Initialize empty lists for holding summation terms\n",
    "    cx, cy = [], []\n",
    "    \n",
    "    # Loop over vertices and put the summation terms in the lists\n",
    "    for i in range(len(x)-1):\n",
    "        \n",
    "        # Compute and append summation terms to each list\n",
    "        cx.append((x[i] + x[i+1]) * (x[i] * y[i+1] - x[i+1] * y[i]))\n",
    "        cy.append((y[i] + y[i+1]) * (x[i] * y[i+1] - x[i+1] * y[i]))\n",
    "\n",
    "    # Calculate the signed polygon area by calling already defined function\n",
    "    A = polygon_area(x, y, signed=True)    \n",
    "        \n",
    "    # Sum summation terms and divide by 6A to get coordinates\n",
    "    Cx = sum(cx) / (6*A)\n",
    "    Cy = sum(cy) / (6*A)\n",
    "    \n",
    "    return Cx, Cy    \n",
    "\n",
    "\n",
    "# Define lists of vertex coordinates for testing\n",
    "x = [3, 4, 7, 8, 8.5, 3]\n",
    "y = [5, 3, 0, 1, 3, 5]\n",
    "\n",
    "# Compute centroid by calling function, store in two variables\n",
    "cx, cy = polygon_centroid(x, y)\n",
    "\n",
    "# Print result\n",
    "print(cx, cy)"
   ]
  },
  {
   "cell_type": "code",
   "execution_count": 10,
   "metadata": {},
   "outputs": [
    {
     "name": "stdout",
     "output_type": "stream",
     "text": [
      "Polygon centroid is at (Cx, Cy) = (6.1, 2.6)\n"
     ]
    }
   ],
   "source": [
    "# Print result as text with formatted decimals\n",
    "print(f'Polygon centroid is at (Cx, Cy) = ({cx:.1f}, {cy:.1f})')"
   ]
  },
  {
   "cell_type": "markdown",
   "metadata": {},
   "source": [
    "# Appetizer for next time - Plotting\n",
    "\n",
    "### Plotting the solution for the polygon centroid exercise:"
   ]
  },
  {
   "cell_type": "code",
   "execution_count": 11,
   "metadata": {},
   "outputs": [
    {
     "data": {
      "text/plain": [
       "<Figure size 640x480 with 1 Axes>"
      ]
     },
     "metadata": {},
     "output_type": "display_data"
    }
   ],
   "source": [
    "import matplotlib.pyplot as plt\n",
    "\n",
    "# Plot polygon from exercises with centroid and area\n",
    "plt.plot(x, y, '.-', label='Polygon')\n",
    "plt.plot(cx, cy, 'x', label='Centroid')\n",
    "\n",
    "# Plot coordinates of centroid as text\n",
    "plt.annotate(f'({cx:.1f}, {cy:.1f})', xy=(cx, cy),\n",
    "             xytext=(cx, cy), textcoords='offset points')\n",
    "\n",
    "# Set labels, titles and legend\n",
    "plt.xlabel('x')\n",
    "plt.ylabel('y')\n",
    "plt.title(f'Polygon with A={A}')\n",
    "plt.legend()\n",
    "plt.show()"
   ]
  },
  {
   "cell_type": "markdown",
   "metadata": {},
   "source": [
    "### Function for plotting an arbitrary polygon\n",
    "The plotting code above could be turned into a function to plot an arbitrary polygon together with its center of gravity and put its area in the title:    "
   ]
  },
  {
   "cell_type": "code",
   "execution_count": 12,
   "metadata": {},
   "outputs": [
    {
     "data": {
      "image/png": "[encoded data removed]",
      "text/plain": [
       "<Figure size 432x288 with 1 Axes>"
      ]
     },
     "metadata": {
      "needs_background": "light"
     },
     "output_type": "display_data"
    }
   ],
   "source": [
    "\n",
    "def plot_polygon(xv, yv, plot_centroid=True):   \n",
    "    '''Plot the polygon with the specified vertex coordinates. \n",
    "    \n",
    "    The plot is created with legend and the computed area of the \n",
    "    polygon shown in the title. The plot shows the centroid of \n",
    "    the polygon by default, but this can be turned off by setting \n",
    "    plot_centroid=False.\n",
    "    \n",
    "    Args:\n",
    "        xv (list)            : x-coordinates of polygon vertices\n",
    "        yv (list)            : y-coordinates of polygon vertices\n",
    "        plot_centroid (bool) : Plot centroid of polygon (Cx, Cy).\n",
    "                               Defaults to plotting the centroid.  \n",
    "    '''\n",
    "    \n",
    "    # Compute area of polygon\n",
    "    A = polygon_area(xv, yv)\n",
    "    \n",
    "    # Compute polygon centroid\n",
    "    cx, cy = polygon_centroid(xv, yv)\n",
    "    \n",
    "    # Plot the polygon\n",
    "    plt.plot(xv, yv, '.-', label='Polygon')\n",
    "    \n",
    "    # Plot the centroid with coordinates if that was chosen\n",
    "    if plot_centroid:   # <- Eqiuvalent to: if plot_centroid == True:\n",
    "        plt.plot(cx, cy, 'x', label='Centroid')\n",
    "        plt.annotate(f'({cx:.1f}, {cy:.1f})', xy=(cx, cy),\n",
    "                     xytext=(cx, cy), textcoords='offset points')\n",
    "    \n",
    "    # Set labels, titles and legend\n",
    "    plt.xlabel('x')\n",
    "    plt.ylabel('y')\n",
    "    plt.title(f'Polygon with A={A}')\n",
    "    plt.legend()\n",
    "    plt.show()\n",
    "    \n",
    "    \n",
    "# Define vertices of some random polygon\n",
    "x_polygon = [-5, 2, 5, 7, 8, 5, 1, -5]\n",
    "y_polygon = [-2, -15, -13, -10, -6, 2, 5, -2]\n",
    "\n",
    "# Call function to plot polygon with area and centroid shown\n",
    "plot_polygon(x_polygon, y_polygon)\n"
   ]
  },
  {
   "cell_type": "markdown",
   "metadata": {},
   "source": [
    "* **Note 1:** Optional input parameter `plot_centroid` has `True` as default argument. `True` is immutable.\n",
    "* **Note 2:** The area of the polygon is actually calculated both in the `polygon_area()` function and in the `polygon_centroid()` function, which is maybe not so clean. A way to overcome this could be to have `polygon_centroid()` return the area. Thereby running the `polygon_area()`function alone would not be necessary."
   ]
  },
  {
   "cell_type": "markdown",
   "metadata": {},
   "source": [
    "# End of exercises\n",
    "\n",
    "*The cell below is for setting the style of this document. It's not part of the exercises.*"
   ]
  },
  {
   "cell_type": "code",
   "execution_count": 2,
   "metadata": {},
   "outputs": [
    {
     "ename": "FileNotFoundError",
     "evalue": "[Errno 2] No such file or directory: '../css/cowi.css'",
     "output_type": "error",
     "traceback": [
      "\u001b[1;31m---------------------------------------------------------------------------\u001b[0m",
      "\u001b[1;31mFileNotFoundError\u001b[0m                         Traceback (most recent call last)",
      "Cell \u001b[1;32mIn[2], line 2\u001b[0m\n\u001b[0;32m      1\u001b[0m \u001b[39mfrom\u001b[39;00m \u001b[39mIPython\u001b[39;00m\u001b[39m.\u001b[39;00m\u001b[39mdisplay\u001b[39;00m \u001b[39mimport\u001b[39;00m HTML\n\u001b[1;32m----> 2\u001b[0m HTML(\u001b[39m'\u001b[39m\u001b[39m<style>\u001b[39m\u001b[39m{}\u001b[39;00m\u001b[39m</style>\u001b[39m\u001b[39m'\u001b[39m\u001b[39m.\u001b[39mformat(\u001b[39mopen\u001b[39;49m(\u001b[39m'\u001b[39;49m\u001b[39m../css/cowi.css\u001b[39;49m\u001b[39m'\u001b[39;49m)\u001b[39m.\u001b[39mread()))\n",
      "File \u001b[1;32mc:\\Users\\Admin\\AppData\\Local\\Programs\\Python\\Python310\\lib\\site-packages\\IPython\\core\\interactiveshell.py:284\u001b[0m, in \u001b[0;36m_modified_open\u001b[1;34m(file, *args, **kwargs)\u001b[0m\n\u001b[0;32m    277\u001b[0m \u001b[39mif\u001b[39;00m file \u001b[39min\u001b[39;00m {\u001b[39m0\u001b[39m, \u001b[39m1\u001b[39m, \u001b[39m2\u001b[39m}:\n\u001b[0;32m    278\u001b[0m     \u001b[39mraise\u001b[39;00m \u001b[39mValueError\u001b[39;00m(\n\u001b[0;32m    279\u001b[0m         \u001b[39mf\u001b[39m\u001b[39m\"\u001b[39m\u001b[39mIPython won\u001b[39m\u001b[39m'\u001b[39m\u001b[39mt let you open fd=\u001b[39m\u001b[39m{\u001b[39;00mfile\u001b[39m}\u001b[39;00m\u001b[39m by default \u001b[39m\u001b[39m\"\u001b[39m\n\u001b[0;32m    280\u001b[0m         \u001b[39m\"\u001b[39m\u001b[39mas it is likely to crash IPython. If you know what you are doing, \u001b[39m\u001b[39m\"\u001b[39m\n\u001b[0;32m    281\u001b[0m         \u001b[39m\"\u001b[39m\u001b[39myou can use builtins\u001b[39m\u001b[39m'\u001b[39m\u001b[39m open.\u001b[39m\u001b[39m\"\u001b[39m\n\u001b[0;32m    282\u001b[0m     )\n\u001b[1;32m--> 284\u001b[0m \u001b[39mreturn\u001b[39;00m io_open(file, \u001b[39m*\u001b[39margs, \u001b[39m*\u001b[39m\u001b[39m*\u001b[39mkwargs)\n",
      "\u001b[1;31mFileNotFoundError\u001b[0m: [Errno 2] No such file or directory: '../css/cowi.css'"
     ]
    }
   ],
   "source": [
    "from IPython.display import HTML\n",
    "HTML('<style>{}</style>'.format(open('../css/cowi.css').read()))"
   ]
  }
 ],
 "metadata": {
  "hide_input": false,
  "kernelspec": {
   "display_name": "Python 3",
   "language": "python",
   "name": "python3"
  },
  "language_info": {
   "codemirror_mode": {
    "name": "ipython",
    "version": 3
   },
   "file_extension": ".py",
   "mimetype": "text/x-python",
   "name": "python",
   "nbconvert_exporter": "python",
   "pygments_lexer": "ipython3",
   "version": "3.10.4"
  },
  "latex_envs": {
   "LaTeX_envs_menu_present": true,
   "autoclose": false,
   "autocomplete": true,
   "bibliofile": "biblio.bib",
   "cite_by": "apalike",
   "current_citInitial": 1,
   "eqLabelWithNumbers": true,
   "eqNumInitial": 1,
   "hotkeys": {
    "equation": "Ctrl-E",
    "itemize": "Ctrl-I"
   },
   "labels_anchors": false,
   "latex_user_defs": false,
   "report_style_numbering": false,
   "user_envs_cfg": false
  },
  "toc": {
   "base_numbering": 1,
   "nav_menu": {},
   "number_sections": false,
   "sideBar": true,
   "skip_h1_title": false,
   "title_cell": "Table of Contents",
   "title_sidebar": "Contents",
   "toc_cell": false,
   "toc_position": {},
   "toc_section_display": true,
   "toc_window_display": true
  }
 },
 "nbformat": 4,
 "nbformat_minor": 2
}
