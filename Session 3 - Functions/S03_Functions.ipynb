{
 "cells": [
  {
   "cell_type": "markdown",
   "metadata": {
    "cell_style": "center"
   },
   "source": [
    "\n",
    "# 3. Functions\n",
    "A **function** is a block of code that is first defined, and thereafter can be called to run as many times as needed. A function might have arguments, some of which can be optional if a default value is specified.\n",
    "\n",
    "A function is called by parentheses: `function_name()`. Arguments are placed inside the parentehes and comma separated if there are more than one.\n",
    "Similar to `f(x, y)` from mathematics.\n",
    "\n",
    "A function can return one or more values to the caller. The values to return are put in the `return` statement. When the code hits a `return` statement the function terminates. If no `return` statement is given, the function will return `None`.\n",
    "\n",
    "The general syntax of a function is:\n",
    "\n",
    "~~~python\n",
    "def function_name(arg1, arg2, default_arg1=0, default_arg2=None):\n",
    "    '''This is the docstring \n",
    "    \n",
    "    The docstring explains what the function does, so it is like a multiline comment. It does not have to be here, \n",
    "    but it is good practice to use them to document the code. They are especially useful for more complicated \n",
    "    functions, although functions should in general be kept as simple as possible.\n",
    "    Arguments could be explained together with their types (e.g. strings, lists, dicts etc.).\n",
    "    '''\n",
    "    \n",
    "    # Function code goes here\n",
    "    \n",
    "    # Possible 'return' statement terminating the function. If 'return' is not specified, function returns None.\n",
    "    return return_val1, return_val2\n",
    "~~~\n",
    "\n",
    "If multiple values are to be returned, they can be separated by commas as shown. The returned entity will by default be a `tuple`.\n",
    "\n",
    "Note that when using default arguments, it is good practice to only use immutable types. An example further below will demonstrate why this is recommended. \n",
    "\n"
   ]
  },
  {
   "cell_type": "markdown",
   "metadata": {},
   "source": [
    "## Basic functions\n",
    "A simple function with one argument is defined below."
   ]
  },
  {
   "cell_type": "code",
   "execution_count": 2,
   "metadata": {},
   "outputs": [],
   "source": [
    "def f(x):\n",
    "    return 6.25 + x + x**2"
   ]
  },
  {
   "cell_type": "markdown",
   "metadata": {},
   "source": [
    ">**Note:** No code has been executed yet. It has merely been defined so it's ready to run when the function is called.\n",
    "\n",
    "Calling the function with the argument `5` returns:"
   ]
  },
  {
   "cell_type": "code",
   "execution_count": 3,
   "metadata": {},
   "outputs": [
    {
     "data": {
      "text/plain": [
       "36.25"
      ]
     },
     "execution_count": 3,
     "metadata": {},
     "output_type": "execute_result"
    }
   ],
   "source": [
    "f(5)"
   ]
  },
  {
   "cell_type": "markdown",
   "metadata": {},
   "source": [
    "If we define a function without returning anything, it returns `None`:"
   ]
  },
  {
   "cell_type": "code",
   "execution_count": 4,
   "metadata": {},
   "outputs": [
    {
     "name": "stdout",
     "output_type": "stream",
     "text": [
      "None\n"
     ]
    }
   ],
   "source": [
    "def first_char(word):\n",
    "    word[0]    # <--- No return statement, function returns None\n",
    "    \n",
    "    \n",
    "# Variable a will be equal to None\n",
    "a = first_char('hello')   \n",
    "\n",
    "# Printing the returned value\n",
    "print(a)"
   ]
  },
  {
   "cell_type": "markdown",
   "metadata": {},
   "source": [
    "Often a return value is wanted from a function, but there could be scenarios where it is not wanted. E.g. if you want to mutate a list by the function. Consider this example:"
   ]
  },
  {
   "cell_type": "code",
   "execution_count": 5,
   "metadata": {},
   "outputs": [
    {
     "name": "stdout",
     "output_type": "stream",
     "text": [
      "Hello Anders\n",
      "Hello Anders\n",
      "None\n"
     ]
    }
   ],
   "source": [
    "def say_hello_to(name):\n",
    "    ''' Say hello to the input name  '''\n",
    "    print(f'Hello {name}')\n",
    "    \n",
    "\n",
    "say_hello_to('Anders')      # <--- Calling the function prints 'Hello {name}'\n",
    "\n",
    "r = say_hello_to('Anders')  # <--- Calling the function prints 'Hello {name}' and assigns None to r\n",
    "\n",
    "print(r)                    # <--- Prints None, since function had no return statement "
   ]
  },
  {
   "cell_type": "markdown",
   "metadata": {},
   "source": [
    "The function was still useful even though it did not return anything. Another example could be a function that creates a plot instead of returning a value."
   ]
  },
  {
   "cell_type": "markdown",
   "metadata": {},
   "source": [
    "## Examples of built-in functions\n",
    "### Using `enumerate` for looping in index/value pairs\n",
    "The built-in `enumerate` is useful when you want to loop over an iterable together with the index of each of its elements:"
   ]
  },
  {
   "cell_type": "code",
   "execution_count": 6,
   "metadata": {},
   "outputs": [
    {
     "name": "stdout",
     "output_type": "stream",
     "text": [
      "0 a\n",
      "1 b\n",
      "2 c\n",
      "3 d\n",
      "4 c\n"
     ]
    }
   ],
   "source": [
    "# Define a list of strings\n",
    "letters = ['a', 'b', 'c', 'd', 'c']\n",
    "\n",
    "# Loop over index and elements in pairs\n",
    "for idx, letter in enumerate(letters):\n",
    "    print(idx, letter)"
   ]
  },
  {
   "cell_type": "code",
   "execution_count": 7,
   "metadata": {},
   "outputs": [
    {
     "name": "stdout",
     "output_type": "stream",
     "text": [
      "1 a\n",
      "2 b\n",
      "3 c\n",
      "4 d\n",
      "5 c\n"
     ]
    }
   ],
   "source": [
    "# Starting at 1 (internally, enumerate has start=0 set as default)\n",
    "for idx, letter in enumerate(letters, start=1):   \n",
    "    print(idx, letter)"
   ]
  },
  {
   "cell_type": "markdown",
   "metadata": {},
   "source": [
    "`enumerate` solves a commonly encountered scenario, i.e. looping in index/value pairs. \n",
    "\n",
    "Similar functionality could be obtained by looping over the index and indexing the list value inside each loop (**Not recommended**): "
   ]
  },
  {
   "cell_type": "code",
   "execution_count": 8,
   "metadata": {},
   "outputs": [
    {
     "name": "stdout",
     "output_type": "stream",
     "text": [
      "0 a\n",
      "1 b\n",
      "2 c\n",
      "3 d\n",
      "4 c\n"
     ]
    }
   ],
   "source": [
    "# Loop over index and elements in pairs\n",
    "for i in range(len(letters)):\n",
    "    print(i, letters[i])"
   ]
  },
  {
   "cell_type": "markdown",
   "metadata": {},
   "source": [
    "The Pythonic way is to use `enumerate` in this scenario since most people find it more readable.  "
   ]
  },
  {
   "cell_type": "markdown",
   "metadata": {},
   "source": [
    "### Using `zip` for looping over multiple iterables\n",
    "The built-in `zip`is useful when you want to put two lists up beside each other and loop over them element by element in pairs."
   ]
  },
  {
   "cell_type": "code",
   "execution_count": 9,
   "metadata": {},
   "outputs": [
    {
     "name": "stdout",
     "output_type": "stream",
     "text": [
      "10 78.5\n",
      "12 113.04\n",
      "16 200.96\n",
      "20 314.0\n",
      "25 490.625\n"
     ]
    }
   ],
   "source": [
    "# Define a list of circle diameters\n",
    "diameters = [10, 12, 16, 20, 25]                    \n",
    "\n",
    "# Compute circle area by list comprehension\n",
    "areas = [3.14 * (d/2)**2 for d in diameters]\n",
    "\n",
    "# Print (diameter, area) pairs\n",
    "for d, A in zip(diameters, areas):\n",
    "    print(d, A)"
   ]
  },
  {
   "cell_type": "markdown",
   "metadata": {},
   "source": [
    "`zip` can be used for more than two iterables:"
   ]
  },
  {
   "cell_type": "code",
   "execution_count": 10,
   "metadata": {},
   "outputs": [
    {
     "name": "stdout",
     "output_type": "stream",
     "text": [
      "a h o\n",
      "b i p\n",
      "c j q\n"
     ]
    }
   ],
   "source": [
    "# Use zip with three strings\n",
    "for x, y, z in zip('abc', 'hij', 'opq'):\n",
    "    print(x, y, z)"
   ]
  },
  {
   "cell_type": "markdown",
   "metadata": {},
   "source": [
    "`zip` stops when the shortest iterable is exhausted. So if `c` is removed from the first string in the example above, we have iterables of lengths 2, 3 and 3. \n",
    "\n",
    "Thus, only two iterations are performed:"
   ]
  },
  {
   "cell_type": "code",
   "execution_count": 11,
   "metadata": {},
   "outputs": [
    {
     "name": "stdout",
     "output_type": "stream",
     "text": [
      "a h o\n",
      "b i p\n"
     ]
    }
   ],
   "source": [
    "# Use zip with three strings\n",
    "for x, y, z in zip('ab', 'hij', 'opq'):\n",
    "    print(x, y, z)"
   ]
  },
  {
   "cell_type": "markdown",
   "metadata": {},
   "source": [
    "## Local vs. global variables\n",
    "\n",
    "* **Global variables**: Variables defined outside a function\n",
    "* **Local variables**:  Variables defined inside a function\n",
    "\n",
    "Local variables cannot be accessed outside the function. By returning a local variable and saving it into a global variable we can use the result outside the function, in the global namespace."
   ]
  },
  {
   "cell_type": "markdown",
   "metadata": {},
   "source": [
    "## Imports\n",
    "\n",
    "### Libraries\n",
    "A quick overview of imports of libraries in Python, here shown for the math library:\n",
    "\n",
    "---\n",
    "~~~python\n",
    "import math            # Lets you access everything in the math library by dot-notation (e.g math.pi)  \n",
    "from math import pi    # Lets you use pi directly\n",
    "from math import *     # Lets you use everything in the math library directly \n",
    "~~~\n",
    "The last one is not considered good practice, since variables will be untraceable. It can be good for making quick tests though.\n",
    "\n",
    "### Your own modules\n",
    "You can also import your own `.py` files this way and access the functions inside them. It is easiest if the file to import is located in the same folder as the `.py` file you want to import to. \n",
    "\n",
    "An example:\n",
    "\n",
    "~~~python\n",
    "import my_module      # my_module could be your own python file located in same directory\n",
    "~~~\n",
    "If you have a function inside `my_module` called `my_func`, you can now call it as `my_module.my_func()`.\n",
    "\n",
    "> Python files that are meant to be executed directly are called **scripts** and files that are imported into other files are called **modules**."
   ]
  },
  {
   "cell_type": "markdown",
   "metadata": {},
   "source": [
    "# Exercise 1\n",
    "Finish the function below that takes a radius `r` as input and make it return the circle area.\n",
    "\n",
    "~~~python\n",
    "def circle_area(r):\n",
    "    '''Return circle area'''\n",
    "    # Your code goes here\n",
    "~~~\n",
    "\n",
    "Try to call it to see if it works. If you want to access `pi` to avoid typing it out yourself, put the line `from math import pi` at some point before defining the `circle_area` function.\n"
   ]
  },
  {
   "cell_type": "markdown",
   "metadata": {},
   "source": [
    "# Exercise 2\n",
    "Write a function that takes a list `radii` as input and returns a list of the corresponding circle areas. Try to set it up from scratch and test it (note that the build-in `map()` function does the same).\n",
    "\n",
    "You can use the function from the previous exercise if you want."
   ]
  },
  {
   "cell_type": "markdown",
   "metadata": {},
   "source": [
    "# Exercise 3\n",
    "Write the function described in the docstring below.\n",
    "\n",
    "~~~Python\n",
    "def is_pile_long(pile_lengths):\n",
    "   ''' Return a list with elements `True` for all piles longer than or equal to 5m, `False` otherwise.\n",
    "   \n",
    "   Args:\n",
    "       pile_lengths: A list containing pile lengths   \n",
    "       \n",
    "   Example: \n",
    "       is_pile_long([4.51, 6.12, 4.15, 7.31, 5.01, 4.99, 5.00])\n",
    "               ---> [False, True, False, True, True, False, True] \n",
    "   '''\n",
    "   # Your code goes here\n",
    "   \n",
    "~~~"
   ]
  },
  {
   "cell_type": "markdown",
   "metadata": {},
   "source": [
    "# Exercise 4\n",
    "Finish the function below so it does as described in the docstring. Remember to import the `sqrt` function from the math module.\n",
    "\n",
    "---\n",
    "~~~python\n",
    "def dist_point_to_line(x, y, x1, y1, x2, y2):\n",
    "    '''Return distance between a point and a line defined by two points.\n",
    "    \n",
    "    Args:\n",
    "        x  : x-coordinate of point \n",
    "        y  : y-coordinate of point\n",
    "        x1 : x-coordinate of point 1 defining the line\n",
    "        y1 : y-coordinate of point 1 defining the line\n",
    "        x2 : x-coordinate of point 2 defining the line\n",
    "        y2 : y-coordinate of point 2 defining the line\n",
    "        \n",
    "    Returns:\n",
    "           The distance between the point and the line        \n",
    "    '''\n",
    "    # Your code goes here\n",
    "~~~\n",
    "---\n",
    "The distance between a point $(x, y)$ and a line passing through points $(x_1, y_1)$ and $(x_2, y_2)$ can be found as\n",
    "\n",
    "\\begin{equation*}\n",
    "\\textrm{ distance}(P_1, P_2, (x, y)) = \\frac{|(y_2-y_1)x - (x_2-x_1)y + x_2 y_1 - y_2 x_1|}{\\sqrt{ (x_2-x_1)^2 + (y_2-y_1)^2 }}\n",
    "\\end{equation*}\n",
    "\n",
    "Use `abs()` to get the numeric value.\n",
    "\n",
    "Call the function to test if it works. Some examples to test against:\n",
    "\n",
    "~~~python\n",
    "dist_point_to_line(2, 1, 5, 5, 1, 6)                      -->   4.61 \n",
    "dist_point_to_line(1.4, 5.2, 10.1, 2.24, 34.142, 13.51)   -->   6.37 \n",
    "~~~\n"
   ]
  },
  {
   "cell_type": "markdown",
   "metadata": {},
   "source": [
    "# Exercise 5\n",
    "Given a line defined by two points $(x_1, y_1)=(2, 3)$ and $(x_2, y_2)=(8, 7)$, compute the distance to the points with coordinates `x_coords` and `y_coords` below.\n",
    "\n",
    "Put the results into a list.\n",
    "\n",
    "~~~python\n",
    "# x- and y-coordinates of points\n",
    "x_coords = [4.1, 22.2, 7.7, 62.2, 7.8, 1.1]\n",
    "y_coords = [0.3, 51.2, 3.5, 12.6, 2.7, 9.8]\n",
    "~~~\n",
    "\n",
    "You can either use a list comprehension or create a traditional `for`-loop where results get appended to the list in every loop.\n"
   ]
  },
  {
   "cell_type": "markdown",
   "metadata": {},
   "source": [
    "# Exercise 6\n",
    "Create a function that calculates the area of a simple (non-self-intersecting) polygon by using the so-called **Shoelace Formula**\n",
    "\n",
    "$$ A_p = \\frac{1}{2} \\sum_{i=0}^{n-1} (x_i y_{i+1} - x_{i+1} y_i) $$\n",
    "\n",
    "The area is **signed** depending on the ordering of the polygon being clockwise or counter-clockwise. The numerical value of the formula will always be equal to the actual area.\n",
    "\n",
    "The function should take three input parameters:\n",
    "\n",
    "* `xv`       - list of x-coordinates of all vertices\n",
    "* `yv`       - list of y-coordinates of all vertices\n",
    "* `signed`   - boolean value that dictates whether the function returns the signed area or the actual area. Default should be   actual area.\n",
    "\n",
    "Assume that the polygon is closed, i.e. the first and last elements of `xv` are identical and the same is true for `yv`.\n",
    "\n",
    "A function call with these input coordinates should return `12.0`: \n",
    "~~~python \n",
    "x = [3, 4, 7, 8, 8.5, 3]\n",
    "y = [5, 3, 0, 1, 3, 5]\n",
    "~~~\n",
    "\n",
    "Source: https://en.wikipedia.org/wiki/Polygon#Area"
   ]
  },
  {
   "cell_type": "markdown",
   "metadata": {},
   "source": [
    "# Exercise 7\n",
    "Write a function that calculates and returns the centroid $(C_x, C_y)$ of a polygon by using the formula:\n",
    "\n",
    "$$ C_x = \\frac{1}{6A} \\sum_{i=0}^{n-1} (x_i+x_{i+1}) (x_i y_{i+1} - x_{i+1} y_i) $$\n",
    "\n",
    "$$ C_y = \\frac{1}{6A} \\sum_{i=0}^{n-1} (y_i+y_{i+1}) (x_i y_{i+1} - x_{i+1} y_i) $$\n",
    "\n",
    "`x` and `y` are lists of coordinates of a closed simple polygon.\n",
    "\n",
    "Here, $A$ is the **signed** area. When you need $A$, call the function from the previous exercise to get it. Be sure to call it with the non-default `signed=True`. \n",
    "\n",
    "A function call with the input coordinates below should return (`6.083`, `2.583`):\n",
    "~~~python\n",
    "x = [3, 4, 7, 8, 8.5, 3]\n",
    "y = [5, 3, 0, 1, 3, 5]\n",
    "~~~\n",
    "\n",
    "Source: https://en.wikipedia.org/wiki/Centroid#Of_a_polygon"
   ]
  },
  {
   "cell_type": "markdown",
   "metadata": {},
   "source": [
    "# If you are up for more\n",
    "Try to write a function that can calculate the elastic centroid of a section with materials of two different stiffness values. E.g. a reinforced concrete section with polygon shape."
   ]
  }
 ],
 "metadata": {
  "hide_input": false,
  "kernelspec": {
   "display_name": "Python 3",
   "language": "python",
   "name": "python3"
  },
  "language_info": {
   "codemirror_mode": {
    "name": "ipython",
    "version": 3
   },
   "file_extension": ".py",
   "mimetype": "text/x-python",
   "name": "python",
   "nbconvert_exporter": "python",
   "pygments_lexer": "ipython3",
   "version": "3.7.5"
  },
  "latex_envs": {
   "LaTeX_envs_menu_present": true,
   "autoclose": false,
   "autocomplete": true,
   "bibliofile": "biblio.bib",
   "cite_by": "apalike",
   "current_citInitial": 1,
   "eqLabelWithNumbers": true,
   "eqNumInitial": 1,
   "hotkeys": {
    "equation": "Ctrl-E",
    "itemize": "Ctrl-I"
   },
   "labels_anchors": false,
   "latex_user_defs": false,
   "report_style_numbering": false,
   "user_envs_cfg": false
  },
  "toc": {
   "base_numbering": 1,
   "nav_menu": {},
   "number_sections": false,
   "sideBar": true,
   "skip_h1_title": false,
   "title_cell": "Table of Contents",
   "title_sidebar": "Contents",
   "toc_cell": false,
   "toc_position": {
    "height": "calc(100% - 180px)",
    "left": "10px",
    "top": "150px",
    "width": "391.997px"
   },
   "toc_section_display": true,
   "toc_window_display": true
  }
 },
 "nbformat": 4,
 "nbformat_minor": 2
}
