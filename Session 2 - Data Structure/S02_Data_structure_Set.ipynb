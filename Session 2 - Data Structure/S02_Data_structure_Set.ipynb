{
 "cells": [
  {
   "cell_type": "markdown",
   "metadata": {},
   "source": [
    "### Set\n",
    "Sets are defined with curly brackets `{}`. They are **unordered and don't have an index**. See description of indexing further down. Sets also have **unique items**.\n",
    "\n",
    "#### Set syntax\n",
    "   \n",
    "<code> s = {item_1, item_2, ..., item_n} </code>\n",
    "\n",
    "Set in Python is a data structure equivalent to sets in mathematics.\n",
    "\n",
    "The primary idea about sets is the ability to perform set operations. These are known from mathematics and can determine the *union*, *intersection*, *difference* etc. of two given sets.\n",
    "\n",
    "See for example these links for explanations on set operations: https://en.wikipedia.org/wiki/Set_(mathematics)#Basic_operations or https://snakify.org/en/lessons/sets/.\n",
    "\n",
    "A list, string or tuple can be converted to a set by `set(sequence_to_convert)`. Since sets only have unique items, the set resulting from the operation has same values as the input sequence, but with duplicates removed. This can be a way to create a list with only unique elements. \n",
    "\n",
    "For example:\n",
    "~~~python\n",
    "# Convert list to set and back to list again with now only unique elements\n",
    "list_uniques = list(set(list_with_duplicates))  \n",
    "~~~\n",
    "\n",
    "#### Mutability\n",
    "Sets are ***mutable***. They can be changed after creation.\n"
   ]
  },
  {
   "cell_type": "code",
   "execution_count": 10,
   "metadata": {},
   "outputs": [
    {
     "name": "stdout",
     "output_type": "stream",
     "text": [
      "{'a', 4, 1}\n"
     ]
    }
   ],
   "source": [
    "# create a set\n",
    "set = {\"a\", \"b\", \"c\"}\n",
    "set2 = {1, 2, 3, 4}\n",
    "set3 = {\"a\", 1, True, 4}\n",
    "print(set3)"
   ]
  },
  {
   "cell_type": "markdown",
   "metadata": {},
   "source": [
    "### Set Operation - Examples"
   ]
  },
  {
   "cell_type": "code",
   "execution_count": 1,
   "metadata": {},
   "outputs": [
    {
     "data": {
      "text/plain": [
       "{1, 2, 3, 4, 5, 6, 7, 8}"
      ]
     },
     "execution_count": 1,
     "metadata": {},
     "output_type": "execute_result"
    }
   ],
   "source": [
    "s1 = {1, 2, 3, 4, 5}\n",
    "s2 = {4, 5, 6, 7, 8}\n",
    "\n",
    "# Find the union of the two sets\n",
    "s1.union(s2)  "
   ]
  },
  {
   "cell_type": "code",
   "execution_count": 2,
   "metadata": {},
   "outputs": [
    {
     "data": {
      "text/plain": [
       "{4, 5}"
      ]
     },
     "execution_count": 2,
     "metadata": {},
     "output_type": "execute_result"
    }
   ],
   "source": [
    "# Find the intersection of the two sets\n",
    "s1.intersection(s2)       "
   ]
  },
  {
   "cell_type": "code",
   "execution_count": 18,
   "metadata": {},
   "outputs": [
    {
     "name": "stdout",
     "output_type": "stream",
     "text": [
      "{'a', 'b', 'c'}\n"
     ]
    }
   ],
   "source": [
    "# find the difference of seta compated to setb\n",
    "seta = {\"a\", \"b\", \"c\", \"d\", \"e\"}\n",
    "sete = {\"d\", \"e\", \"f\", \"g\", \"h\"}\n",
    "setdif = seta.difference(sete) \n",
    "print(setdif)"
   ]
  },
  {
   "cell_type": "code",
   "execution_count": 20,
   "metadata": {},
   "outputs": [
    {
     "name": "stdout",
     "output_type": "stream",
     "text": [
      "{'c', 'a', 'b'}\n"
     ]
    }
   ],
   "source": [
    "# find the difference of seta compared to set b then update set a\n",
    "seta = {\"a\", \"b\", \"c\", \"d\", \"e\"}\n",
    "sete = {\"d\", \"e\", \"f\", \"g\", \"h\"}\n",
    "seta.difference_update(sete) \n",
    "print(seta)"
   ]
  },
  {
   "cell_type": "code",
   "execution_count": 23,
   "metadata": {},
   "outputs": [
    {
     "name": "stdout",
     "output_type": "stream",
     "text": [
      "{'g', 'a', 'b', 'f'}\n"
     ]
    }
   ],
   "source": [
    "# symmetric_difference - remove the duplicate items out of sets\n",
    "set01 = {\"a\", \"b\", \"c\", \"d\", \"e\"}\n",
    "set02 = {\"c\", \"d\", \"e\", \"f\", \"g\"}\n",
    "set03 = set01.symmetric_difference(set02)\n",
    "print(set03)"
   ]
  },
  {
   "cell_type": "code",
   "execution_count": 29,
   "metadata": {},
   "outputs": [
    {
     "name": "stdout",
     "output_type": "stream",
     "text": [
      "{1, 2, 3, 6, 7, 8}\n"
     ]
    }
   ],
   "source": [
    "# symmetric_difference_update - remove the duplicate items out of set 01 then update set01\n",
    "set01 = {1, 2, 3, 4, 5}\n",
    "set02 = {4, 5, 6, 7, 8}\n",
    "set01.symmetric_difference_update(set02)\n",
    "print(set01)"
   ]
  },
  {
   "cell_type": "code",
   "execution_count": 15,
   "metadata": {},
   "outputs": [
    {
     "name": "stdout",
     "output_type": "stream",
     "text": [
      "{'big', 'cat', 'dog', 'bee', 'chicken'}\n"
     ]
    }
   ],
   "source": [
    "# Insert a set to another set\n",
    "animals = {\"cat\", \"dog\", \"bee\"}\n",
    "animals.update({\"big\", \"chicken\"})\n",
    "print(animals)"
   ]
  },
  {
   "cell_type": "code",
   "execution_count": 3,
   "metadata": {},
   "outputs": [
    {
     "name": "stdout",
     "output_type": "stream",
     "text": [
      "{1, 2, 3, 4, 5, 6}\n"
     ]
    }
   ],
   "source": [
    "list_with_duplicates = [1, 2, 2, 3, 3, 4, 4, 5, 6]\n",
    "\n",
    "# Create a set of the list (which removed duplicates)\n",
    "s3 = set(list_with_duplicates)   \n",
    "print(s3)"
   ]
  },
  {
   "cell_type": "code",
   "execution_count": 4,
   "metadata": {},
   "outputs": [
    {
     "data": {
      "text/plain": [
       "[1, 2, 3, 4, 5, 6]"
      ]
     },
     "execution_count": 4,
     "metadata": {},
     "output_type": "execute_result"
    }
   ],
   "source": [
    "# if we want list again without duplicated value\n",
    "list(s3)"
   ]
  },
  {
   "cell_type": "code",
   "execution_count": 11,
   "metadata": {},
   "outputs": [
    {
     "name": "stdout",
     "output_type": "stream",
     "text": [
      "{0, 1, 4, 9, 16}\n"
     ]
    }
   ],
   "source": [
    "# Set comprehension\n",
    "aset = {i*i for i in range(5)}\n",
    "print(aset)"
   ]
  },
  {
   "cell_type": "code",
   "execution_count": 13,
   "metadata": {},
   "outputs": [
    {
     "name": "stdout",
     "output_type": "stream",
     "text": [
      "football\n",
      "basket\n",
      "golf\n"
     ]
    }
   ],
   "source": [
    "# Access the items of a set\n",
    "typeofball = {\"football\", \"basket\", \"golf\"}\n",
    "for ball in typeofball:\n",
    "    print(ball)"
   ]
  },
  {
   "cell_type": "code",
   "execution_count": 14,
   "metadata": {},
   "outputs": [
    {
     "name": "stdout",
     "output_type": "stream",
     "text": [
      "animals:  {'tiger', 'cat', 'dog'}\n",
      "copy:  {'tiger', 'cat', 'dog'}\n"
     ]
    }
   ],
   "source": [
    "# Copy of a set\n",
    "animals = {\"cat\", \"dog\", \"tiger\"}\n",
    "print(\"animals: \", animals)\n",
    "\n",
    "a_copy = animals.copy()\n",
    "print(\"copy: \", a_copy)"
   ]
  },
  {
   "cell_type": "markdown",
   "metadata": {},
   "source": [
    "### Bitwise Operator"
   ]
  },
  {
   "cell_type": "code",
   "execution_count": 31,
   "metadata": {},
   "outputs": [
    {
     "name": "stdout",
     "output_type": "stream",
     "text": [
      "{3, 4}\n"
     ]
    }
   ],
   "source": [
    "# And &\n",
    "set001 = {1, 2, 3, 4}\n",
    "set002 = {3, 4, 5, 6}\n",
    "print(set001 & set002)"
   ]
  },
  {
   "cell_type": "code",
   "execution_count": 32,
   "metadata": {},
   "outputs": [
    {
     "name": "stdout",
     "output_type": "stream",
     "text": [
      "{1, 2, 3, 4, 5, 6}\n"
     ]
    }
   ],
   "source": [
    "# Or |\n",
    "set001 = {1, 2, 3, 4}\n",
    "set002 = {3, 4, 5, 6}\n",
    "print(set001 | set002)"
   ]
  },
  {
   "cell_type": "code",
   "execution_count": 33,
   "metadata": {},
   "outputs": [
    {
     "name": "stdout",
     "output_type": "stream",
     "text": [
      "{1, 2, 5, 6}\n"
     ]
    }
   ],
   "source": [
    "# XOR ^\n",
    "set001 = {1, 2, 3, 4}\n",
    "set002 = {3, 4, 5, 6}\n",
    "print(set001 ^ set002)"
   ]
  },
  {
   "cell_type": "code",
   "execution_count": 34,
   "metadata": {},
   "outputs": [
    {
     "name": "stdout",
     "output_type": "stream",
     "text": [
      "{1, 2}\n"
     ]
    }
   ],
   "source": [
    "# Subtraction -\n",
    "set001 = {1, 2, 3, 4}\n",
    "set002 = {3, 4, 5, 6}\n",
    "print(set001 - set002)"
   ]
  },
  {
   "cell_type": "markdown",
   "metadata": {},
   "source": [
    "### Remove item"
   ]
  },
  {
   "cell_type": "code",
   "execution_count": 36,
   "metadata": {},
   "outputs": [
    {
     "name": "stdout",
     "output_type": "stream",
     "text": [
      "{'coconut', 'apple'}\n"
     ]
    }
   ],
   "source": [
    "# remove an item\n",
    "fruits = {\"apple\", \"banana\", \"coconut\"}\n",
    "fruits.remove(\"banana\")\n",
    "print(fruits)"
   ]
  },
  {
   "cell_type": "code",
   "execution_count": 38,
   "metadata": {},
   "outputs": [
    {
     "ename": "KeyError",
     "evalue": "'cherry'",
     "output_type": "error",
     "traceback": [
      "\u001b[1;31m---------------------------------------------------------------------------\u001b[0m",
      "\u001b[1;31mKeyError\u001b[0m                                  Traceback (most recent call last)",
      "Cell \u001b[1;32mIn[38], line 3\u001b[0m\n\u001b[0;32m      1\u001b[0m \u001b[39m# remove an item not in set will cause error\u001b[39;00m\n\u001b[0;32m      2\u001b[0m fruits \u001b[39m=\u001b[39m {\u001b[39m\"\u001b[39m\u001b[39mapple\u001b[39m\u001b[39m\"\u001b[39m, \u001b[39m\"\u001b[39m\u001b[39mbanana\u001b[39m\u001b[39m\"\u001b[39m, \u001b[39m\"\u001b[39m\u001b[39mcoconut\u001b[39m\u001b[39m\"\u001b[39m}\n\u001b[1;32m----> 3\u001b[0m fruits\u001b[39m.\u001b[39;49mremove(\u001b[39m\"\u001b[39;49m\u001b[39mcherry\u001b[39;49m\u001b[39m\"\u001b[39;49m)\n\u001b[0;32m      4\u001b[0m \u001b[39mprint\u001b[39m(fruits)\n",
      "\u001b[1;31mKeyError\u001b[0m: 'cherry'"
     ]
    }
   ],
   "source": [
    "# remove an item not in set will cause error\n",
    "fruits = {\"apple\", \"banana\", \"coconut\"}\n",
    "fruits.remove(\"cherry\")\n",
    "print(fruits)"
   ]
  },
  {
   "cell_type": "code",
   "execution_count": 37,
   "metadata": {},
   "outputs": [
    {
     "name": "stdout",
     "output_type": "stream",
     "text": [
      "{'coconut', 'apple'}\n"
     ]
    }
   ],
   "source": [
    "# discard an item\n",
    "fruits = {\"apple\", \"banana\", \"coconut\"}\n",
    "fruits.discard(\"banana\")\n",
    "print(fruits)"
   ]
  },
  {
   "cell_type": "code",
   "execution_count": 39,
   "metadata": {},
   "outputs": [
    {
     "name": "stdout",
     "output_type": "stream",
     "text": [
      "{'coconut', 'apple', 'banana'}\n"
     ]
    }
   ],
   "source": [
    "# discard an item not in set will NOT cause error\n",
    "fruits = {\"apple\", \"banana\", \"coconut\"}\n",
    "fruits.discard(\"cherry\")\n",
    "print(fruits)"
   ]
  },
  {
   "cell_type": "markdown",
   "metadata": {},
   "source": [
    "### set is unorder and unindex"
   ]
  },
  {
   "cell_type": "code",
   "execution_count": 40,
   "metadata": {},
   "outputs": [
    {
     "ename": "TypeError",
     "evalue": "'set' object is not subscriptable",
     "output_type": "error",
     "traceback": [
      "\u001b[1;31m---------------------------------------------------------------------------\u001b[0m",
      "\u001b[1;31mTypeError\u001b[0m                                 Traceback (most recent call last)",
      "Cell \u001b[1;32mIn[40], line 2\u001b[0m\n\u001b[0;32m      1\u001b[0m letter \u001b[39m=\u001b[39m {\u001b[39m\"\u001b[39m\u001b[39ma\u001b[39m\u001b[39m\"\u001b[39m, \u001b[39m\"\u001b[39m\u001b[39mb\u001b[39m\u001b[39m\"\u001b[39m, \u001b[39m\"\u001b[39m\u001b[39mc\u001b[39m\u001b[39m\"\u001b[39m}\n\u001b[1;32m----> 2\u001b[0m \u001b[39mprint\u001b[39m(letter[\u001b[39m1\u001b[39;49m])\n",
      "\u001b[1;31mTypeError\u001b[0m: 'set' object is not subscriptable"
     ]
    }
   ],
   "source": [
    "letter = {\"a\", \"b\", \"c\"}\n",
    "print(letter[1])"
   ]
  },
  {
   "cell_type": "markdown",
   "metadata": {},
   "source": [
    "### Can not contain unhashable types"
   ]
  },
  {
   "cell_type": "code",
   "execution_count": 41,
   "metadata": {},
   "outputs": [
    {
     "ename": "NameError",
     "evalue": "name 'a' is not defined",
     "output_type": "error",
     "traceback": [
      "\u001b[1;31m---------------------------------------------------------------------------\u001b[0m",
      "\u001b[1;31mNameError\u001b[0m                                 Traceback (most recent call last)",
      "Cell \u001b[1;32mIn[41], line 3\u001b[0m\n\u001b[0;32m      1\u001b[0m \u001b[39m# create a set contain list\u001b[39;00m\n\u001b[0;32m      2\u001b[0m alist \u001b[39m=\u001b[39m [\u001b[39m1\u001b[39m,\u001b[39m2\u001b[39m,\u001b[39m3\u001b[39m]\n\u001b[1;32m----> 3\u001b[0m a_set \u001b[39m=\u001b[39m {a, alist}\n\u001b[0;32m      4\u001b[0m \u001b[39mprint\u001b[39m(aset)\n",
      "\u001b[1;31mNameError\u001b[0m: name 'a' is not defined"
     ]
    }
   ],
   "source": [
    "# create a set contain list\n",
    "alist = [1,2,3]\n",
    "a_set = {a, alist}\n",
    "print(aset)"
   ]
  }
 ],
 "metadata": {
  "kernelspec": {
   "display_name": "Python 3",
   "language": "python",
   "name": "python3"
  },
  "language_info": {
   "codemirror_mode": {
    "name": "ipython",
    "version": 3
   },
   "file_extension": ".py",
   "mimetype": "text/x-python",
   "name": "python",
   "nbconvert_exporter": "python",
   "pygments_lexer": "ipython3",
   "version": "3.10.4"
  },
  "orig_nbformat": 4
 },
 "nbformat": 4,
 "nbformat_minor": 2
}
