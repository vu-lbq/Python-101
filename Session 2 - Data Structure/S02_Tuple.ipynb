{
 "cells": [
  {
   "cell_type": "markdown",
   "metadata": {},
   "source": [
    "## Tuples\n",
    "Tuples are very comparable to lists, but they are defined by parentheses `()`. Most notable difference from lists is that tuples are **immutable**.\n",
    "\n",
    "### Tuple syntax \n",
    "<code> t = (item_1, item_2, ..., item_n) </code>\n",
    "\n",
    "### Mutability\n",
    "Tuples are ***immutable***. They cannot be changed after creation.\n",
    "\n",
    "### Tuple examples"
   ]
  },
  {
   "cell_type": "code",
   "execution_count": 1,
   "metadata": {},
   "outputs": [],
   "source": [
    "# Simple tuple of integers\n",
    "t1 = (1, 24, 56)   \n",
    "\n",
    "# Multiple types as tuple elements\n",
    "t2 = (1, 1.62, '12', [1, 2 , 3])  \n",
    "\n",
    "# Tuple of tuples\n",
    "points = ((4, 5), (12, 6), (14, 9)) "
   ]
  },
  {
   "cell_type": "code",
   "execution_count": 4,
   "metadata": {},
   "outputs": [
    {
     "name": "stdout",
     "output_type": "stream",
     "text": [
      "(1, 2)\n",
      "(1, 2, 3)\n",
      "(5, 5, 5, 5, 5)\n"
     ]
    }
   ],
   "source": [
    "# + Operator\n",
    "t1 = (1,2)\n",
    "print(t1)\n",
    "t1 += (3,)\n",
    "print(t1)\n",
    "\n",
    "# * Operator\n",
    "t3 = (5,)\n",
    "t3 *= 5\n",
    "print(t3)"
   ]
  },
  {
   "cell_type": "code",
   "execution_count": 7,
   "metadata": {},
   "outputs": [
    {
     "name": "stdout",
     "output_type": "stream",
     "text": [
      "2\n",
      "1\n"
     ]
    }
   ],
   "source": [
    "# Count number appear of a value\n",
    "tuple01 = (1,2,3,4,5,6,1,2,3)\n",
    "print(tuple01.count(1))\n",
    "\n",
    "# find the first index of a value\n",
    "print(tuple01.index(2))"
   ]
  },
  {
   "cell_type": "code",
   "execution_count": 10,
   "metadata": {},
   "outputs": [
    {
     "name": "stdout",
     "output_type": "stream",
     "text": [
      "9\n"
     ]
    }
   ],
   "source": [
    "# len() - how many elements in a tuple\n",
    "print(len(tuple01))"
   ]
  },
  {
   "cell_type": "code",
   "execution_count": 12,
   "metadata": {},
   "outputs": [
    {
     "name": "stdout",
     "output_type": "stream",
     "text": [
      "1\n",
      "6\n",
      "27\n"
     ]
    }
   ],
   "source": [
    "# max, min and sum\n",
    "print(min(tuple01))\n",
    "print(max(tuple01))\n",
    "print(sum(tuple01))"
   ]
  },
  {
   "cell_type": "code",
   "execution_count": 15,
   "metadata": {},
   "outputs": [
    {
     "name": "stdout",
     "output_type": "stream",
     "text": [
      "(1, 2, 3, 4, 5, 6, 1, 2, 3)\n",
      "[1, 1, 2, 2, 3, 3, 4, 5, 6]\n"
     ]
    }
   ],
   "source": [
    "# sort value on tuple\n",
    "print(tuple01)\n",
    "ts = sorted(tuple01)\n",
    "print(ts)"
   ]
  },
  {
   "cell_type": "code",
   "execution_count": 16,
   "metadata": {},
   "outputs": [
    {
     "ename": "TypeError",
     "evalue": "'tuple' object does not support item assignment",
     "output_type": "error",
     "traceback": [
      "\u001b[1;31m---------------------------------------------------------------------------\u001b[0m",
      "\u001b[1;31mTypeError\u001b[0m                                 Traceback (most recent call last)",
      "Cell \u001b[1;32mIn[16], line 2\u001b[0m\n\u001b[0;32m      1\u001b[0m tuple02 \u001b[39m=\u001b[39m (\u001b[39m1\u001b[39m,\u001b[39m2\u001b[39m,\u001b[39m3\u001b[39m,\u001b[39m4\u001b[39m,\u001b[39m5\u001b[39m)\n\u001b[1;32m----> 2\u001b[0m tuple02[\u001b[39m2\u001b[39;49m] \u001b[39m=\u001b[39m \u001b[39m9\u001b[39m\n",
      "\u001b[1;31mTypeError\u001b[0m: 'tuple' object does not support item assignment"
     ]
    }
   ],
   "source": [
    "tuple02 = (1,2,3,4,5)\n",
    "tuple02[2] = 9\n"
   ]
  }
 ],
 "metadata": {
  "kernelspec": {
   "display_name": "Python 3",
   "language": "python",
   "name": "python3"
  },
  "language_info": {
   "codemirror_mode": {
    "name": "ipython",
    "version": 3
   },
   "file_extension": ".py",
   "mimetype": "text/x-python",
   "name": "python",
   "nbconvert_exporter": "python",
   "pygments_lexer": "ipython3",
   "version": "3.10.4"
  },
  "orig_nbformat": 4
 },
 "nbformat": 4,
 "nbformat_minor": 2
}
