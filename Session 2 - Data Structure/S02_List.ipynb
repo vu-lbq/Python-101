{
 "cells": [
  {
   "cell_type": "markdown",
   "metadata": {},
   "source": [
    "## 2. Data Structures\n",
    "\n",
    "Data structures are constructs that can contain one or more variables. \n",
    "They are containers that can store a lot of data into a single entity.\n",
    "\n",
    "**Python's four built-in data structures are:**\n",
    " * Lists\n",
    " * Dictionaries\n",
    " * Tuples\n",
    " * Sets\n",
    "\n",
    "**Note:**\n",
    "* List is a collection which is ordered and changeable. Allows duplicate members.\n",
    "* Tuple is a collection which is ordered and unchangeable. Allows duplicate members.\n",
    "* Set is a collection which is unordered, unchangeable*, and unindexed. No duplicate members.\n",
    "* Dictionary is a collection which is ordered** and changeable. No duplicate members.\n",
    " \n",
    "**There are also user-define data structure:**\n",
    "* Stack\n",
    "* Tree\n",
    "* Graph\n",
    "* Queue\n",
    "* Linked List"
   ]
  },
  {
   "cell_type": "markdown",
   "metadata": {},
   "source": [
    "### Built-in data types\n",
    "#### Lists \n",
    "Lists are defined by square brackets `[]` with elements separated by commas. They can have elements of any data type.\n",
    "Lists are arguably the most used data structure in Python.\n",
    "\n",
    "#### List syntax \n",
    "<code> L = [item_1, item_2, ..., item_n] </code>\n",
    "\n",
    "#### Mutability\n",
    "Lists are ***mutable***. They can be changed after creation."
   ]
  },
  {
   "cell_type": "code",
   "execution_count": null,
   "metadata": {},
   "outputs": [],
   "source": [
    "# Empty list\n",
    "empty_list = []"
   ]
  },
  {
   "cell_type": "code",
   "execution_count": 9,
   "metadata": {},
   "outputs": [
    {
     "name": "stdout",
     "output_type": "stream",
     "text": [
      "[100, 200, 300, 400]\n"
     ]
    }
   ],
   "source": [
    "# List with integers\n",
    "a = [100, 200, 300, 400]\n",
    "print(a)"
   ]
  },
  {
   "cell_type": "code",
   "execution_count": 10,
   "metadata": {},
   "outputs": [
    {
     "name": "stdout",
     "output_type": "stream",
     "text": [
      "['apple', 1, 'cherry', True]\n",
      "['Tom', [0, 1, 2, 3, 4]]\n"
     ]
    }
   ],
   "source": [
    "# List with multiple types\n",
    "thislist = [\"apple\", 1, \"cherry\", True]\n",
    "print(thislist)\n",
    "n_list = [\"Tom\", [0,1,2,3,4]]\n",
    "print(n_list)"
   ]
  },
  {
   "cell_type": "markdown",
   "metadata": {},
   "source": [
    "### List Length\n",
    "To determine how many items a list has, use the len() function:"
   ]
  },
  {
   "cell_type": "code",
   "execution_count": 11,
   "metadata": {},
   "outputs": [
    {
     "data": {
      "text/plain": [
       "4"
      ]
     },
     "execution_count": 11,
     "metadata": {},
     "output_type": "execute_result"
    }
   ],
   "source": [
    "thislist = [\"apple\", 1, \"cherry\", True]\n",
    "len(thislist)"
   ]
  },
  {
   "cell_type": "markdown",
   "metadata": {},
   "source": [
    "### List Index - element index - index start with 0"
   ]
  },
  {
   "cell_type": "code",
   "execution_count": null,
   "metadata": {},
   "outputs": [],
   "source": [
    "thislist[0]"
   ]
  },
  {
   "cell_type": "markdown",
   "metadata": {},
   "source": [
    "### List - Slicing\n",
    "<code> list[start:end:step] </code> <br>\n",
    "<code> list[:step] </code> <br>\n",
    "<code> list[start:end] </code>\n"
   ]
  },
  {
   "cell_type": "code",
   "execution_count": 19,
   "metadata": {},
   "outputs": [
    {
     "name": "stdout",
     "output_type": "stream",
     "text": [
      "[0, 1, 2, 3, 4, 5, 6, 7, 8, 9]\n",
      "[10, 11, 12]\n",
      "[23, 24, 25]\n"
     ]
    }
   ],
   "source": [
    "list_a = [0,1,2,3,4,5,6,7,8,9]\n",
    "print(list_a[0:10:1])\n",
    "list_b = [10,11,12,13,14,15,16,17,18,19]\n",
    "print(list_b[:3])\n",
    "list_c = [20,21,22,23,24,25,26,27,28,29]\n",
    "print(list_c[3:6])"
   ]
  },
  {
   "cell_type": "markdown",
   "metadata": {},
   "source": [
    "### List - Add element\n",
    "<code> list.append(a) </code> - add a to the last"
   ]
  },
  {
   "cell_type": "code",
   "execution_count": 21,
   "metadata": {},
   "outputs": [
    {
     "name": "stdout",
     "output_type": "stream",
     "text": [
      "['a', 'b', 'c', 'd']\n"
     ]
    }
   ],
   "source": [
    "list_abc = [\"a\",\"b\",\"c\"]\n",
    "list_abc.append(\"d\")\n",
    "print(list_abc)"
   ]
  },
  {
   "cell_type": "markdown",
   "metadata": {},
   "source": [
    "### List - Update element\n",
    "<code> data[index] = value </code>\n",
    "### List - add a list of element - Extend\n",
    "<code> data.extend([]) </code>"
   ]
  },
  {
   "cell_type": "code",
   "execution_count": 22,
   "metadata": {},
   "outputs": [
    {
     "name": "stdout",
     "output_type": "stream",
     "text": [
      "[0, 11, 2, 3, 4]\n"
     ]
    }
   ],
   "source": [
    "data_01 = [0,1,2,3,4]\n",
    "data_01[1] = 11\n",
    "print(data_01)"
   ]
  },
  {
   "cell_type": "code",
   "execution_count": 24,
   "metadata": {},
   "outputs": [
    {
     "name": "stdout",
     "output_type": "stream",
     "text": [
      "[0, 1, 2, 3, 4, 5, 6, 7, 8, 9]\n"
     ]
    }
   ],
   "source": [
    "data_02 = [0,1,2,3,4]\n",
    "data_02.extend([5,6,7,8,9])\n",
    "print(data_02)"
   ]
  },
  {
   "cell_type": "markdown",
   "metadata": {},
   "source": [
    "### List + and * operators"
   ]
  },
  {
   "cell_type": "code",
   "execution_count": 26,
   "metadata": {},
   "outputs": [
    {
     "name": "stdout",
     "output_type": "stream",
     "text": [
      "['a', 'b', 'c', 1, 2, 3]\n"
     ]
    }
   ],
   "source": [
    "# + operator\n",
    "list_01 = [\"a\",\"b\",\"c\"]\n",
    "list_02 = [1,2,3]\n",
    "list_03 = list_01 + list_02\n",
    "print(list_03)"
   ]
  },
  {
   "cell_type": "code",
   "execution_count": 27,
   "metadata": {},
   "outputs": [
    {
     "name": "stdout",
     "output_type": "stream",
     "text": [
      "[1, 2, 1, 2, 1, 2]\n"
     ]
    }
   ],
   "source": [
    "# * operator\n",
    "list_04 = [1,2]\n",
    "list_05 = list_04 * 3\n",
    "print(list_05)"
   ]
  },
  {
   "cell_type": "markdown",
   "metadata": {},
   "source": [
    "### List - sort - arrange list"
   ]
  },
  {
   "cell_type": "code",
   "execution_count": 29,
   "metadata": {},
   "outputs": [
    {
     "name": "stdout",
     "output_type": "stream",
     "text": [
      "['banana', 'kiwi', 'mango', 'orange', 'pineapple']\n",
      "[23, 50, 65, 82, 100]\n"
     ]
    }
   ],
   "source": [
    "# sort alphanumerically, ascending\n",
    "fruitlist = [\"orange\", \"mango\", \"kiwi\", \"pineapple\", \"banana\"]\n",
    "fruitlist.sort()\n",
    "print(fruitlist)\n",
    "\n",
    "numberlist = [100, 50, 65, 82, 23]\n",
    "numberlist.sort()\n",
    "print(numberlist)"
   ]
  },
  {
   "cell_type": "code",
   "execution_count": 31,
   "metadata": {},
   "outputs": [
    {
     "name": "stdout",
     "output_type": "stream",
     "text": [
      "['pineapple', 'orange', 'mango', 'kiwi', 'banana']\n",
      "[100, 82, 65, 50, 23]\n"
     ]
    }
   ],
   "source": [
    "# sort alphanumerically, descending\n",
    "fruitlist_r = [\"orange\", \"mango\", \"kiwi\", \"pineapple\", \"banana\"]\n",
    "fruitlist_r.sort(reverse = True)\n",
    "print(thislist)\n",
    "\n",
    "numberlist_r = [100, 50, 65, 82, 23]\n",
    "numberlist_r.sort(reverse = True)\n",
    "print(numberlist_r)"
   ]
  },
  {
   "cell_type": "markdown",
   "metadata": {},
   "source": [
    "### List - Delete an element - remove() or pop()"
   ]
  },
  {
   "cell_type": "code",
   "execution_count": 35,
   "metadata": {},
   "outputs": [
    {
     "name": "stdout",
     "output_type": "stream",
     "text": [
      "[1, 3, 4, 5]\n",
      "[0, 1, 3, 4, 5]\n"
     ]
    }
   ],
   "source": [
    "# remove element has value = \n",
    "remove_list = [1,2,3,4,5]\n",
    "remove_list.remove(2)\n",
    "print(remove_list)\n",
    "\n",
    "# pop element at index =\n",
    "pop_list = [0,1,2,3,4,5]\n",
    "pop_list.pop(2)\n",
    "print(pop_list)\n"
   ]
  },
  {
   "cell_type": "markdown",
   "metadata": {},
   "source": [
    "### List - index() and reverse()\n",
    "note: index start with 0"
   ]
  },
  {
   "cell_type": "code",
   "execution_count": 50,
   "metadata": {},
   "outputs": [
    {
     "name": "stdout",
     "output_type": "stream",
     "text": [
      "2\n",
      "[7, 8, 5, 4, 2, 3]\n"
     ]
    }
   ],
   "source": [
    "list_togetindex = [\"a\",\"b\",\"c\",\"d\",\"e\"]\n",
    "i = list_togetindex.index(\"c\")\n",
    "print(i)\n",
    "\n",
    "list_reverse = [3,2,4,5,8,7]\n",
    "list_reverse.reverse()\n",
    "print(list_reverse)"
   ]
  },
  {
   "cell_type": "markdown",
   "metadata": {},
   "source": [
    "### List - count() and copy()"
   ]
  },
  {
   "cell_type": "code",
   "execution_count": 52,
   "metadata": {},
   "outputs": [
    {
     "name": "stdout",
     "output_type": "stream",
     "text": [
      "2\n",
      "[1, 2, 1, 2, 3, 4]\n"
     ]
    }
   ],
   "source": [
    "list_x = [1,2,1,2,3,4]\n",
    "count = list_x.count(1)\n",
    "list_y = list_x.copy()\n",
    "print(count)\n",
    "print(list_y)"
   ]
  },
  {
   "cell_type": "markdown",
   "metadata": {},
   "source": [
    "### List Built-in functions:\n",
    "* sorted(iterable_list, reverse = boolean) - Input is a sortable/iterable list, with parameter for reverse as boolean \n",
    "* sum(list) - summary elements on list\n",
    "* zip() -  combine multiple iterables\n",
    "* reversed() - reverse the list based on index\n",
    "* enumerate() - iterate over an iterable"
   ]
  },
  {
   "cell_type": "markdown",
   "metadata": {},
   "source": [
    "### List comprehension\n",
    "List comprehension is a concise way to create new lists in Python. It allows you to create a new list by iterating over an existing iterable (such as a list, tuple, or string) and applying an expression to each item."
   ]
  }
 ],
 "metadata": {
  "kernelspec": {
   "display_name": "Python 3",
   "language": "python",
   "name": "python3"
  },
  "language_info": {
   "codemirror_mode": {
    "name": "ipython",
    "version": 3
   },
   "file_extension": ".py",
   "mimetype": "text/x-python",
   "name": "python",
   "nbconvert_exporter": "python",
   "pygments_lexer": "ipython3",
   "version": "3.10.4"
  },
  "orig_nbformat": 4
 },
 "nbformat": 4,
 "nbformat_minor": 2
}
