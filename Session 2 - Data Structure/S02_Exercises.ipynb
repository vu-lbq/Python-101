{
 "cells": [
  {
   "cell_type": "markdown",
   "metadata": {},
   "source": [
    "### Exercise 1\n",
    "Extract the last and first element from the giving list\n",
    "~~~python\n",
    "L1 = [your input]\n",
    "~~~"
   ]
  },
  {
   "cell_type": "markdown",
   "metadata": {},
   "source": [
    "### Exercise 2\n",
    "Extract the following list from `L1` defined above by use of slicing.\n",
    "\n",
    "~~~python\n",
    "[20, 30, 40]\n",
    "~~~"
   ]
  },
  {
   "cell_type": "markdown",
   "metadata": {},
   "source": [
    "### Exercise 3\n",
    "Remove the duplicates from the following list:\n",
    "\n",
    "~~~python\n",
    "L2 = ['Hi', 'Hello', 'Hi!', 'Hey', 'Hi', 'hey', 'Hey']\n",
    "~~~"
   ]
  },
  {
   "cell_type": "markdown",
   "metadata": {},
   "source": [
    "### Exercise 4\n",
    "Given the dictionary\n",
    "\n",
    "~~~python\n",
    "d = {2: 122, 3: 535, 't': 'T', 'rum': 'cola'}\n",
    "~~~\n",
    "Play around with extracting the values by calling out the keys for all key/value pairs.  "
   ]
  },
  {
   "cell_type": "markdown",
   "metadata": {},
   "source": [
    "### Exercise 5\n",
    "Given the list\n",
    "\n",
    "~~~python\n",
    "n = [23, 73, 12, 84]\n",
    "~~~\n",
    "\n",
    "\n",
    "Create a `for` loop that prints:\n",
    "\n",
    "~~~python\n",
    "'23 sqaured is 529'\n",
    "'73 sqaured is 5329'\n",
    "'12 sqaured is 144'\n",
    "'84 sqaured is 7056'\n",
    "~~~\n"
   ]
  },
  {
   "cell_type": "markdown",
   "metadata": {},
   "source": [
    "### Exercise 6\n",
    "Use a list comprehension to create a new list with areas of the circles that have diameters defined by\n",
    "\n",
    "~~~python\n",
    "diameters = [10, 12, 16, 20, 25, 32]\n",
    "~~~"
   ]
  },
  {
   "cell_type": "markdown",
   "metadata": {},
   "source": [
    "### Exercise 7\n",
    "From the following list, create a new list containing only the elements that have exactly five characters.  \n",
    "~~~python\n",
    "phonetic_alphabet = ['Alpha', 'Bravo', 'Charlie', 'Delta', 'Echo', 'Foxtrot']\n",
    "~~~"
   ]
  },
  {
   "cell_type": "markdown",
   "metadata": {},
   "source": [
    "### Exercise 8\n",
    "Find the intersection of the two sets (elements that occur in both sets)\n",
    "~~~python\n",
    "s1 = {'HE170B', 'HE210B', 'HE190A', 'HE200A', 'HE210A', 'HE210A'}\n",
    "\n",
    "s2 = {'HE200A', 'HE210A', 'HE240A', 'HE200A', 'HE210B', 'HE340A'}\n",
    "~~~"
   ]
  },
  {
   "cell_type": "markdown",
   "metadata": {},
   "source": [
    "### Exercise 9\n",
    "Create a variable `fy` and set it equal to 435.\n",
    "\n",
    "Given the tuple below, create a list where each value is:\n",
    "* The value itself if the value is below `fy`\n",
    "* `fy` if the value is larger than `fy`\n",
    "\n",
    "~~~python\n",
    "rebar_stresses = (125, 501, 362, 156, 80, 475, 489)\n",
    "~~~"
   ]
  },
  {
   "cell_type": "markdown",
   "metadata": {},
   "source": [
    "### Exercise 10\n",
    "Given the tuple below, create a list where each value is:\n",
    "* 0 if the value is positive\n",
    "* The value itself is the value is negative and larger than -25\n",
    "* -25 if the value is lower than -25\n",
    "\n",
    "~~~python\n",
    "T1 = (-18, -27, 2, -21, -15, 5)\n",
    "~~~"
   ]
  }
 ],
 "metadata": {
  "language_info": {
   "name": "python"
  },
  "orig_nbformat": 4
 },
 "nbformat": 4,
 "nbformat_minor": 2
}
