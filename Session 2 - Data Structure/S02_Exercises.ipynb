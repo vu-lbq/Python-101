{
 "cells": [
  {
   "cell_type": "markdown",
   "metadata": {},
   "source": [
    "## Exercise 1\n",
    "Extract the last and first element from the giving list\n",
    "~~~python\n",
    "L1 = [your input]\n",
    "~~~"
   ]
  },
  {
   "cell_type": "markdown",
   "metadata": {},
   "source": [
    "## Exercise 2\n",
    "Extract the following list from `L1` defined above by use of slicing.\n",
    "\n",
    "~~~python\n",
    "[20, 30, 40]\n",
    "~~~"
   ]
  }
 ],
 "metadata": {
  "language_info": {
   "name": "python"
  },
  "orig_nbformat": 4
 },
 "nbformat": 4,
 "nbformat_minor": 2
}
