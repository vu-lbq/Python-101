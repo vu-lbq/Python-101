{
 "cells": [
  {
   "cell_type": "markdown",
   "metadata": {},
   "source": [
    "## 2. Exercise solutions\n",
    "There are often many ways to do the same thing, so these are just one way of solving the problems. \n",
    "\n",
    "### Exercise 1"
   ]
  },
  {
   "cell_type": "code",
   "execution_count": 1,
   "metadata": {},
   "outputs": [
    {
     "name": "stdout",
     "output_type": "stream",
     "text": [
      "First element of L1 is 10 and last elements of L1 is 60\n"
     ]
    }
   ],
   "source": [
    "L1 = [10, 20, 30, 40, 50, 60]\n",
    "first_elem = L1[0]\n",
    "last_elem = L1[-1]\n",
    "print(f'First element of L1 is {first_elem} and last elements of L1 is {last_elem}')"
   ]
  },
  {
   "cell_type": "markdown",
   "metadata": {},
   "source": [
    "### Exercise 2"
   ]
  },
  {
   "cell_type": "code",
   "execution_count": 2,
   "metadata": {},
   "outputs": [
    {
     "name": "stdout",
     "output_type": "stream",
     "text": [
      "[20, 30, 40]\n"
     ]
    }
   ],
   "source": [
    "L1_sliced = L1[1:4]\n",
    "print(L1_sliced)"
   ]
  },
  {
   "cell_type": "markdown",
   "metadata": {},
   "source": [
    "### Exercise 3"
   ]
  },
  {
   "cell_type": "code",
   "execution_count": 3,
   "metadata": {},
   "outputs": [
    {
     "name": "stdout",
     "output_type": "stream",
     "text": [
      "['Hi!', 'Hello', 'hey', 'Hey', 'Hi']\n"
     ]
    }
   ],
   "source": [
    "L2 = ['Hi', 'Hello', 'Hi!', 'Hey', 'Hi', 'hey', 'Hey']\n",
    "L2_unique = list(set(L2))\n",
    "print(L2_unique)"
   ]
  },
  {
   "cell_type": "markdown",
   "metadata": {},
   "source": [
    "### Exercise 4"
   ]
  },
  {
   "cell_type": "code",
   "execution_count": 4,
   "metadata": {},
   "outputs": [
    {
     "name": "stdout",
     "output_type": "stream",
     "text": [
      "122\n"
     ]
    }
   ],
   "source": [
    "d = {2: 122, 3: 535, 't': 'T', 'rom': 'cola'}\n",
    "print(d[2])       # Print value corresponding to key 2"
   ]
  },
  {
   "cell_type": "code",
   "execution_count": 5,
   "metadata": {},
   "outputs": [
    {
     "name": "stdout",
     "output_type": "stream",
     "text": [
      "T\n"
     ]
    }
   ],
   "source": [
    "print(d['t'])       # Print value corresponding to key 't'"
   ]
  },
  {
   "cell_type": "code",
   "execution_count": 6,
   "metadata": {},
   "outputs": [
    {
     "name": "stdout",
     "output_type": "stream",
     "text": [
      "I like rom and cola, but mostly the rom\n"
     ]
    }
   ],
   "source": [
    "print(f\"I like rom and {d['rom']}, but mostly the rom\")"
   ]
  },
  {
   "cell_type": "markdown",
   "metadata": {},
   "source": [
    "### Exercise 5"
   ]
  },
  {
   "cell_type": "code",
   "execution_count": 7,
   "metadata": {},
   "outputs": [
    {
     "name": "stdout",
     "output_type": "stream",
     "text": [
      "23 squared is 529\n",
      "73 squared is 5329\n",
      "12 squared is 144\n",
      "84 squared is 7056\n"
     ]
    }
   ],
   "source": [
    "n = [23, 73, 12, 84]\n",
    "\n",
    "# By using conventional for loop\n",
    "for elem in n:\n",
    "    print(f'{elem} squared is {elem**2}')"
   ]
  },
  {
   "cell_type": "markdown",
   "metadata": {},
   "source": [
    "### Exercise 6"
   ]
  },
  {
   "cell_type": "code",
   "execution_count": 8,
   "metadata": {},
   "outputs": [
    {
     "name": "stdout",
     "output_type": "stream",
     "text": [
      "[78.64750000000001, 113.25240000000001, 201.3376, 314.59000000000003, 491.546875, 805.3504]\n"
     ]
    }
   ],
   "source": [
    "diameters = [10, 12, 16, 20, 25, 32]\n",
    "areas = [3.1459 * dia**2 / 4 for dia in diameters]   # To use pi the math module would need to be imported\n",
    "print(areas)"
   ]
  },
  {
   "cell_type": "code",
   "execution_count": 9,
   "metadata": {},
   "outputs": [
    {
     "name": "stdout",
     "output_type": "stream",
     "text": [
      "['79', '113', '201', '315', '492', '805']\n"
     ]
    }
   ],
   "source": [
    "# Convert elements to strings and round down\n",
    "print([f'{area:.0f}' for area in areas])"
   ]
  },
  {
   "cell_type": "markdown",
   "metadata": {},
   "source": [
    "### Exercise 7"
   ]
  },
  {
   "cell_type": "code",
   "execution_count": 10,
   "metadata": {},
   "outputs": [
    {
     "name": "stdout",
     "output_type": "stream",
     "text": [
      "['Alpha', 'Bravo', 'Delta']\n"
     ]
    }
   ],
   "source": [
    "phonetic_alphabet = ['Alpha', 'Bravo', 'Charlie', 'Delta', 'Echo', 'Foxtrot']\n",
    "words_of_5_chars = [word for word in phonetic_alphabet if len(word) == 5]\n",
    "print(words_of_5_chars)"
   ]
  },
  {
   "cell_type": "markdown",
   "metadata": {},
   "source": [
    "### Exercise 8"
   ]
  },
  {
   "cell_type": "code",
   "execution_count": 11,
   "metadata": {},
   "outputs": [
    {
     "name": "stdout",
     "output_type": "stream",
     "text": [
      "{'HE210A', 'HE210B', 'HE200A'}\n"
     ]
    }
   ],
   "source": [
    "s1 = {'HE170B', 'HE210B', 'HE190A', 'HE200A', 'HE210A', 'HE210A'}\n",
    "s2 = {'HE200A', 'HE210A', 'HE240A', 'HE200A', 'HE210B', 'HE340A'}\n",
    "s_intersection = s1.intersection(s2)\n",
    "print(s_intersection)"
   ]
  },
  {
   "cell_type": "markdown",
   "metadata": {},
   "source": [
    "### Exercise 9"
   ]
  },
  {
   "cell_type": "code",
   "execution_count": 12,
   "metadata": {},
   "outputs": [
    {
     "name": "stdout",
     "output_type": "stream",
     "text": [
      "[125, 435, 362, 156, 80, 435, 435]\n"
     ]
    }
   ],
   "source": [
    "rebar_stresses = (125, 501, 362, 156, 80, 475, 489)\n",
    "fy = 435\n",
    "sigma_s = [stress if stress <= 435 else fy for stress in rebar_stresses]\n",
    "print(sigma_s)"
   ]
  },
  {
   "cell_type": "markdown",
   "metadata": {},
   "source": [
    "### Exercise 10"
   ]
  },
  {
   "cell_type": "code",
   "execution_count": 13,
   "metadata": {},
   "outputs": [
    {
     "name": "stdout",
     "output_type": "stream",
     "text": [
      "[-18, -25, 0, -21, -15, 0]\n"
     ]
    }
   ],
   "source": [
    "T1 = (-18, -27, 2, -21, -15, 5)\n",
    "\n",
    "T2 = []\n",
    "for val in T1:\n",
    "    if val > 0:\n",
    "        T2.append(0)\n",
    "    elif 0 > val > -25:\n",
    "        T2.append(val)\n",
    "    else:\n",
    "        T2.append(-25)\n",
    "\n",
    "print(T2)"
   ]
  },
  {
   "cell_type": "code",
   "execution_count": 14,
   "metadata": {},
   "outputs": [
    {
     "name": "stdout",
     "output_type": "stream",
     "text": [
      "[-18, -25, 0, -21, -15, 0]\n"
     ]
    }
   ],
   "source": [
    "# Alternative by list comprehension with chained if's\n",
    "T3 = [0 if val > 0 else val if 0 > val > -25 else -25 for val in T1]\n",
    "print(T3)"
   ]
  }
 ],
 "metadata": {
  "hide_input": false,
  "kernelspec": {
   "display_name": "Python 3",
   "language": "python",
   "name": "python3"
  },
  "language_info": {
   "codemirror_mode": {
    "name": "ipython",
    "version": 3
   },
   "file_extension": ".py",
   "mimetype": "text/x-python",
   "name": "python",
   "nbconvert_exporter": "python",
   "pygments_lexer": "ipython3",
   "version": "3.7.4"
  },
  "latex_envs": {
   "LaTeX_envs_menu_present": true,
   "autoclose": false,
   "autocomplete": true,
   "bibliofile": "biblio.bib",
   "cite_by": "apalike",
   "current_citInitial": 1,
   "eqLabelWithNumbers": true,
   "eqNumInitial": 1,
   "hotkeys": {
    "equation": "Ctrl-E",
    "itemize": "Ctrl-I"
   },
   "labels_anchors": false,
   "latex_user_defs": false,
   "report_style_numbering": false,
   "user_envs_cfg": false
  },
  "toc": {
   "base_numbering": 1,
   "nav_menu": {},
   "number_sections": false,
   "sideBar": true,
   "skip_h1_title": false,
   "title_cell": "Table of Contents",
   "title_sidebar": "Contents",
   "toc_cell": false,
   "toc_position": {},
   "toc_section_display": true,
   "toc_window_display": true
  }
 },
 "nbformat": 4,
 "nbformat_minor": 2
}
