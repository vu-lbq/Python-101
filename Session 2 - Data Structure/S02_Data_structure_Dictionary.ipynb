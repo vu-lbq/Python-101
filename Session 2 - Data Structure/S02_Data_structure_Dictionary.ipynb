{
 "cells": [
  {
   "cell_type": "markdown",
   "metadata": {},
   "source": [
    "## 2. Data Structures\n",
    "\n",
    "Data structures are constructs that can contain one or more variables. \n",
    "They are containers that can store a lot of data into a single entity.\n",
    "\n",
    "**Python's four built-in data structures are:**\n",
    " * Lists\n",
    " * Dictionaries\n",
    " * Tuples\n",
    " * Sets\n",
    "\n",
    "**Note:**\n",
    "* List is a collection which is ordered and changeable. Allows duplicate members.\n",
    "* Tuple is a collection which is ordered and unchangeable. Allows duplicate members.\n",
    "* Set is a collection which is unordered, unchangeable*, and unindexed. No duplicate members.\n",
    "* Dictionary is a collection which is ordered** and changeable. No duplicate members.\n",
    " \n",
    "**There are also user-define data structure:**\n",
    "* Stack\n",
    "* Tree\n",
    "* Graph\n",
    "* Queue\n",
    "* Linked List"
   ]
  },
  {
   "cell_type": "markdown",
   "metadata": {},
   "source": [
    "### Built-in data types\n",
    "### Dictionaries\n",
    "Dictionaries have key/value pairs which are enclosed in curly brackets`{}`. A value can be fetched by querying the corresponding key. Refering the data via logically named keys instead of list indexes makes the code more readable.\n",
    "\n",
    "#### Dictionary syntax    \n",
    "    \n",
    "<code> d = {key1: value1, key2: value2, ..., key_n: value_n} </code>\n",
    "    \n",
    "Note that values can be of any data type like floats, strings etc., but they can also be lists or other data structures.\n",
    "\n",
    "**Keys must be unique within the dictionary**. Otherwise it would be hard to extract the value by calling out a certain key, see the section about indexing and slicing below.\n",
    "\n",
    "Keys also must be of an immutable type.\n",
    " \n",
    "#### Mutability\n",
    "Dictionaries are ***mutable***. They can be changed after creation.\n",
    "\n",
    "#### Dictionary examples\n",
    "Some examples of dictionaries:"
   ]
  },
  {
   "cell_type": "code",
   "execution_count": 2,
   "metadata": {},
   "outputs": [
    {
     "name": "stdout",
     "output_type": "stream",
     "text": [
      "{'axial_force': 335.2, 'moment': 101, 'shear': 26}\n",
      "{'Point01': [1, 55, 106], 'Point02': [71, 21, 3.7]}\n",
      "{1: True, 'ko': 23}\n"
     ]
    }
   ],
   "source": [
    "# Strings as keys and numbers as values\n",
    "d1 = {'axial_force': 335.2, 'moment': 101, 'shear': 26}      \n",
    "print(d1)\n",
    "\n",
    "# Strings as keys and lists as values\n",
    "d2 = {'Point01': [1, 55, 106], 'Point02': [71, 21, 3.7]}  \n",
    "print(d2)\n",
    "\n",
    "# Keys of different types (int and str, don't do this!)\n",
    "d3 = {1: True, 'ko': 23}\n",
    "print(d3)      "
   ]
  },
  {
   "cell_type": "markdown",
   "metadata": {},
   "source": [
    "The first two dictionaries above have a certain trend. \n",
    "For `d1` the keys are strings and the values are integers. \n",
    "For `d2` the keys are strings and the values are lists. \n",
    "These are well-structured dictionaries.\n",
    "\n",
    "However, `d3` has keys that are of mixed types! \n",
    "The first key is an integer and the second is a string. \n",
    "This is totally valid syntax, but not a good idea to do.\n",
    "\n",
    "As with most stuff in Python the flexibility is very nice, \n",
    "but it can also be confusing to have many different types mixed in the same data structure. \n",
    "To make code more readable, it is often preferred to keep the same trend throughout the dictionary. \n",
    "I.e. all keys are of same type and all values are of the same type as in `d1` and `d2`.\n",
    "\n",
    "The keys and values can be extracted separately by the methods `dict.keys()` and `dict.values()`:"
   ]
  },
  {
   "cell_type": "code",
   "execution_count": 4,
   "metadata": {},
   "outputs": [
    {
     "data": {
      "text/plain": [
       "dict_keys(['axial_force', 'moment', 'shear'])"
      ]
     },
     "execution_count": 4,
     "metadata": {},
     "output_type": "execute_result"
    }
   ],
   "source": [
    "d1.keys()"
   ]
  },
  {
   "cell_type": "code",
   "execution_count": 5,
   "metadata": {},
   "outputs": [
    {
     "data": {
      "text/plain": [
       "dict_values([335.2, 101, 26])"
      ]
     },
     "execution_count": 5,
     "metadata": {},
     "output_type": "execute_result"
    }
   ],
   "source": [
    "d1.values()"
   ]
  },
  {
   "cell_type": "markdown",
   "metadata": {},
   "source": [
    "### Create a Dictionary\n",
    "from zip - tuple/set/list"
   ]
  },
  {
   "cell_type": "code",
   "execution_count": 6,
   "metadata": {},
   "outputs": [
    {
     "name": "stdout",
     "output_type": "stream",
     "text": [
      "<class 'dict'>\n",
      "{1: 4, 2: 5, 3: 6}\n"
     ]
    }
   ],
   "source": [
    "#from Zip(tuple01, tuple02)\n",
    "tuple01 = (1,2,3)\n",
    "tuple02 = (4,5,6)\n",
    "a_dict = dict(zip(tuple01,tuple02))\n",
    "print(type(a_dict))\n",
    "print(a_dict)"
   ]
  },
  {
   "cell_type": "code",
   "execution_count": 7,
   "metadata": {},
   "outputs": [
    {
     "name": "stdout",
     "output_type": "stream",
     "text": [
      "<class 'dict'>\n",
      "{1: 4, 2: 5, 3: 6}\n"
     ]
    }
   ],
   "source": [
    "#from Zip(set01, set02)\n",
    "set01 = {1,2,3}\n",
    "set02 = {4,5,6}\n",
    "a_dict = dict(zip(set01,set02))\n",
    "print(type(a_dict))\n",
    "print(a_dict)"
   ]
  },
  {
   "cell_type": "code",
   "execution_count": 1,
   "metadata": {},
   "outputs": [
    {
     "name": "stdout",
     "output_type": "stream",
     "text": [
      "<class 'dict'>\n",
      "{1: 4, 2: 5, 3: 6}\n"
     ]
    }
   ],
   "source": [
    "#from Zip(list01, list02)\n",
    "list01 = [1,2,3]\n",
    "list02 = [4,5,6]\n",
    "a_dict = dict(zip(list01,list02))\n",
    "print(type(a_dict))\n",
    "print(a_dict)"
   ]
  },
  {
   "cell_type": "markdown",
   "metadata": {},
   "source": [
    "### Dictionary - Access dictionary items\n",
    "Access the items of a dictionary by referring to its key name, inside square brackets <br>\n",
    "or use the method called **get()**"
   ]
  },
  {
   "cell_type": "code",
   "execution_count": 20,
   "metadata": {},
   "outputs": [
    {
     "name": "stdout",
     "output_type": "stream",
     "text": [
      "Mustang\n"
     ]
    }
   ],
   "source": [
    "thisdict = {\n",
    "  \"brand\": \"Ford\",\n",
    "  \"model\": \"Mustang\",\n",
    "  \"year\": 1964\n",
    "}\n",
    "x = thisdict[\"model\"]\n",
    "print(x)"
   ]
  },
  {
   "cell_type": "code",
   "execution_count": 9,
   "metadata": {},
   "outputs": [
    {
     "name": "stdout",
     "output_type": "stream",
     "text": [
      "Mustang\n"
     ]
    }
   ],
   "source": [
    "y = thisdict.get('model')\n",
    "print(y)"
   ]
  },
  {
   "cell_type": "markdown",
   "metadata": {},
   "source": [
    "### Get keys - use keys() method to get all the keys of the dictionary"
   ]
  },
  {
   "cell_type": "code",
   "execution_count": 10,
   "metadata": {},
   "outputs": [
    {
     "data": {
      "text/plain": [
       "dict_keys(['brand', 'model', 'year'])"
      ]
     },
     "execution_count": 10,
     "metadata": {},
     "output_type": "execute_result"
    }
   ],
   "source": [
    "thisdict.keys()"
   ]
  },
  {
   "cell_type": "markdown",
   "metadata": {},
   "source": [
    "### Add a new item to the dictionary, the keys list will gets updated as well "
   ]
  },
  {
   "cell_type": "code",
   "execution_count": 11,
   "metadata": {},
   "outputs": [
    {
     "name": "stdout",
     "output_type": "stream",
     "text": [
      "dict_keys(['brand', 'model', 'year'])\n",
      "dict_keys(['brand', 'model', 'year', 'color'])\n"
     ]
    }
   ],
   "source": [
    "car = {\n",
    "\"brand\": \"Ford\",\n",
    "\"model\": \"Mustang\",\n",
    "\"year\": 1964\n",
    "}\n",
    "\n",
    "x = car.keys()\n",
    "\n",
    "print(x) #before the change\n",
    "\n",
    "car[\"color\"] = \"white\"\n",
    "\n",
    "print(x) #after the change"
   ]
  },
  {
   "cell_type": "markdown",
   "metadata": {},
   "source": [
    "### Dictionary - Get values"
   ]
  },
  {
   "cell_type": "code",
   "execution_count": 16,
   "metadata": {},
   "outputs": [
    {
     "name": "stdout",
     "output_type": "stream",
     "text": [
      "dict_values(['Ford', 'Mustang', 1964])\n"
     ]
    }
   ],
   "source": [
    "x = thisdict.values()\n",
    "print(x)"
   ]
  },
  {
   "cell_type": "markdown",
   "metadata": {},
   "source": [
    "### Copy dictionary"
   ]
  },
  {
   "cell_type": "code",
   "execution_count": 23,
   "metadata": {},
   "outputs": [
    {
     "name": "stdout",
     "output_type": "stream",
     "text": [
      "{'brand': 'Audi', 'model': 'Mustang', 'year': 1964}\n",
      "{'brand': 'Ford', 'model': 'Mustang', 'year': 1964}\n"
     ]
    }
   ],
   "source": [
    "import copy\n",
    "# Shallow copy\n",
    "shallowdict = copy.copy(thisdict)\n",
    "shallowdict['brand'] = \"Audi\"\n",
    "print(shallowdict)\n",
    "print(thisdict)"
   ]
  },
  {
   "cell_type": "code",
   "execution_count": 24,
   "metadata": {},
   "outputs": [
    {
     "name": "stdout",
     "output_type": "stream",
     "text": [
      "{'brand': 'Toyota', 'model': 'Mustang', 'year': 1964}\n",
      "{'brand': 'Ford', 'model': 'Mustang', 'year': 1964}\n"
     ]
    }
   ],
   "source": [
    "# Deep copy\n",
    "deepcopydict = copy.deepcopy(thisdict)\n",
    "deepcopydict[\"brand\"] = \"Toyota\"\n",
    "print(deepcopydict)\n",
    "print(thisdict)\n"
   ]
  }
 ],
 "metadata": {
  "kernelspec": {
   "display_name": "Python 3",
   "language": "python",
   "name": "python3"
  },
  "language_info": {
   "codemirror_mode": {
    "name": "ipython",
    "version": 3
   },
   "file_extension": ".py",
   "mimetype": "text/x-python",
   "name": "python",
   "nbconvert_exporter": "python",
   "pygments_lexer": "ipython3",
   "version": "3.11.4"
  },
  "orig_nbformat": 4
 },
 "nbformat": 4,
 "nbformat_minor": 2
}
