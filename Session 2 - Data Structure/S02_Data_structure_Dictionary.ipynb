{
 "cells": [
  {
   "cell_type": "markdown",
   "metadata": {},
   "source": [
    "## 2. Data Structures\n",
    "\n",
    "Data structures are constructs that can contain one or more variables. \n",
    "They are containers that can store a lot of data into a single entity.\n",
    "\n",
    "**Python's four built-in data structures are:**\n",
    " * Lists\n",
    " * Dictionaries\n",
    " * Tuples\n",
    " * Sets\n",
    " \n",
    "**There are also user-define data structure:**\n",
    "* Stack\n",
    "* Tree\n",
    "* Graph\n",
    "* Queue\n",
    "* Linked List"
   ]
  },
  {
   "cell_type": "markdown",
   "metadata": {},
   "source": [
    "### Built-in data types\n",
    "#### Dictionaries\n",
    "Dictionaries have key/value pairs which are enclosed in curly brackets`{}`. A value can be fetched by querying the corresponding key. Refering the data via logically named keys instead of list indexes makes the code more readable.\n",
    "\n",
    "#### Dictionary syntax    \n",
    "    \n",
    "<code> d = {key1: value1, key2: value2, ..., key_n: value_n} </code>\n",
    "    \n",
    "Note that values can be of any data type like floats, strings etc., but they can also be lists or other data structures.\n",
    "\n",
    "**Keys must be unique within the dictionary**. Otherwise it would be hard to extract the value by calling out a certain key, see the section about indexing and slicing below.\n",
    "\n",
    "Keys also must be of an immutable type.\n",
    " \n",
    "#### Mutability\n",
    "Dictionaries are ***mutable***. They can be changed after creation.\n",
    "\n",
    "#### Dictionary examples\n",
    "Some examples of dictionaries:"
   ]
  }
 ],
 "metadata": {
  "language_info": {
   "name": "python"
  },
  "orig_nbformat": 4
 },
 "nbformat": 4,
 "nbformat_minor": 2
}
