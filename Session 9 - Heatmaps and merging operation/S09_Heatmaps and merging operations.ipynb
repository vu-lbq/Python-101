{
 "cells": [
  {
   "cell_type": "markdown",
   "metadata": {},
   "source": [
    "# 9. Heatmaps and Merging Operations\n",
    "\n",
    "\n",
    "## Heatmaps\n",
    "A `pandas` dataframe can be visualized by means of a so-called heatmap. A heatmap consists of tiles at each data point that adheres to a chosen color palette.\n",
    "\n",
    "Many plotting libraries offer the possibility of creating heatmaps. A common one is called `seaborn`, which is built on top of `matplotlib` to enhance certain plot types.\n",
    "\n",
    "Before the dataframe can be plotted to a heatmap, it needs to be in the right format. \n",
    "If we for example have a dataframe with $x$-values in one column, $y$-values in another and the values to be plotted in a third column we can pivot the data to a new dataframe:"
   ]
  },
  {
   "cell_type": "code",
   "execution_count": 1,
   "metadata": {},
   "outputs": [
    {
     "data": {
      "text/html": [
       "<div>\n",
       "<style scoped>\n",
       "    .dataframe tbody tr th:only-of-type {\n",
       "        vertical-align: middle;\n",
       "    }\n",
       "\n",
       "    .dataframe tbody tr th {\n",
       "        vertical-align: top;\n",
       "    }\n",
       "\n",
       "    .dataframe thead th {\n",
       "        text-align: right;\n",
       "    }\n",
       "</style>\n",
       "<table border=\"1\" class=\"dataframe\">\n",
       "  <thead>\n",
       "    <tr style=\"text-align: right;\">\n",
       "      <th></th>\n",
       "      <th>x</th>\n",
       "      <th>y</th>\n",
       "      <th>values</th>\n",
       "    </tr>\n",
       "  </thead>\n",
       "  <tbody>\n",
       "    <tr>\n",
       "      <th>0</th>\n",
       "      <td>1</td>\n",
       "      <td>a</td>\n",
       "      <td>34</td>\n",
       "    </tr>\n",
       "    <tr>\n",
       "      <th>1</th>\n",
       "      <td>1</td>\n",
       "      <td>b</td>\n",
       "      <td>74</td>\n",
       "    </tr>\n",
       "    <tr>\n",
       "      <th>2</th>\n",
       "      <td>1</td>\n",
       "      <td>c</td>\n",
       "      <td>1</td>\n",
       "    </tr>\n",
       "    <tr>\n",
       "      <th>3</th>\n",
       "      <td>2</td>\n",
       "      <td>a</td>\n",
       "      <td>9</td>\n",
       "    </tr>\n",
       "    <tr>\n",
       "      <th>4</th>\n",
       "      <td>2</td>\n",
       "      <td>b</td>\n",
       "      <td>-36</td>\n",
       "    </tr>\n",
       "    <tr>\n",
       "      <th>5</th>\n",
       "      <td>2</td>\n",
       "      <td>c</td>\n",
       "      <td>-24</td>\n",
       "    </tr>\n",
       "    <tr>\n",
       "      <th>6</th>\n",
       "      <td>3</td>\n",
       "      <td>a</td>\n",
       "      <td>47</td>\n",
       "    </tr>\n",
       "    <tr>\n",
       "      <th>7</th>\n",
       "      <td>3</td>\n",
       "      <td>b</td>\n",
       "      <td>-27</td>\n",
       "    </tr>\n",
       "    <tr>\n",
       "      <th>8</th>\n",
       "      <td>3</td>\n",
       "      <td>c</td>\n",
       "      <td>47</td>\n",
       "    </tr>\n",
       "  </tbody>\n",
       "</table>\n",
       "</div>"
      ],
      "text/plain": [
       "   x  y  values\n",
       "0  1  a      34\n",
       "1  1  b      74\n",
       "2  1  c       1\n",
       "3  2  a       9\n",
       "4  2  b     -36\n",
       "5  2  c     -24\n",
       "6  3  a      47\n",
       "7  3  b     -27\n",
       "8  3  c      47"
      ]
     },
     "execution_count": 1,
     "metadata": {},
     "output_type": "execute_result"
    }
   ],
   "source": [
    "import pandas as pd\n",
    "\n",
    "# Creata a dummy dataframe\n",
    "df = pd.DataFrame({\n",
    "    'x': [1, 1, 1, 2, 2, 2, 3, 3, 3],\n",
    "    'y': ['a', 'b', 'c', 'a', 'b', 'c', 'a', 'b', 'c'],\n",
    "    'values': [34, 74, 1, 9, -36, -24, 47, -27, 47]})\n",
    "\n",
    "df"
   ]
  },
  {
   "cell_type": "code",
   "execution_count": 2,
   "metadata": {},
   "outputs": [
    {
     "data": {
      "text/html": [
       "<div>\n",
       "<style scoped>\n",
       "    .dataframe tbody tr th:only-of-type {\n",
       "        vertical-align: middle;\n",
       "    }\n",
       "\n",
       "    .dataframe tbody tr th {\n",
       "        vertical-align: top;\n",
       "    }\n",
       "\n",
       "    .dataframe thead th {\n",
       "        text-align: right;\n",
       "    }\n",
       "</style>\n",
       "<table border=\"1\" class=\"dataframe\">\n",
       "  <thead>\n",
       "    <tr style=\"text-align: right;\">\n",
       "      <th>x</th>\n",
       "      <th>1</th>\n",
       "      <th>2</th>\n",
       "      <th>3</th>\n",
       "    </tr>\n",
       "    <tr>\n",
       "      <th>y</th>\n",
       "      <th></th>\n",
       "      <th></th>\n",
       "      <th></th>\n",
       "    </tr>\n",
       "  </thead>\n",
       "  <tbody>\n",
       "    <tr>\n",
       "      <th>a</th>\n",
       "      <td>34</td>\n",
       "      <td>9</td>\n",
       "      <td>47</td>\n",
       "    </tr>\n",
       "    <tr>\n",
       "      <th>b</th>\n",
       "      <td>74</td>\n",
       "      <td>-36</td>\n",
       "      <td>-27</td>\n",
       "    </tr>\n",
       "    <tr>\n",
       "      <th>c</th>\n",
       "      <td>1</td>\n",
       "      <td>-24</td>\n",
       "      <td>47</td>\n",
       "    </tr>\n",
       "  </tbody>\n",
       "</table>\n",
       "</div>"
      ],
      "text/plain": [
       "x   1   2   3\n",
       "y            \n",
       "a  34   9  47\n",
       "b  74 -36 -27\n",
       "c   1 -24  47"
      ]
     },
     "execution_count": 2,
     "metadata": {},
     "output_type": "execute_result"
    }
   ],
   "source": [
    "# Pivot the dataframe\n",
    "df_pivot = df.pivot(index='y', columns='x', values='values')\n",
    "df_pivot"
   ]
  },
  {
   "cell_type": "markdown",
   "metadata": {},
   "source": [
    "\n",
    "A heatmap can be created from a dataframe like this:\n",
    "\n"
   ]
  },
  {
   "cell_type": "code",
   "execution_count": 4,
   "metadata": {},
   "outputs": [
    {
     "data": {
      "text/plain": [
       "<matplotlib.axes._subplots.AxesSubplot at 0x20f83b949c8>"
      ]
     },
     "execution_count": 4,
     "metadata": {},
     "output_type": "execute_result"
    },
    {
     "data": {
      "image/png": "[encoded data removed]",
      "text/plain": [
       "<Figure size 432x288 with 2 Axes>"
      ]
     },
     "metadata": {
      "needs_background": "light"
     },
     "output_type": "display_data"
    }
   ],
   "source": [
    "import seaborn as sns\n",
    "\n",
    "# Plot the pivotted dataframe as a heatmap\n",
    "sns.heatmap(df_pivot, annot=True)"
   ]
  },
  {
   "cell_type": "markdown",
   "metadata": {},
   "source": [
    "> **Note:** Make sure you have installed the `seaborn` library before using this. Otherwise a `ModuleNotFoundError` will be raised.\n",
    "\n",
    "## Heatmap parameters\n",
    "`seaborn.heatmap` has many parameters for tweaking the appearance of the colormap. Often a bunch of them are needed to create a good looking plot. \n",
    "\n",
    "Special attention should be paid to choosing a colormap that fits the dataset well. \n",
    "\n",
    ">**A poor chosen colormap can be very misleading to the reader of the plot, while a well-chosen one can convey the overall message to the reader in very few seconds.**\n",
    "\n",
    "See https://seaborn.pydata.org/generated/seaborn.heatmap.html\n",
    "\n",
    "Some of the parameters for `seaborn.heatmap`:\n",
    "\n",
    "* `annot=True` for annotating the value in each tile.\n",
    "* `fmt` to set the number of decimals for the annotated tiles. Set equal to `\".0f\"` for 0 decimals.\n",
    "* `annot_kws={'size': 10}` for setting font size of annotated tiles to 10.\n",
    "* `square=True` for ensuring that tiles are square.\n",
    "* `cmap=name_of_colormap` for controlling the colormap (see available colormaps here: https://matplotlib.org/users/colormaps.html, be sure to choose one that fits the content of the data).\n",
    "* `vmin` and `vmax` to define the min and max values of the colormap (and colorbar).\n",
    "* `cbar_kws={\"orientation\": \"horizontal\"}` for orientation of the colorbar. Here set to horizontal but is vertical as default.\n"
   ]
  },
  {
   "cell_type": "markdown",
   "metadata": {},
   "source": [
    "## Merge operations on dataframes\n",
    "\n",
    "Merge operations provide very powerful manipulation techniques in `pandas`. We are only going to look at a simple example here, which will perform an operation similar to Excel's `VLOOKUP`.\n",
    "\n",
    "---\n",
    "~~~python\n",
    "# Merge df1 and df2 on <column_to_merge_on>, retain only rows from df1  (similar to Excel VLOOKUP)\n",
    "df_merged = df1.merge(df2, on='<column_to_merge_on>', how='left')\n",
    "~~~\n",
    "---\n",
    "\n",
    "See this page of the `pandas` documentation for more on merging, joining and concatenating DataFrames: https://pandas.pydata.org/pandas-docs/stable/user_guide/merging.html"
   ]
  },
  {
   "cell_type": "markdown",
   "metadata": {},
   "source": [
    "# Exercise 1\n",
    "\n",
    "The file `piles.csv` in the session folder contains some steel piles and their profile type. Use `steel_profiles.csv` to insert the cross sectional parameters in each pile row. Use the merging operation described above.  "
   ]
  },
  {
   "cell_type": "markdown",
   "metadata": {},
   "source": [
    "# Exercise 2\n",
    "\n",
    "The file `crack_width_Seg7_y_direction.csv` has results of a crack width calculation for a concrete slab. \n",
    "\n",
    "While doing the exercises below, recall that `df.head()` will print the first five rows of `df`.\n",
    "\n",
    "## Exercise 2.1\n",
    "Load the file `crack_width_Seg7_y_direction.csv` into a dataframe. Filter the dataframe so it only contains rows where the `criterion` column is `max My`.\n",
    "\n",
    "## Exercise 2.2 \n",
    "Pivot the dataframe and save it to a new dataframe. Use column `'y[m]'` as index, column `'x[m]'` as columns and column `'w_k[mm]'` as values.\n",
    "\n",
    "## Exercise 2.3\n",
    "Create a heatmap of the pivotted dataframe. Use parameters of your choice from the ones described above or in the `pandas` documentation.\n",
    "\n",
    "Be sure to choose a colormap, the default one is awful. The maximum allowable crack width for this concrete slab is $w_{k.max} = 0.30$mm.\n"
   ]
  }
 ],
 "metadata": {
  "hide_input": false,
  "kernelspec": {
   "display_name": "Python 3",
   "language": "python",
   "name": "python3"
  },
  "language_info": {
   "codemirror_mode": {
    "name": "ipython",
    "version": 3
   },
   "file_extension": ".py",
   "mimetype": "text/x-python",
   "name": "python",
   "nbconvert_exporter": "python",
   "pygments_lexer": "ipython3",
   "version": "3.7.4"
  },
  "latex_envs": {
   "LaTeX_envs_menu_present": true,
   "autoclose": false,
   "autocomplete": true,
   "bibliofile": "biblio.bib",
   "cite_by": "apalike",
   "current_citInitial": 1,
   "eqLabelWithNumbers": true,
   "eqNumInitial": 1,
   "hotkeys": {
    "equation": "Ctrl-E",
    "itemize": "Ctrl-I"
   },
   "labels_anchors": false,
   "latex_user_defs": false,
   "report_style_numbering": false,
   "user_envs_cfg": false
  },
  "toc": {
   "base_numbering": 1,
   "nav_menu": {},
   "number_sections": false,
   "sideBar": true,
   "skip_h1_title": false,
   "title_cell": "Table of Contents",
   "title_sidebar": "Table of Contents",
   "toc_cell": false,
   "toc_position": {},
   "toc_section_display": true,
   "toc_window_display": true
  }
 },
 "nbformat": 4,
 "nbformat_minor": 2
}
