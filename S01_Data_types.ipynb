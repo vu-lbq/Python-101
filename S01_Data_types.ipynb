{
 "cells": [
  {
   "attachments": {},
   "cell_type": "markdown",
   "metadata": {},
   "source": [
    "# 1. Data Types\n",
    "\n",
    "Use a locally installed editor like Pycharm or Visual Studio Code. \n",
    "If you want to try out coding without installing anything, try this online editor: https://www.pythonanywhere.com/try-ipython/\n",
    "or you can use Google Colab: https://colab.research.google.com/\n",
    "\n",
    "## Code comments\n",
    "In order to explain the code, comments in Python can be made by preceding a line with a hashtag `#`. Everything on that particular line will then not be interpreted as part of the code:\n",
    "\n",
    "```python\n",
    "# This is a comment and will not be interpreted as code\n",
    "```\n",
    "\n",
    "The first section is about data types that are illustrated below.\n",
    "## Data Types\n",
    "The basic data types in Python "
   ]
  },
  {
   "cell_type": "code",
   "execution_count": 4,
   "metadata": {},
   "outputs": [],
   "source": [
    "# Integers (int)\n",
    "a = 23\n",
    "b = 4"
   ]
  },
  {
   "cell_type": "code",
   "execution_count": null,
   "metadata": {},
   "outputs": [],
   "source": [
    "# Floats\n",
    "f = 27.8\n",
    "l = 1990.0"
   ]
  },
  {
   "cell_type": "code",
   "execution_count": 5,
   "metadata": {},
   "outputs": [],
   "source": [
    "#Strings\n",
    "text = 'Hello world!'\n",
    "my_text = \"This is my text\""
   ]
  },
  {
   "attachments": {},
   "cell_type": "markdown",
   "metadata": {},
   "source": [
    "Both `\"` and `'` can be used to denote strings. If the apostrophe character should be part of the string, use `\"` as outer boundaries:\n",
    "~~~~python\n",
    "\"An's computer Revit version is 2024\"\n",
    "~~~~\n",
    "Alternatively, `\\` can be used as an *escape* character:"
   ]
  },
  {
   "cell_type": "code",
   "execution_count": 7,
   "metadata": {},
   "outputs": [
    {
     "data": {
      "text/plain": [
       "\"An's computer Revit version is 2024\""
      ]
     },
     "execution_count": 7,
     "metadata": {},
     "output_type": "execute_result"
    }
   ],
   "source": [
    "'An\\'s computer Revit version is 2024'"
   ]
  },
  {
   "cell_type": "code",
   "execution_count": null,
   "metadata": {},
   "outputs": [],
   "source": [
    "#Boolean\n",
    "x = True\n",
    "y = False"
   ]
  },
  {
   "attachments": {},
   "cell_type": "markdown",
   "metadata": {},
   "source": [
    "## Calculations with data types\n",
    "Basic operations on integers and floats: addition, subtraction, multiplication:"
   ]
  },
  {
   "cell_type": "code",
   "execution_count": 1,
   "metadata": {},
   "outputs": [
    {
     "data": {
      "text/plain": [
       "8"
      ]
     },
     "execution_count": 1,
     "metadata": {},
     "output_type": "execute_result"
    }
   ],
   "source": [
    "2 * 4\n",
    "2 / 5\n",
    "3.1 + 7.4"
   ]
  },
  {
   "attachments": {},
   "cell_type": "markdown",
   "metadata": {},
   "source": [
    "### Exponents \n",
    "Exponents are denoted by `**`:"
   ]
  },
  {
   "cell_type": "code",
   "execution_count": null,
   "metadata": {},
   "outputs": [],
   "source": [
    "2**3"
   ]
  },
  {
   "attachments": {},
   "cell_type": "markdown",
   "metadata": {},
   "source": [
    "### Floor division\n",
    "returns the integer part of a division result (removes decimals after division)"
   ]
  },
  {
   "cell_type": "code",
   "execution_count": 1,
   "metadata": {},
   "outputs": [
    {
     "data": {
      "text/plain": [
       "3"
      ]
     },
     "execution_count": 1,
     "metadata": {},
     "output_type": "execute_result"
    }
   ],
   "source": [
    "10 // 3"
   ]
  },
  {
   "attachments": {},
   "cell_type": "markdown",
   "metadata": {},
   "source": [
    "### Modulo\n",
    "returns the remainder after a division"
   ]
  },
  {
   "cell_type": "code",
   "execution_count": null,
   "metadata": {},
   "outputs": [],
   "source": [
    "10 % 3"
   ]
  }
 ],
 "metadata": {
  "kernelspec": {
   "display_name": "Python 3",
   "language": "python",
   "name": "python3"
  },
  "language_info": {
   "codemirror_mode": {
    "name": "ipython",
    "version": 3
   },
   "file_extension": ".py",
   "mimetype": "text/x-python",
   "name": "python",
   "nbconvert_exporter": "python",
   "pygments_lexer": "ipython3",
   "version": "3.10.4"
  },
  "orig_nbformat": 4
 },
 "nbformat": 4,
 "nbformat_minor": 2
}
